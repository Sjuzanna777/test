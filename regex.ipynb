{
 "cells": [
  {
   "cell_type": "markdown",
   "metadata": {},
   "source": [
    "**Задание 1.** Напишите функцию, которая принимает на вход строку и проверяет является ли она валидным транспортным номером. Если да, то функция должна возвращать отдельно номер и регион."
   ]
  },
  {
   "cell_type": "code",
   "execution_count": 12,
   "metadata": {},
   "outputs": [],
   "source": [
    "import re\n",
    "numbers_auto = ('AB123C216', 'АС125В213')\n"
   ]
  },
  {
   "cell_type": "code",
   "execution_count": 13,
   "metadata": {},
   "outputs": [
    {
     "name": "stdout",
     "output_type": "stream",
     "text": [
      "Номер авто AB123C216 недействительный\n",
      "[('АС125В', '213')]\n"
     ]
    }
   ],
   "source": [
    "rege = '([А-Яа-я]{2})([0-9]{3})([А-Яа-я]{1})(\\d+)'\n",
    "\n",
    "def valid_auto(numbers_auto):\n",
    "    for number_auto in numbers_auto:\n",
    "        if re.match(rege, number_auto):\n",
    "            number_region = re.findall('([А-Яа-а0-9]{6})(\\d+)', number_auto)\n",
    "            print(number_region)\n",
    "        else:\n",
    "            print('Номер авто {} недействительный'.format(number_auto))\n",
    "valid_auto(numbers_auto)  "
   ]
  },
  {
   "cell_type": "markdown",
   "metadata": {},
   "source": [
    "**Задание 2**. Напишите функцию, которая проверяет e-mail адрес на валидность по стандарту RFC822: http://www.w3.org/Protocols/rfc822/. Для этого постарайтесь написать (в крайнем случае найти) самый полный шаблон для проверки e-mail адресов через регулярное выражение. Разберитесь и напишите примеры, какие ваш шаблон может не охватить."
   ]
  },
  {
   "cell_type": "code",
   "execution_count": 16,
   "metadata": {},
   "outputs": [
    {
     "name": "stdout",
     "output_type": "stream",
     "text": [
      "s@gmail.com\n"
     ]
    },
    {
     "data": {
      "text/plain": [
       "'Valid email.'"
      ]
     },
     "execution_count": 16,
     "metadata": {},
     "output_type": "execute_result"
    }
   ],
   "source": [
    "email = input()\n",
    "\n",
    "import re\n",
    "def validate(email): \n",
    "    match=re.search(r\"(^[a-zA-Z0-9_.+-]+@[a-zA-Z0-9]+\\.[a-zA-Z0-9.]*\\.*[com|org|edu|ru]{3}$)\",email)\n",
    "    if match:\n",
    "        return 'Valid email.'\n",
    "    else:\n",
    "        return 'Invalid email.'\n",
    "\n",
    "validate(email)"
   ]
  },
  {
   "cell_type": "markdown",
   "metadata": {},
   "source": [
    "**Задание 3.** Напишите функцию, которая будет удалять все последовательные повторы слов из заданной строки при помощи регулярных выражений."
   ]
  },
  {
   "cell_type": "code",
   "execution_count": 4,
   "metadata": {},
   "outputs": [
    {
     "name": "stdout",
     "output_type": "stream",
     "text": [
      "Сегодня погода прекрасная\n"
     ]
    }
   ],
   "source": [
    "# re.sub('(\\d)+', r'\\1', numbers) \n",
    "\n",
    "import re\n",
    "\n",
    "s = \"Сегодня погода! погода прекрасная прекрасная!\"\n",
    "print( re.sub(r'\\b([^\\W\\d_]+)(\\s+\\1)+\\b', r'\\1', re.sub(r'\\W+', ' ', s).strip()) )"
   ]
  },
  {
   "cell_type": "markdown",
   "metadata": {},
   "source": [
    "**Задание 4**. Напишите функцию, которая будет проверять номер сотового телефона на валидность, если он валиден, то переводить его в формат:   \n",
    "+7(xxx)-xxx-xx-xx  \n",
    "Постарайтесь предусмотреть как можно больше адекватных форматов изначального ввода номера.\n",
    "Примеры валидных форматов:\n",
    "- +7 955 555-55-55;\n",
    "- 9555555555;\n",
    "- 8(955)555-55-55;\n",
    "- +7 955 555 55 55;\n",
    "- 7(955) 555-55-55;\n",
    "- +7 955+555+55+55."
   ]
  },
  {
   "cell_type": "code",
   "execution_count": 18,
   "metadata": {},
   "outputs": [
    {
     "name": "stdout",
     "output_type": "stream",
     "text": [
      "+7(965)-733-55-67\n"
     ]
    }
   ],
   "source": [
    "import re\n",
    "tel = ['+7965833-55-67']\n",
    "\n",
    "tel_reg = '^((8|\\+?7)[\\- ]?)?(\\(?\\d{3}\\)?[\\- ]?)?[-\\d\\-+ ]{7,10}$'\n",
    "\n",
    "def valid_tel(tel):\n",
    "    for val in tel:\n",
    "        if re.match(tel_reg, val):\n",
    "                      \n",
    "            for i in range(len(tel)): # изменяем все номера, в том числе и введенный. приводим к одному виду\n",
    "                m = tel[i].replace('-', '').replace('(', '').replace(')', '').replace('8', '+7').replace('+','').replace(' ','')\n",
    "                if len(tel[i]) < 11:\n",
    "                    m = '+7' + tel[i][0:]\n",
    "    \n",
    "            print('+{}({})-{}-{}-{}'.format(m[0], m[1:4], m[4:7], m[7:9], m[9:11]))            \n",
    "         \n",
    "        else:\n",
    "            print('Error in number')\n",
    "\n",
    "valid_tel(tel)\n"
   ]
  }
 ],
 "metadata": {
  "kernelspec": {
   "display_name": "Python 3",
   "language": "python",
   "name": "python3"
  },
  "language_info": {
   "codemirror_mode": {
    "name": "ipython",
    "version": 3
   },
   "file_extension": ".py",
   "mimetype": "text/x-python",
   "name": "python",
   "nbconvert_exporter": "python",
   "pygments_lexer": "ipython3",
   "version": "3.7.4"
  }
 },
 "nbformat": 4,
 "nbformat_minor": 2
}
