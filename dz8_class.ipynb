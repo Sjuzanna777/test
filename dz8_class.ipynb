{
 "cells": [
  {
   "cell_type": "markdown",
   "metadata": {},
   "source": [
    "Задание 1\n",
    "Напишите функцию, которая возвращает название валюты (поле ‘Name’) с максимальным значением курса с помощью сервиса https://www.cbr-xml-daily.ru/daily_json.js"
   ]
  },
  {
   "cell_type": "code",
   "execution_count": 31,
   "metadata": {},
   "outputs": [],
   "source": [
    "import requests"
   ]
  },
  {
   "cell_type": "code",
   "execution_count": 2,
   "metadata": {},
   "outputs": [
    {
     "name": "stdout",
     "output_type": "stream",
     "text": [
      "Австралийский доллар\n"
     ]
    }
   ],
   "source": [
    "def max_currency_value():\n",
    "    all_currencies = {}\n",
    "    r = requests.get('https://www.cbr-xml-daily.ru/daily_json.js')\n",
    "    response = r.json()['Valute']\n",
    "    for i in response:\n",
    "        all_currencies[i] = response[i]['Value']\n",
    "        max_currencies_value_name = max(all_currencies.keys(),key =(lambda x : all_currencies[x]))\n",
    "        return response[max_currencies_value_name]['Name']\n",
    "\n",
    "print(max_currency_value())"
   ]
  },
  {
   "cell_type": "markdown",
   "metadata": {},
   "source": [
    "Задание 2\n",
    "Добавьте в класс Rate параметр diff (со значениями True или False), который в случае значения True в методах eur и usd будет возвращать не курс валюты, а изменение по сравнению в прошлым значением. Считайте, self.diff будет принимать значение True только при возврате значения курса. При отображении всей информации о валюте он не используется."
   ]
  },
  {
   "cell_type": "code",
   "execution_count": 3,
   "metadata": {},
   "outputs": [
    {
     "name": "stdout",
     "output_type": "stream",
     "text": [
      "Наименование валюты: Доллар США\n",
      "Изменение по сравнению в прошлым значением : -0.22030000000000882\n"
     ]
    }
   ],
   "source": [
    "class Rate:\n",
    "    def __init__(self, format = 'value', diff = False):\n",
    "        self.format = format\n",
    "        self.__diff = diff\n",
    "\n",
    "    def exchange_rates(self):\n",
    "        \"\"\"\n",
    "        Возвращает ответ сервиса с информацией о валютах в виде:\n",
    "        {\n",
    "            'AMD': {\n",
    "                'CharCode': 'AMD',\n",
    "                'ID': 'R01060',\n",
    "                'Name': 'Армянских драмов',\n",
    "                'Nominal': 100,\n",
    "                'NumCode': '051',\n",
    "                'Previous': 14.103,\n",
    "                'Value': 14.0879\n",
    "                },\n",
    "            ...\n",
    "        }\n",
    "        \"\"\"\n",
    "        r = requests.get('https://www.cbr-xml-daily.ru/daily_json.js')\n",
    "        return r.json()['Valute']\n",
    "\n",
    "    def make_format(self, currency):\n",
    "        \"\"\"\n",
    "        Возвращает информацию о валюте currency в двух вариантах:\n",
    "        - полная информация о валюте при self.format = 'full':\n",
    "        Rate('full').make_format('EUR')\n",
    "        {\n",
    "            'CharCode': 'EUR',\n",
    "            'ID': 'R01239',\n",
    "            'Name': 'Евро',\n",
    "            'Nominal': 1,\n",
    "            'NumCode': '978',\n",
    "            'Previous': 79.6765,\n",
    "            'Value': 79.4966\n",
    "        }\n",
    "        Rate('value').make_format('EUR')\n",
    "        79.4966\n",
    "        \"\"\"\n",
    "        response = self.exchange_rates()\n",
    "\n",
    "        if currency in response:\n",
    "            if self.format == 'full':\n",
    "                return response[currency]\n",
    "\n",
    "            if self.format == 'value':\n",
    "                return response[currency]['Value']\n",
    "\n",
    "            if self.format == 'name':\n",
    "                return response[currency]['Name']\n",
    "\n",
    "        return 'Error'\n",
    "\n",
    "    def eur(self):\n",
    "        \"\"\"Возвращает курс евро на сегодня в формате self.format\"\"\"\n",
    "        return self.__get_format_response('EUR')\n",
    "\n",
    "    def usd(self):\n",
    "        \"\"\"Возвращает курс доллара на сегодня в формате self.format\"\"\"\n",
    "        return self.__get_format_response('USD')\n",
    "\n",
    "    def __get_currency_diff(self, currency_code):\n",
    "        resp = self.exchange_rates()\n",
    "\n",
    "        if currency_code in resp:\n",
    "            return resp[currency_code]['Value'] - resp[currency_code]['Previous']\n",
    "\n",
    "    def __get_format_response(self, currency_code):\n",
    "        return self.make_format(currency_code) if not self.__diff else self.__get_currency_diff(currency_code)\n",
    "\n",
    "\n",
    "print(f'Наименование валюты: {Rate(format = \"name\").usd()}')\n",
    "print(f'Изменение по сравнению в прошлым значением : {Rate(diff = True).usd()}')\n",
    "\n"
   ]
  },
  {
   "cell_type": "markdown",
   "metadata": {},
   "source": [
    "Задание 3\n",
    "Напишите класс Designer, который учитывает количество международных премий. Подсказки в коде занятия в разделе “Домашнее задание задача 3”."
   ]
  },
  {
   "cell_type": "markdown",
   "metadata": {},
   "source": [
    "Напишите класс Designer, который учитывает количество международных премий для дизайнеров (из презентации: \"Повышение на 1 грейд за каждые 7 баллов. Получение международной премии – это +2 балла\"). Считайте, что при выходе на работу сотрудник уже имеет две премии и их количество не меняется со стажем (конечно если хотите это можно вручную менять). Выполните проверку для 20 аккредитаций дизайнера Елены."
   ]
  },
  {
   "cell_type": "code",
   "execution_count": 32,
   "metadata": {},
   "outputs": [],
   "source": [
    "class Employee:\n",
    "    def __init__(self, name, seniority):\n",
    "        self.name = name\n",
    "        self.seniority = seniority\n",
    "        self.grade = 1\n",
    "    \n",
    "    def grade_up(self):\n",
    "        self.grade += 1\n",
    "    \n",
    "    def publish_grade(self):\n",
    "        print(self.name, self.grade)\n",
    "  \n",
    "    def check_if_it_is_time_for_upgrade(self):\n",
    "        pass"
   ]
  },
  {
   "cell_type": "code",
   "execution_count": 36,
   "metadata": {},
   "outputs": [],
   "source": [
    "class Designer(Employee):\n",
    "    def __init__(self, name, seniority, awards):\n",
    "        \n",
    "        super().__init__(name, seniority)\n",
    "        self.awards = awards\n",
    "        \n",
    "        self.designawards = 2 # количество баллов за международную премию\n",
    "        \n",
    "        self.seniority += self.awards * self.designawards\n",
    "            \n",
    "        self.seniority += self.awards\n",
    "    \n",
    "    def check_if_it_is_time_for_upgrade(self):\n",
    "        \n",
    "        if not self.seniority % 10:\n",
    "            self.seniority += 1\n",
    "        else:\n",
    "            self.awards = 1\n",
    "            stepwithsen = self.seniority + self.designawards * self.awards\n",
    "            \n",
    "            while self.seniority <= stepwithsen:\n",
    "                \n",
    "                self.seniority += 1\n",
    "                \n",
    "                if self.seniority % 6 == 0:\n",
    "                    self.grade_up()\n",
    "                    \n",
    "                if self.seniority % 7 == 0:\n",
    "                    self.grade_up()\n",
    "\n",
    "\n",
    "        return self.publish_grade()"
   ]
  },
  {
   "cell_type": "code",
   "execution_count": 41,
   "metadata": {},
   "outputs": [],
   "source": [
    "elena = Designer('Елена', seniority = 0, awards = 2)"
   ]
  },
  {
   "cell_type": "code",
   "execution_count": 42,
   "metadata": {},
   "outputs": [
    {
     "name": "stdout",
     "output_type": "stream",
     "text": [
      "Елена 2\n",
      "Елена 3\n",
      "Елена 4\n",
      "Елена 5\n",
      "Елена 6\n",
      "Елена 7\n",
      "Елена 7\n",
      "Елена 9\n",
      "Елена 9\n",
      "Елена 9\n",
      "Елена 11\n",
      "Елена 11\n",
      "Елена 11\n",
      "Елена 13\n",
      "Елена 13\n",
      "Елена 15\n",
      "Елена 15\n",
      "Елена 16\n",
      "Елена 17\n",
      "Елена 18\n"
     ]
    }
   ],
   "source": [
    "for i in range(20):\n",
    "    elena.check_if_it_is_time_for_upgrade()"
   ]
  }
 ],
 "metadata": {
  "kernelspec": {
   "display_name": "Python 3",
   "language": "python",
   "name": "python3"
  },
  "language_info": {
   "codemirror_mode": {
    "name": "ipython",
    "version": 3
   },
   "file_extension": ".py",
   "mimetype": "text/x-python",
   "name": "python",
   "nbconvert_exporter": "python",
   "pygments_lexer": "ipython3",
   "version": "3.7.4"
  }
 },
 "nbformat": 4,
 "nbformat_minor": 2
}
