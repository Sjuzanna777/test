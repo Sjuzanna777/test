{
 "cells": [
  {
   "cell_type": "markdown",
   "metadata": {},
   "source": [
    "##### Градиенты"
   ]
  },
  {
   "cell_type": "code",
   "execution_count": 2,
   "metadata": {},
   "outputs": [],
   "source": [
    "import numpy as np\n",
    "from scipy.misc import derivative, electrocardiogram\n",
    "from scipy.optimize import minimize, approx_fprime, fmin, brute\n",
    "from scipy.signal import find_peaks\n",
    "import matplotlib.pyplot as plt "
   ]
  },
  {
   "cell_type": "markdown",
   "metadata": {},
   "source": [
    "###### Задание 1\n",
    "\n",
    "Придумайте функции со следующими свойствами (в a) b) c) область определения X любая, какая вам удобна, главное - функция с нужными свойствами):\n",
    "\n",
    "a) бесконечное количество локальных экстремумов\n",
    "\n",
    "b) 2 локальных экстремума\n",
    "\n",
    "с) 3 локальных экстремума\n",
    "\n",
    "d*) область определения функции - 1 точка"
   ]
  },
  {
   "cell_type": "markdown",
   "metadata": {},
   "source": [
    "a)y = 1+2*sin x\n",
    "\n",
    "b) y = x^3/(4(2-x)^2 )\n",
    "\n",
    "c) y = 8*x^4-4*x^2+1\n",
    "\n",
    "d) Область определения функции не может быть 1 точка, поскольку область определения функции - это изначально множество чисел, на котором задается функция. Другими словами, это те значения х, которые можно подставить в данное уравнение. Возможные значения у называются областью значений функции."
   ]
  },
  {
   "cell_type": "markdown",
   "metadata": {},
   "source": [
    "###### Задание 2\n",
    "Посчитайте 1-ую и 2-ую производные функции (на бумажке):\n",
    "$f(x) = sin^2(2x+1)$"
   ]
  },
  {
   "cell_type": "markdown",
   "metadata": {},
   "source": [
    "𝑠𝑖𝑛^2*(2*𝑥+1)\n",
    "\n",
    "\n",
    "Решение:\n",
    "\n",
    "Первая производная\n",
    "\n",
    "4sin(2x+1)cos(2x+1)\n",
    "\n",
    "2sin(4x+2)\n",
    "\n",
    "Вторая производная\n",
    "\n",
    "8(−sin^2*(2*x+1)+cos^2*(2*x+1))\n"
   ]
  },
  {
   "cell_type": "markdown",
   "metadata": {},
   "source": [
    "###### Задание 3:\n",
    "Посчитайте частные производные функции в точкe (на бумажке или в LaTeX и на numpy):\n",
    "$f(x,y)=2x^2y^3 + 1/x + y^2x + 7$ в точке $(1,2)$"
   ]
  },
  {
   "cell_type": "markdown",
   "metadata": {},
   "source": [
    "в дополнительном файле"
   ]
  },
  {
   "cell_type": "markdown",
   "metadata": {},
   "source": [
    "###### Задание 4:\n",
    "\n",
    "Градиентный спуск своими руками"
   ]
  },
  {
   "cell_type": "code",
   "execution_count": 3,
   "metadata": {},
   "outputs": [],
   "source": [
    "from scipy.misc import derivative"
   ]
  },
  {
   "cell_type": "code",
   "execution_count": 4,
   "metadata": {},
   "outputs": [],
   "source": [
    "def f(x):\n",
    "    return (x[0]**2) + (x[1]**2)"
   ]
  },
  {
   "cell_type": "code",
   "execution_count": 5,
   "metadata": {},
   "outputs": [],
   "source": [
    "x = np.array([100, 200])\n",
    "lr = 0.1\n",
    "# eps = np.sqrt(np.finfo(float).eps)"
   ]
  },
  {
   "cell_type": "code",
   "execution_count": 56,
   "metadata": {},
   "outputs": [],
   "source": [
    "for i in range(100):\n",
    "    eps = np.sqrt(np.finfo(float).eps)\n",
    "    grad= lambda x: approx_fprime(x, f, eps)\n",
    "    x = x - lr*(approx_fprime(x, f, eps))"
   ]
  },
  {
   "cell_type": "code",
   "execution_count": 61,
   "metadata": {},
   "outputs": [
    {
     "name": "stdout",
     "output_type": "stream",
     "text": [
      "Минимум достигается в:  -7.4505805969238265e-09\n",
      "Значение функции в минимуме:  1.110223024625156e-16\n"
     ]
    }
   ],
   "source": [
    "print(\"Минимум достигается в: \", x[0])\n",
    "print(\"Значение функции в минимуме: \", f(x))"
   ]
  },
  {
   "cell_type": "code",
   "execution_count": 58,
   "metadata": {},
   "outputs": [],
   "source": [
    "#Проверка с помощью встроенной функции scipy:\n",
    "from scipy.optimize import check_grad"
   ]
  },
  {
   "cell_type": "code",
   "execution_count": 60,
   "metadata": {},
   "outputs": [
    {
     "data": {
      "text/plain": [
       "0.0"
      ]
     },
     "execution_count": 60,
     "metadata": {},
     "output_type": "execute_result"
    }
   ],
   "source": [
    "check_grad(f, grad, x)"
   ]
  }
 ],
 "metadata": {
  "kernelspec": {
   "display_name": "Python 3",
   "language": "python",
   "name": "python3"
  },
  "language_info": {
   "codemirror_mode": {
    "name": "ipython",
    "version": 3
   },
   "file_extension": ".py",
   "mimetype": "text/x-python",
   "name": "python",
   "nbconvert_exporter": "python",
   "pygments_lexer": "ipython3",
   "version": "3.7.4"
  }
 },
 "nbformat": 4,
 "nbformat_minor": 2
}
