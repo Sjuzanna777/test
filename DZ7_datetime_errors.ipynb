{
 "cells": [
  {
   "cell_type": "markdown",
   "metadata": {},
   "source": [
    "Задание 1\n",
    "Напишите функцию date_range, которая возвращает список дней между датами start_date и end_date. Даты должны вводиться в формате YYYY-MM-DD."
   ]
  },
  {
   "cell_type": "code",
   "execution_count": 27,
   "metadata": {},
   "outputs": [
    {
     "name": "stdout",
     "output_type": "stream",
     "text": [
      "Введите начальную дату в формате YYYY-MM-DD: 2020-05-05\n",
      "Введите конечную дату в формате YYYY-MM-DD: 2045-05-05\n"
     ]
    },
    {
     "data": {
      "text/plain": [
       "9131"
      ]
     },
     "execution_count": 27,
     "metadata": {},
     "output_type": "execute_result"
    }
   ],
   "source": [
    "from datetime import datetime\n",
    "\n",
    "start_date = (input('Введите начальную дату в формате YYYY-MM-DD: '))\n",
    "end_date = (input('Введите конечную дату в формате YYYY-MM-DD: '))\n",
    "\n",
    "def date_range():\n",
    "    try:\n",
    " \n",
    "        start_date_datetime = datetime.strptime(start_date, '%Y-%m-%d')\n",
    "        end_date_datetime = datetime.strptime(end_date, '%Y-%m-%d')\n",
    "    \n",
    "        return((end_date_datetime - start_date_datetime).days)   \n",
    "     \n",
    "    except:\n",
    "            print ('Ошибка при вводе данных')\n",
    "        \n",
    "date_range()"
   ]
  },
  {
   "cell_type": "markdown",
   "metadata": {},
   "source": [
    "Задание 2\n",
    "Дополните функцию из первого задания проверкой на корректность дат. В случае неверного формата или если start_date > end_date должен возвращаться пустой список.\n"
   ]
  },
  {
   "cell_type": "code",
   "execution_count": 38,
   "metadata": {},
   "outputs": [
    {
     "name": "stdout",
     "output_type": "stream",
     "text": [
      "Введите начальную дату в формате YYYY-MM-DD: 2020-05-05\n",
      "Введите конечную дату в формате YYYY-MM-DD: 2035-05-05\n",
      "Количество дней между датами  5478\n"
     ]
    }
   ],
   "source": [
    "start_date = (input('Введите начальную дату в формате YYYY-MM-DD: '))\n",
    "end_date = (input('Введите конечную дату в формате YYYY-MM-DD: '))\n",
    "\n",
    "\n",
    "\n",
    "def date_range():\n",
    "    period_of_date = 0\n",
    "    \n",
    "    try:\n",
    "        start_date_datetime = datetime.strptime(start_date, '%Y-%m-%d')\n",
    "        end_date_datetime = datetime.strptime(end_date, '%Y-%m-%d')\n",
    "    \n",
    "        if start_date_datetime <= end_date_datetime: \n",
    "            period_of_date = ((end_date_datetime - start_date_datetime).days)\n",
    "            print('Количество дней между датами ', period_of_date)\n",
    "        \n",
    "        else: \n",
    "            print('Ошибка! Конечная дата раньше начальной')\n",
    "            return period_of_date\n",
    "    \n",
    "    except ValueError:\n",
    "        \n",
    "        print('Некорректный ввод даты')\n",
    "        return period_of_date\n",
    "    \n",
    "date_range()"
   ]
  },
  {
   "cell_type": "markdown",
   "metadata": {},
   "source": [
    "Задание 3\n",
    "Дан поток дат в формате YYYY-MM-DD, в которых встречаются некорректные значения:\n",
    "stream = [‘2018-04-02’, ‘2018-02-29’, ‘2018-19-02’]\n",
    "\n",
    "Напишите функцию, которая проверяет эти даты на корректность. Т. е. для каждой даты возвращает True (дата корректна) или False (некорректная дата)."
   ]
  },
  {
   "cell_type": "code",
   "execution_count": 39,
   "metadata": {},
   "outputs": [
    {
     "name": "stdout",
     "output_type": "stream",
     "text": [
      "{'2018-04-02': True, '2018-02-29': False, '2018-19-02': False}\n"
     ]
    }
   ],
   "source": [
    "from datetime import datetime\n",
    "\n",
    "stream = ['2018-04-02', '2018-02-29', '2018-19-02']\n",
    "\n",
    "def data_stream(stream):\n",
    "    v = {}\n",
    "\n",
    "    for date_in_stream in stream:\n",
    "        v[date_in_stream] = error(date_in_stream)\n",
    "\n",
    "    print(v)\n",
    "    \n",
    "def error(date_in_stream):\n",
    "    try:\n",
    "        if date_in_stream != datetime.strptime(date_in_stream, \"%Y-%m-%d\").strftime('%Y-%m-%d'):\n",
    "            raise ValueError\n",
    "        return True\n",
    "    except ValueError:\n",
    "        return False\n",
    "    \n",
    "data_stream(stream)"
   ]
  },
  {
   "cell_type": "markdown",
   "metadata": {},
   "source": [
    "Задание 4 (бонусное)\n",
    "Ваш коллега прислал код функции:\n",
    "\n",
    "DEFAULT_USER_COUNT = 3\n",
    "\n",
    "def delete_and_return_last_user(region, default_list=[‘A100’, ‘A101’, ‘A102’]):\n",
    "\"\"“\n",
    "Удаляет из списка default_list последнего пользователя\n",
    "и возвращает ID нового последнего пользователя.\n",
    "”\"\"\n",
    "element_to_delete = default_list[-1]\n",
    "default_list.remove(element_to_delete)\n",
    "\n",
    "return default_list[DEFAULT_USER_COUNT-2]\n",
    "\n",
    "При однократном вызове этой функции все работает корректно:\n",
    "delete_and_return_last_user(1)\n",
    "‘A101’\n",
    "\n",
    "Однако, при повторном вызове получается ошибка IndexError: list index out of range.\n",
    "\n",
    "Задание:\n",
    "\n",
    "    Что значит ошибка list index out of range?\n",
    "    Почему при первом запуске функция работает корректно, а при втором - нет?\n"
   ]
  },
  {
   "cell_type": "code",
   "execution_count": 25,
   "metadata": {},
   "outputs": [
    {
     "data": {
      "text/plain": [
       "'A101'"
      ]
     },
     "execution_count": 25,
     "metadata": {},
     "output_type": "execute_result"
    }
   ],
   "source": [
    "DEFAULT_USER_COUNT = 3\n",
    "\n",
    "def delete_and_return_last_user(region, default_list=['A100', 'A101', 'A102']): \n",
    "#     \"\"“ Удаляет из списка default_list последнего пользователя и возвращает ID нового последнего пользователя. ”\"\" \n",
    "    \n",
    "    element_to_delete = default_list[-1] \n",
    "    default_list.remove(element_to_delete)\n",
    "    \n",
    "    return default_list[DEFAULT_USER_COUNT-2]\n",
    "\n",
    "delete_and_return_last_user(1)"
   ]
  },
  {
   "cell_type": "code",
   "execution_count": 26,
   "metadata": {},
   "outputs": [
    {
     "ename": "IndexError",
     "evalue": "list index out of range",
     "output_type": "error",
     "traceback": [
      "\u001b[1;31m---------------------------------------------------------------------------\u001b[0m",
      "\u001b[1;31mIndexError\u001b[0m                                Traceback (most recent call last)",
      "\u001b[1;32m<ipython-input-26-bfb6c4f8c48e>\u001b[0m in \u001b[0;36m<module>\u001b[1;34m\u001b[0m\n\u001b[1;32m----> 1\u001b[1;33m \u001b[0mdelete_and_return_last_user\u001b[0m\u001b[1;33m(\u001b[0m\u001b[1;36m1\u001b[0m\u001b[1;33m)\u001b[0m\u001b[1;33m\u001b[0m\u001b[1;33m\u001b[0m\u001b[0m\n\u001b[0m",
      "\u001b[1;32m<ipython-input-25-bb2cd3422c2d>\u001b[0m in \u001b[0;36mdelete_and_return_last_user\u001b[1;34m(region, default_list)\u001b[0m\n\u001b[0;32m      7\u001b[0m     \u001b[0mdefault_list\u001b[0m\u001b[1;33m.\u001b[0m\u001b[0mremove\u001b[0m\u001b[1;33m(\u001b[0m\u001b[0melement_to_delete\u001b[0m\u001b[1;33m)\u001b[0m\u001b[1;33m\u001b[0m\u001b[1;33m\u001b[0m\u001b[0m\n\u001b[0;32m      8\u001b[0m \u001b[1;33m\u001b[0m\u001b[0m\n\u001b[1;32m----> 9\u001b[1;33m     \u001b[1;32mreturn\u001b[0m \u001b[0mdefault_list\u001b[0m\u001b[1;33m[\u001b[0m\u001b[0mDEFAULT_USER_COUNT\u001b[0m\u001b[1;33m-\u001b[0m\u001b[1;36m2\u001b[0m\u001b[1;33m]\u001b[0m\u001b[1;33m\u001b[0m\u001b[1;33m\u001b[0m\u001b[0m\n\u001b[0m\u001b[0;32m     10\u001b[0m \u001b[1;33m\u001b[0m\u001b[0m\n\u001b[0;32m     11\u001b[0m \u001b[0mdelete_and_return_last_user\u001b[0m\u001b[1;33m(\u001b[0m\u001b[1;36m1\u001b[0m\u001b[1;33m)\u001b[0m\u001b[1;33m\u001b[0m\u001b[1;33m\u001b[0m\u001b[0m\n",
      "\u001b[1;31mIndexError\u001b[0m: list index out of range"
     ]
    }
   ],
   "source": [
    "delete_and_return_last_user(1)"
   ]
  },
  {
   "cell_type": "markdown",
   "metadata": {},
   "source": [
    "Что значит ошибка list index out of range?\n",
    "Ошибка в обращении к несуществующему индексу\n",
    "\n",
    "\n",
    "Почему при первом запуске функция работает корректно, а при втором - нет?\n",
    "При первом запуске присутствуют все заданные индексы.\n",
    "Далее - после удаления при первом этапе \"последнего значения\" из списка функция обращается вновь к тому же списку, но, уже без удаленного значения (список внутри функции)/ "
   ]
  }
 ],
 "metadata": {
  "kernelspec": {
   "display_name": "Python 3",
   "language": "python",
   "name": "python3"
  },
  "language_info": {
   "codemirror_mode": {
    "name": "ipython",
    "version": 3
   },
   "file_extension": ".py",
   "mimetype": "text/x-python",
   "name": "python",
   "nbconvert_exporter": "python",
   "pygments_lexer": "ipython3",
   "version": "3.7.4"
  }
 },
 "nbformat": 4,
 "nbformat_minor": 2
}
