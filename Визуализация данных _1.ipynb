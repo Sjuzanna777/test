{
 "cells": [
  {
   "cell_type": "markdown",
   "metadata": {},
   "source": [
    "##### Домашняя работа по теме \"Библиотека Matplotlib & Seaborn. Визуализаця данных\""
   ]
  },
  {
   "cell_type": "code",
   "execution_count": null,
   "metadata": {},
   "outputs": [],
   "source": [
    "from pylab import rcParams\n",
    "rcParams['figure.figsize'] = 10,7\n",
    "import pandas as pd\n",
    "import matplotlib.pyplot as plt\n",
    "import seaborn as sns"
   ]
  },
  {
   "cell_type": "markdown",
   "metadata": {},
   "source": [
    "  Необходимо построить минимум 5 визуализации различных видов по выбранным данным, используя хотя бы две из рассмотренных на занятии библиотек.\n",
    "    Для каждой визуализации описать, какого типа переменные участвуют в визуализации, какова её цель (например, посмотреть на корреляцию двух величин или на распределение значений) и какие гипотезы на ее основе можно выдвинуть.\n"
   ]
  },
  {
   "cell_type": "code",
   "execution_count": 10,
   "metadata": {},
   "outputs": [
    {
     "name": "stdout",
     "output_type": "stream",
     "text": [
      "<class 'pandas.core.frame.DataFrame'>\n",
      "RangeIndex: 54294 entries, 0 to 54293\n",
      "Data columns (total 39 columns):\n",
      "permalink               49438 non-null object\n",
      "name                    49437 non-null object\n",
      "homepage_url            45989 non-null object\n",
      "category_list           45477 non-null object\n",
      " market                 45470 non-null object\n",
      " funding_total_usd      49438 non-null object\n",
      "status                  48124 non-null object\n",
      "country_code            44165 non-null object\n",
      "state_code              30161 non-null object\n",
      "region                  44165 non-null object\n",
      "city                    43322 non-null object\n",
      "funding_rounds          49438 non-null float64\n",
      "founded_at              38554 non-null object\n",
      "founded_month           38482 non-null object\n",
      "founded_quarter         38482 non-null object\n",
      "founded_year            38482 non-null float64\n",
      "first_funding_at        49438 non-null object\n",
      "last_funding_at         49438 non-null object\n",
      "seed                    49438 non-null float64\n",
      "venture                 49438 non-null float64\n",
      "equity_crowdfunding     49438 non-null float64\n",
      "undisclosed             49438 non-null float64\n",
      "convertible_note        49438 non-null float64\n",
      "debt_financing          49438 non-null float64\n",
      "angel                   49438 non-null float64\n",
      "grant                   49438 non-null float64\n",
      "private_equity          49438 non-null float64\n",
      "post_ipo_equity         49438 non-null float64\n",
      "post_ipo_debt           49438 non-null float64\n",
      "secondary_market        49438 non-null float64\n",
      "product_crowdfunding    49438 non-null float64\n",
      "round_A                 49438 non-null float64\n",
      "round_B                 49438 non-null float64\n",
      "round_C                 49438 non-null float64\n",
      "round_D                 49438 non-null float64\n",
      "round_E                 49438 non-null float64\n",
      "round_F                 49438 non-null float64\n",
      "round_G                 49438 non-null float64\n",
      "round_H                 49438 non-null float64\n",
      "dtypes: float64(23), object(16)\n",
      "memory usage: 16.2+ MB\n"
     ]
    }
   ],
   "source": [
    "invest_company = pd.read_csv('investments_VC.csv', encoding = \"ISO-8859-1\")\n",
    "invest_company.info()\n"
   ]
  },
  {
   "cell_type": "markdown",
   "metadata": {},
   "source": [
    "###### Диаграмма 1. Топ-10 стран с наибольшим объемом рынка краудфандинга "
   ]
  },
  {
   "cell_type": "code",
   "execution_count": 12,
   "metadata": {},
   "outputs": [
    {
     "data": {
      "text/html": [
       "<div>\n",
       "<style scoped>\n",
       "    .dataframe tbody tr th:only-of-type {\n",
       "        vertical-align: middle;\n",
       "    }\n",
       "\n",
       "    .dataframe tbody tr th {\n",
       "        vertical-align: top;\n",
       "    }\n",
       "\n",
       "    .dataframe thead th {\n",
       "        text-align: right;\n",
       "    }\n",
       "</style>\n",
       "<table border=\"1\" class=\"dataframe\">\n",
       "  <thead>\n",
       "    <tr style=\"text-align: right;\">\n",
       "      <th></th>\n",
       "      <th>country_code</th>\n",
       "      <th>equity_crowdfunding</th>\n",
       "    </tr>\n",
       "  </thead>\n",
       "  <tbody>\n",
       "    <tr>\n",
       "      <td>0</td>\n",
       "      <td>USA</td>\n",
       "      <td>188774355.0</td>\n",
       "    </tr>\n",
       "    <tr>\n",
       "      <td>1</td>\n",
       "      <td>GBR</td>\n",
       "      <td>51147518.0</td>\n",
       "    </tr>\n",
       "    <tr>\n",
       "      <td>2</td>\n",
       "      <td>DEU</td>\n",
       "      <td>11490140.0</td>\n",
       "    </tr>\n",
       "    <tr>\n",
       "      <td>3</td>\n",
       "      <td>CAN</td>\n",
       "      <td>7293500.0</td>\n",
       "    </tr>\n",
       "    <tr>\n",
       "      <td>4</td>\n",
       "      <td>JPN</td>\n",
       "      <td>5800000.0</td>\n",
       "    </tr>\n",
       "    <tr>\n",
       "      <td>5</td>\n",
       "      <td>ISR</td>\n",
       "      <td>3090000.0</td>\n",
       "    </tr>\n",
       "    <tr>\n",
       "      <td>6</td>\n",
       "      <td>KOR</td>\n",
       "      <td>2000102.0</td>\n",
       "    </tr>\n",
       "    <tr>\n",
       "      <td>7</td>\n",
       "      <td>AUS</td>\n",
       "      <td>1650000.0</td>\n",
       "    </tr>\n",
       "    <tr>\n",
       "      <td>8</td>\n",
       "      <td>IRL</td>\n",
       "      <td>1247816.0</td>\n",
       "    </tr>\n",
       "    <tr>\n",
       "      <td>9</td>\n",
       "      <td>FIN</td>\n",
       "      <td>1066770.0</td>\n",
       "    </tr>\n",
       "  </tbody>\n",
       "</table>\n",
       "</div>"
      ],
      "text/plain": [
       "  country_code  equity_crowdfunding\n",
       "0          USA          188774355.0\n",
       "1          GBR           51147518.0\n",
       "2          DEU           11490140.0\n",
       "3          CAN            7293500.0\n",
       "4          JPN            5800000.0\n",
       "5          ISR            3090000.0\n",
       "6          KOR            2000102.0\n",
       "7          AUS            1650000.0\n",
       "8          IRL            1247816.0\n",
       "9          FIN            1066770.0"
      ]
     },
     "execution_count": 12,
     "metadata": {},
     "output_type": "execute_result"
    }
   ],
   "source": [
    "company1 = invest_company[['country_code','equity_crowdfunding']].groupby('country_code').sum().sort_values(by='equity_crowdfunding', ascending=False).reset_index().head(10)\n",
    "company1.head(10)"
   ]
  },
  {
   "cell_type": "code",
   "execution_count": 15,
   "metadata": {},
   "outputs": [
    {
     "data": {
      "image/png": "[encoded data removed]",
      "text/plain": [
       "<Figure size 432x288 with 1 Axes>"
      ]
     },
     "metadata": {
      "needs_background": "light"
     },
     "output_type": "display_data"
    }
   ],
   "source": [
    "plt.barh(company1['country_code'], company1['equity_crowdfunding'])\n",
    "plt.xlabel('sum of equity crowdfunding')\n",
    "plt.ylabel('Country code')\n",
    "plt.title('Equity crowdfunding')\n",
    "    \n",
    "plt.grid()"
   ]
  },
  {
   "cell_type": "markdown",
   "metadata": {},
   "source": [
    "США является абсолютным лидером по размерам финансирования стартапов через краудфандинг."
   ]
  },
  {
   "cell_type": "markdown",
   "metadata": {},
   "source": [
    "###### Диаграмма 2. Количество стартапов в год "
   ]
  },
  {
   "cell_type": "code",
   "execution_count": 16,
   "metadata": {},
   "outputs": [
    {
     "data": {
      "text/html": [
       "<div>\n",
       "<style scoped>\n",
       "    .dataframe tbody tr th:only-of-type {\n",
       "        vertical-align: middle;\n",
       "    }\n",
       "\n",
       "    .dataframe tbody tr th {\n",
       "        vertical-align: top;\n",
       "    }\n",
       "\n",
       "    .dataframe thead th {\n",
       "        text-align: right;\n",
       "    }\n",
       "</style>\n",
       "<table border=\"1\" class=\"dataframe\">\n",
       "  <thead>\n",
       "    <tr style=\"text-align: right;\">\n",
       "      <th></th>\n",
       "      <th>name</th>\n",
       "    </tr>\n",
       "    <tr>\n",
       "      <th>founded_year</th>\n",
       "      <th></th>\n",
       "    </tr>\n",
       "  </thead>\n",
       "  <tbody>\n",
       "    <tr>\n",
       "      <td>1902.0</td>\n",
       "      <td>2</td>\n",
       "    </tr>\n",
       "    <tr>\n",
       "      <td>1903.0</td>\n",
       "      <td>1</td>\n",
       "    </tr>\n",
       "    <tr>\n",
       "      <td>1905.0</td>\n",
       "      <td>1</td>\n",
       "    </tr>\n",
       "    <tr>\n",
       "      <td>1906.0</td>\n",
       "      <td>5</td>\n",
       "    </tr>\n",
       "    <tr>\n",
       "      <td>1907.0</td>\n",
       "      <td>1</td>\n",
       "    </tr>\n",
       "    <tr>\n",
       "      <td>1908.0</td>\n",
       "      <td>1</td>\n",
       "    </tr>\n",
       "    <tr>\n",
       "      <td>1910.0</td>\n",
       "      <td>2</td>\n",
       "    </tr>\n",
       "    <tr>\n",
       "      <td>1911.0</td>\n",
       "      <td>2</td>\n",
       "    </tr>\n",
       "    <tr>\n",
       "      <td>1912.0</td>\n",
       "      <td>6</td>\n",
       "    </tr>\n",
       "    <tr>\n",
       "      <td>1913.0</td>\n",
       "      <td>2</td>\n",
       "    </tr>\n",
       "  </tbody>\n",
       "</table>\n",
       "</div>"
      ],
      "text/plain": [
       "              name\n",
       "founded_year      \n",
       "1902.0           2\n",
       "1903.0           1\n",
       "1905.0           1\n",
       "1906.0           5\n",
       "1907.0           1\n",
       "1908.0           1\n",
       "1910.0           2\n",
       "1911.0           2\n",
       "1912.0           6\n",
       "1913.0           2"
      ]
     },
     "execution_count": 16,
     "metadata": {},
     "output_type": "execute_result"
    }
   ],
   "source": [
    "company2 = invest_company[['founded_year','name']].groupby('founded_year').count().sort_values(by='founded_year', ascending=True)\n",
    "company2.head(10)"
   ]
  },
  {
   "cell_type": "code",
   "execution_count": 18,
   "metadata": {},
   "outputs": [
    {
     "data": {
      "image/png": "[encoded data removed]",
      "text/plain": [
       "<Figure size 432x288 with 1 Axes>"
      ]
     },
     "metadata": {
      "needs_background": "light"
     },
     "output_type": "display_data"
    }
   ],
   "source": [
    "company2.plot()\n",
    "plt.title(\"Кол-во стартапов в год\")\n",
    "plt.legend(title=\"\", loc=\"center left\", bbox_to_anchor=(1, 0, 4, 2))\n",
    "plt.ylabel('количество стартапов')\n",
    "plt.show()"
   ]
  },
  {
   "cell_type": "markdown",
   "metadata": {},
   "source": [
    "Количество стартапов резко выросло в начале 2000 года, пик пришелся на 2010 год."
   ]
  },
  {
   "cell_type": "markdown",
   "metadata": {},
   "source": [
    "###### Диаграмма 3. Объемы финансирования стартапов в зависимости от вида финансирования"
   ]
  },
  {
   "cell_type": "code",
   "execution_count": 20,
   "metadata": {},
   "outputs": [
    {
     "data": {
      "text/html": [
       "<div>\n",
       "<style scoped>\n",
       "    .dataframe tbody tr th:only-of-type {\n",
       "        vertical-align: middle;\n",
       "    }\n",
       "\n",
       "    .dataframe tbody tr th {\n",
       "        vertical-align: top;\n",
       "    }\n",
       "\n",
       "    .dataframe thead th {\n",
       "        text-align: right;\n",
       "    }\n",
       "</style>\n",
       "<table border=\"1\" class=\"dataframe\">\n",
       "  <thead>\n",
       "    <tr style=\"text-align: right;\">\n",
       "      <th></th>\n",
       "      <th>venture</th>\n",
       "      <th>equity_crowdfunding</th>\n",
       "      <th>undisclosed</th>\n",
       "      <th>convertible_note</th>\n",
       "      <th>debt_financing</th>\n",
       "      <th>angel</th>\n",
       "      <th>grant</th>\n",
       "      <th>private_equity</th>\n",
       "    </tr>\n",
       "    <tr>\n",
       "      <th>founded_year</th>\n",
       "      <th></th>\n",
       "      <th></th>\n",
       "      <th></th>\n",
       "      <th></th>\n",
       "      <th></th>\n",
       "      <th></th>\n",
       "      <th></th>\n",
       "      <th></th>\n",
       "    </tr>\n",
       "  </thead>\n",
       "  <tbody>\n",
       "    <tr>\n",
       "      <td>2005.0</td>\n",
       "      <td>2.463408e+10</td>\n",
       "      <td>1325500.0</td>\n",
       "      <td>228085702.0</td>\n",
       "      <td>15614835.0</td>\n",
       "      <td>4.252264e+09</td>\n",
       "      <td>143508568.0</td>\n",
       "      <td>101257108.0</td>\n",
       "      <td>6.305620e+09</td>\n",
       "    </tr>\n",
       "    <tr>\n",
       "      <td>2006.0</td>\n",
       "      <td>2.670279e+10</td>\n",
       "      <td>6415000.0</td>\n",
       "      <td>369840214.0</td>\n",
       "      <td>26107063.0</td>\n",
       "      <td>1.795016e+09</td>\n",
       "      <td>179303238.0</td>\n",
       "      <td>273429394.0</td>\n",
       "      <td>5.267196e+09</td>\n",
       "    </tr>\n",
       "    <tr>\n",
       "      <td>2007.0</td>\n",
       "      <td>3.363308e+10</td>\n",
       "      <td>12616229.0</td>\n",
       "      <td>185803956.0</td>\n",
       "      <td>55645661.0</td>\n",
       "      <td>7.836890e+09</td>\n",
       "      <td>266544332.0</td>\n",
       "      <td>599520569.0</td>\n",
       "      <td>5.937058e+09</td>\n",
       "    </tr>\n",
       "    <tr>\n",
       "      <td>2008.0</td>\n",
       "      <td>2.327925e+10</td>\n",
       "      <td>8671996.0</td>\n",
       "      <td>244770545.0</td>\n",
       "      <td>28724704.0</td>\n",
       "      <td>1.733862e+09</td>\n",
       "      <td>271081561.0</td>\n",
       "      <td>124148646.0</td>\n",
       "      <td>3.913573e+09</td>\n",
       "    </tr>\n",
       "    <tr>\n",
       "      <td>2009.0</td>\n",
       "      <td>2.391552e+10</td>\n",
       "      <td>25646572.0</td>\n",
       "      <td>208319676.0</td>\n",
       "      <td>51504603.0</td>\n",
       "      <td>1.847809e+09</td>\n",
       "      <td>310850078.0</td>\n",
       "      <td>55636690.0</td>\n",
       "      <td>2.968836e+09</td>\n",
       "    </tr>\n",
       "    <tr>\n",
       "      <td>2010.0</td>\n",
       "      <td>2.148656e+10</td>\n",
       "      <td>16525783.0</td>\n",
       "      <td>115614276.0</td>\n",
       "      <td>53851058.0</td>\n",
       "      <td>1.068225e+09</td>\n",
       "      <td>369867218.0</td>\n",
       "      <td>324268987.0</td>\n",
       "      <td>3.582654e+09</td>\n",
       "    </tr>\n",
       "    <tr>\n",
       "      <td>2011.0</td>\n",
       "      <td>1.808079e+10</td>\n",
       "      <td>24044071.0</td>\n",
       "      <td>117847959.0</td>\n",
       "      <td>70983657.0</td>\n",
       "      <td>1.427885e+09</td>\n",
       "      <td>386755959.0</td>\n",
       "      <td>89714532.0</td>\n",
       "      <td>2.556336e+09</td>\n",
       "    </tr>\n",
       "    <tr>\n",
       "      <td>2012.0</td>\n",
       "      <td>1.187866e+10</td>\n",
       "      <td>24872059.0</td>\n",
       "      <td>87096634.0</td>\n",
       "      <td>63583432.0</td>\n",
       "      <td>1.149289e+09</td>\n",
       "      <td>305189251.0</td>\n",
       "      <td>57896787.0</td>\n",
       "      <td>3.969817e+09</td>\n",
       "    </tr>\n",
       "    <tr>\n",
       "      <td>2013.0</td>\n",
       "      <td>5.462091e+09</td>\n",
       "      <td>47091931.0</td>\n",
       "      <td>34050481.0</td>\n",
       "      <td>41633793.0</td>\n",
       "      <td>4.893877e+08</td>\n",
       "      <td>183111005.0</td>\n",
       "      <td>26512548.0</td>\n",
       "      <td>1.327656e+09</td>\n",
       "    </tr>\n",
       "    <tr>\n",
       "      <td>2014.0</td>\n",
       "      <td>6.989278e+08</td>\n",
       "      <td>71290979.0</td>\n",
       "      <td>11459468.0</td>\n",
       "      <td>8194901.0</td>\n",
       "      <td>4.612783e+07</td>\n",
       "      <td>61833069.0</td>\n",
       "      <td>191868012.0</td>\n",
       "      <td>4.630582e+08</td>\n",
       "    </tr>\n",
       "  </tbody>\n",
       "</table>\n",
       "</div>"
      ],
      "text/plain": [
       "                   venture  equity_crowdfunding  undisclosed  \\\n",
       "founded_year                                                   \n",
       "2005.0        2.463408e+10            1325500.0  228085702.0   \n",
       "2006.0        2.670279e+10            6415000.0  369840214.0   \n",
       "2007.0        3.363308e+10           12616229.0  185803956.0   \n",
       "2008.0        2.327925e+10            8671996.0  244770545.0   \n",
       "2009.0        2.391552e+10           25646572.0  208319676.0   \n",
       "2010.0        2.148656e+10           16525783.0  115614276.0   \n",
       "2011.0        1.808079e+10           24044071.0  117847959.0   \n",
       "2012.0        1.187866e+10           24872059.0   87096634.0   \n",
       "2013.0        5.462091e+09           47091931.0   34050481.0   \n",
       "2014.0        6.989278e+08           71290979.0   11459468.0   \n",
       "\n",
       "              convertible_note  debt_financing        angel        grant  \\\n",
       "founded_year                                                               \n",
       "2005.0              15614835.0    4.252264e+09  143508568.0  101257108.0   \n",
       "2006.0              26107063.0    1.795016e+09  179303238.0  273429394.0   \n",
       "2007.0              55645661.0    7.836890e+09  266544332.0  599520569.0   \n",
       "2008.0              28724704.0    1.733862e+09  271081561.0  124148646.0   \n",
       "2009.0              51504603.0    1.847809e+09  310850078.0   55636690.0   \n",
       "2010.0              53851058.0    1.068225e+09  369867218.0  324268987.0   \n",
       "2011.0              70983657.0    1.427885e+09  386755959.0   89714532.0   \n",
       "2012.0              63583432.0    1.149289e+09  305189251.0   57896787.0   \n",
       "2013.0              41633793.0    4.893877e+08  183111005.0   26512548.0   \n",
       "2014.0               8194901.0    4.612783e+07   61833069.0  191868012.0   \n",
       "\n",
       "              private_equity  \n",
       "founded_year                  \n",
       "2005.0          6.305620e+09  \n",
       "2006.0          5.267196e+09  \n",
       "2007.0          5.937058e+09  \n",
       "2008.0          3.913573e+09  \n",
       "2009.0          2.968836e+09  \n",
       "2010.0          3.582654e+09  \n",
       "2011.0          2.556336e+09  \n",
       "2012.0          3.969817e+09  \n",
       "2013.0          1.327656e+09  \n",
       "2014.0          4.630582e+08  "
      ]
     },
     "execution_count": 20,
     "metadata": {},
     "output_type": "execute_result"
    }
   ],
   "source": [
    "company3 = invest_company[['founded_year','venture', 'equity_crowdfunding', 'undisclosed', 'convertible_note', 'debt_financing', 'angel', 'grant', 'private_equity']].groupby('founded_year').sum().sort_values(by='founded_year', ascending=True).tail(10)\n",
    "company3"
   ]
  },
  {
   "cell_type": "code",
   "execution_count": 29,
   "metadata": {},
   "outputs": [
    {
     "data": {
      "text/plain": [
       "<matplotlib.axes._subplots.AxesSubplot at 0x21464d1eb08>"
      ]
     },
     "execution_count": 29,
     "metadata": {},
     "output_type": "execute_result"
    },
    {
     "data": {
      "image/png": "[encoded data removed]",
      "text/plain": [
       "<Figure size 720x504 with 1 Axes>"
      ]
     },
     "metadata": {
      "needs_background": "light"
     },
     "output_type": "display_data"
    }
   ],
   "source": [
    "company3[list(filter(lambda x: x != 'Инвестирование в стартапы', company3.columns))].plot(kind='bar', rot=30, stacked=True)"
   ]
  },
  {
   "cell_type": "markdown",
   "metadata": {},
   "source": [
    "С 2005 по 2014 год в мире объем венчурного финансирования в стартапы составлял большую долю всех инвестиций, далее - собственный капитал и гранты. Наибольший пик инвестиций пришелся на 2007 год. После кризиса 2008 года ниблюдается существенное сокращение венчурных инвестиций."
   ]
  },
  {
   "cell_type": "markdown",
   "metadata": {},
   "source": [
    "###### Диаграмма 4. Топ-10 рынков стартапов по источникам финансирования"
   ]
  },
  {
   "cell_type": "code",
   "execution_count": 30,
   "metadata": {},
   "outputs": [
    {
     "data": {
      "text/html": [
       "<div>\n",
       "<style scoped>\n",
       "    .dataframe tbody tr th:only-of-type {\n",
       "        vertical-align: middle;\n",
       "    }\n",
       "\n",
       "    .dataframe tbody tr th {\n",
       "        vertical-align: top;\n",
       "    }\n",
       "\n",
       "    .dataframe thead th {\n",
       "        text-align: right;\n",
       "    }\n",
       "</style>\n",
       "<table border=\"1\" class=\"dataframe\">\n",
       "  <thead>\n",
       "    <tr style=\"text-align: right;\">\n",
       "      <th></th>\n",
       "      <th>venture</th>\n",
       "      <th>equity_crowdfunding</th>\n",
       "      <th>undisclosed</th>\n",
       "      <th>convertible_note</th>\n",
       "      <th>debt_financing</th>\n",
       "      <th>angel</th>\n",
       "      <th>grant</th>\n",
       "      <th>private_equity</th>\n",
       "    </tr>\n",
       "    <tr>\n",
       "      <th>market</th>\n",
       "      <th></th>\n",
       "      <th></th>\n",
       "      <th></th>\n",
       "      <th></th>\n",
       "      <th></th>\n",
       "      <th></th>\n",
       "      <th></th>\n",
       "      <th></th>\n",
       "    </tr>\n",
       "  </thead>\n",
       "  <tbody>\n",
       "    <tr>\n",
       "      <td>Biotechnology</td>\n",
       "      <td>5.019104e+10</td>\n",
       "      <td>4629000.0</td>\n",
       "      <td>343539593.0</td>\n",
       "      <td>179961477.0</td>\n",
       "      <td>9.011835e+09</td>\n",
       "      <td>37731235.0</td>\n",
       "      <td>1.119789e+09</td>\n",
       "      <td>7.660596e+09</td>\n",
       "    </tr>\n",
       "    <tr>\n",
       "      <td>Software</td>\n",
       "      <td>2.913889e+10</td>\n",
       "      <td>20108116.0</td>\n",
       "      <td>343248211.0</td>\n",
       "      <td>45041930.0</td>\n",
       "      <td>3.105574e+09</td>\n",
       "      <td>216444395.0</td>\n",
       "      <td>4.644912e+07</td>\n",
       "      <td>6.031324e+09</td>\n",
       "    </tr>\n",
       "    <tr>\n",
       "      <td>Clean Technology</td>\n",
       "      <td>1.944058e+10</td>\n",
       "      <td>11119016.0</td>\n",
       "      <td>410471772.0</td>\n",
       "      <td>20124380.0</td>\n",
       "      <td>5.616456e+09</td>\n",
       "      <td>15855672.0</td>\n",
       "      <td>5.474119e+08</td>\n",
       "      <td>1.048354e+10</td>\n",
       "    </tr>\n",
       "    <tr>\n",
       "      <td>Health Care</td>\n",
       "      <td>1.821725e+10</td>\n",
       "      <td>1025000.0</td>\n",
       "      <td>116603429.0</td>\n",
       "      <td>136506183.0</td>\n",
       "      <td>3.689940e+09</td>\n",
       "      <td>23839913.0</td>\n",
       "      <td>3.661290e+08</td>\n",
       "      <td>4.422248e+09</td>\n",
       "    </tr>\n",
       "    <tr>\n",
       "      <td>E-Commerce</td>\n",
       "      <td>1.517819e+10</td>\n",
       "      <td>10240642.0</td>\n",
       "      <td>778457363.0</td>\n",
       "      <td>15752042.0</td>\n",
       "      <td>1.138501e+09</td>\n",
       "      <td>197600996.0</td>\n",
       "      <td>6.637122e+06</td>\n",
       "      <td>4.138223e+09</td>\n",
       "    </tr>\n",
       "    <tr>\n",
       "      <td>Enterprise Software</td>\n",
       "      <td>1.375703e+10</td>\n",
       "      <td>46553.0</td>\n",
       "      <td>74266137.0</td>\n",
       "      <td>19803966.0</td>\n",
       "      <td>1.286473e+09</td>\n",
       "      <td>84499122.0</td>\n",
       "      <td>1.735125e+07</td>\n",
       "      <td>1.381407e+09</td>\n",
       "    </tr>\n",
       "    <tr>\n",
       "      <td>Mobile</td>\n",
       "      <td>1.363873e+10</td>\n",
       "      <td>404419.0</td>\n",
       "      <td>107386249.0</td>\n",
       "      <td>55701198.0</td>\n",
       "      <td>3.120950e+10</td>\n",
       "      <td>254899057.0</td>\n",
       "      <td>7.654236e+07</td>\n",
       "      <td>3.244764e+09</td>\n",
       "    </tr>\n",
       "    <tr>\n",
       "      <td>Advertising</td>\n",
       "      <td>1.052964e+10</td>\n",
       "      <td>2178501.0</td>\n",
       "      <td>104143006.0</td>\n",
       "      <td>2378000.0</td>\n",
       "      <td>3.944597e+08</td>\n",
       "      <td>67587874.0</td>\n",
       "      <td>8.099820e+05</td>\n",
       "      <td>1.258010e+09</td>\n",
       "    </tr>\n",
       "    <tr>\n",
       "      <td>Semiconductors</td>\n",
       "      <td>1.010452e+10</td>\n",
       "      <td>100000.0</td>\n",
       "      <td>130928327.0</td>\n",
       "      <td>22430224.0</td>\n",
       "      <td>4.380710e+08</td>\n",
       "      <td>8669072.0</td>\n",
       "      <td>2.530000e+07</td>\n",
       "      <td>8.089123e+08</td>\n",
       "    </tr>\n",
       "    <tr>\n",
       "      <td>Hardware + Software</td>\n",
       "      <td>8.407020e+09</td>\n",
       "      <td>0.0</td>\n",
       "      <td>112698215.0</td>\n",
       "      <td>30161601.0</td>\n",
       "      <td>6.063892e+08</td>\n",
       "      <td>28138908.0</td>\n",
       "      <td>6.985015e+07</td>\n",
       "      <td>1.999143e+09</td>\n",
       "    </tr>\n",
       "  </tbody>\n",
       "</table>\n",
       "</div>"
      ],
      "text/plain": [
       "                            venture  equity_crowdfunding  undisclosed  \\\n",
       " market                                                                 \n",
       " Biotechnology         5.019104e+10            4629000.0  343539593.0   \n",
       " Software              2.913889e+10           20108116.0  343248211.0   \n",
       " Clean Technology      1.944058e+10           11119016.0  410471772.0   \n",
       " Health Care           1.821725e+10            1025000.0  116603429.0   \n",
       " E-Commerce            1.517819e+10           10240642.0  778457363.0   \n",
       " Enterprise Software   1.375703e+10              46553.0   74266137.0   \n",
       " Mobile                1.363873e+10             404419.0  107386249.0   \n",
       " Advertising           1.052964e+10            2178501.0  104143006.0   \n",
       " Semiconductors        1.010452e+10             100000.0  130928327.0   \n",
       " Hardware + Software   8.407020e+09                  0.0  112698215.0   \n",
       "\n",
       "                       convertible_note  debt_financing        angel  \\\n",
       " market                                                                \n",
       " Biotechnology              179961477.0    9.011835e+09   37731235.0   \n",
       " Software                    45041930.0    3.105574e+09  216444395.0   \n",
       " Clean Technology            20124380.0    5.616456e+09   15855672.0   \n",
       " Health Care                136506183.0    3.689940e+09   23839913.0   \n",
       " E-Commerce                  15752042.0    1.138501e+09  197600996.0   \n",
       " Enterprise Software         19803966.0    1.286473e+09   84499122.0   \n",
       " Mobile                      55701198.0    3.120950e+10  254899057.0   \n",
       " Advertising                  2378000.0    3.944597e+08   67587874.0   \n",
       " Semiconductors              22430224.0    4.380710e+08    8669072.0   \n",
       " Hardware + Software         30161601.0    6.063892e+08   28138908.0   \n",
       "\n",
       "                              grant  private_equity  \n",
       " market                                              \n",
       " Biotechnology         1.119789e+09    7.660596e+09  \n",
       " Software              4.644912e+07    6.031324e+09  \n",
       " Clean Technology      5.474119e+08    1.048354e+10  \n",
       " Health Care           3.661290e+08    4.422248e+09  \n",
       " E-Commerce            6.637122e+06    4.138223e+09  \n",
       " Enterprise Software   1.735125e+07    1.381407e+09  \n",
       " Mobile                7.654236e+07    3.244764e+09  \n",
       " Advertising           8.099820e+05    1.258010e+09  \n",
       " Semiconductors        2.530000e+07    8.089123e+08  \n",
       " Hardware + Software   6.985015e+07    1.999143e+09  "
      ]
     },
     "execution_count": 30,
     "metadata": {},
     "output_type": "execute_result"
    }
   ],
   "source": [
    "company4 = invest_company[[' market ','venture', 'equity_crowdfunding', 'undisclosed', 'convertible_note', 'debt_financing', 'angel', 'grant', 'private_equity']].groupby(' market ').sum().sort_values(by='venture', ascending=False).head(10)\n",
    "company4"
   ]
  },
  {
   "cell_type": "code",
   "execution_count": 40,
   "metadata": {},
   "outputs": [
    {
     "data": {
      "text/plain": [
       "<matplotlib.axes._subplots.AxesSubplot at 0x21464fc3548>"
      ]
     },
     "execution_count": 40,
     "metadata": {},
     "output_type": "execute_result"
    },
    {
     "data": {
      "image/png": "[encoded data removed]",
      "text/plain": [
       "<Figure size 720x504 with 2 Axes>"
      ]
     },
     "metadata": {
      "needs_background": "light"
     },
     "output_type": "display_data"
    }
   ],
   "source": [
    "sns.heatmap(company4)"
   ]
  },
  {
   "cell_type": "markdown",
   "metadata": {},
   "source": [
    "В топ-10 видов стартапов по объему венчурного финансирования входит производители сотовых телефонов, которые также активно используют кредиты.\n",
    "    Биотехнологии и производители ПО больше всех используют в качестве источников финансирования: венчурное с маленькой долей кредитов и собственных средств\n"
   ]
  },
  {
   "cell_type": "markdown",
   "metadata": {},
   "source": [
    "###### Диаграмма 5. Объемы финансирования стартапов в России и их виды"
   ]
  },
  {
   "cell_type": "code",
   "execution_count": 36,
   "metadata": {},
   "outputs": [],
   "source": [
    "company5 = invest_company[['founded_year','country_code', 'venture', 'equity_crowdfunding', 'undisclosed', 'convertible_note', 'debt_financing', 'angel', 'grant', 'private_equity']]"
   ]
  },
  {
   "cell_type": "code",
   "execution_count": 35,
   "metadata": {},
   "outputs": [
    {
     "data": {
      "text/html": [
       "<div>\n",
       "<style scoped>\n",
       "    .dataframe tbody tr th:only-of-type {\n",
       "        vertical-align: middle;\n",
       "    }\n",
       "\n",
       "    .dataframe tbody tr th {\n",
       "        vertical-align: top;\n",
       "    }\n",
       "\n",
       "    .dataframe thead th {\n",
       "        text-align: right;\n",
       "    }\n",
       "</style>\n",
       "<table border=\"1\" class=\"dataframe\">\n",
       "  <thead>\n",
       "    <tr style=\"text-align: right;\">\n",
       "      <th></th>\n",
       "      <th>venture</th>\n",
       "      <th>equity_crowdfunding</th>\n",
       "      <th>undisclosed</th>\n",
       "      <th>convertible_note</th>\n",
       "      <th>debt_financing</th>\n",
       "      <th>angel</th>\n",
       "      <th>grant</th>\n",
       "      <th>private_equity</th>\n",
       "    </tr>\n",
       "    <tr>\n",
       "      <th>founded_year</th>\n",
       "      <th></th>\n",
       "      <th></th>\n",
       "      <th></th>\n",
       "      <th></th>\n",
       "      <th></th>\n",
       "      <th></th>\n",
       "      <th></th>\n",
       "      <th></th>\n",
       "    </tr>\n",
       "  </thead>\n",
       "  <tbody>\n",
       "    <tr>\n",
       "      <td>2007.0</td>\n",
       "      <td>11500000.0</td>\n",
       "      <td>0.0</td>\n",
       "      <td>0.0</td>\n",
       "      <td>0.0</td>\n",
       "      <td>0.0</td>\n",
       "      <td>1000000.0</td>\n",
       "      <td>406000.0</td>\n",
       "      <td>0.0</td>\n",
       "    </tr>\n",
       "    <tr>\n",
       "      <td>2008.0</td>\n",
       "      <td>235600000.0</td>\n",
       "      <td>0.0</td>\n",
       "      <td>95635000.0</td>\n",
       "      <td>0.0</td>\n",
       "      <td>0.0</td>\n",
       "      <td>0.0</td>\n",
       "      <td>0.0</td>\n",
       "      <td>45000000.0</td>\n",
       "    </tr>\n",
       "    <tr>\n",
       "      <td>2009.0</td>\n",
       "      <td>80800000.0</td>\n",
       "      <td>0.0</td>\n",
       "      <td>0.0</td>\n",
       "      <td>0.0</td>\n",
       "      <td>497000.0</td>\n",
       "      <td>1570000.0</td>\n",
       "      <td>0.0</td>\n",
       "      <td>0.0</td>\n",
       "    </tr>\n",
       "    <tr>\n",
       "      <td>2010.0</td>\n",
       "      <td>182275000.0</td>\n",
       "      <td>0.0</td>\n",
       "      <td>0.0</td>\n",
       "      <td>0.0</td>\n",
       "      <td>354273.0</td>\n",
       "      <td>3166000.0</td>\n",
       "      <td>5315000.0</td>\n",
       "      <td>0.0</td>\n",
       "    </tr>\n",
       "    <tr>\n",
       "      <td>2011.0</td>\n",
       "      <td>310746000.0</td>\n",
       "      <td>0.0</td>\n",
       "      <td>15600000.0</td>\n",
       "      <td>0.0</td>\n",
       "      <td>190000.0</td>\n",
       "      <td>1300000.0</td>\n",
       "      <td>3151000.0</td>\n",
       "      <td>259000000.0</td>\n",
       "    </tr>\n",
       "    <tr>\n",
       "      <td>2012.0</td>\n",
       "      <td>39154000.0</td>\n",
       "      <td>0.0</td>\n",
       "      <td>0.0</td>\n",
       "      <td>0.0</td>\n",
       "      <td>805000.0</td>\n",
       "      <td>3155000.0</td>\n",
       "      <td>3105700.0</td>\n",
       "      <td>0.0</td>\n",
       "    </tr>\n",
       "    <tr>\n",
       "      <td>2013.0</td>\n",
       "      <td>5310000.0</td>\n",
       "      <td>0.0</td>\n",
       "      <td>0.0</td>\n",
       "      <td>0.0</td>\n",
       "      <td>3000000.0</td>\n",
       "      <td>100000.0</td>\n",
       "      <td>72200.0</td>\n",
       "      <td>0.0</td>\n",
       "    </tr>\n",
       "    <tr>\n",
       "      <td>2014.0</td>\n",
       "      <td>0.0</td>\n",
       "      <td>0.0</td>\n",
       "      <td>0.0</td>\n",
       "      <td>0.0</td>\n",
       "      <td>0.0</td>\n",
       "      <td>16000.0</td>\n",
       "      <td>0.0</td>\n",
       "      <td>0.0</td>\n",
       "    </tr>\n",
       "  </tbody>\n",
       "</table>\n",
       "</div>"
      ],
      "text/plain": [
       "                  venture  equity_crowdfunding  undisclosed  convertible_note  \\\n",
       "founded_year                                                                    \n",
       "2007.0         11500000.0                  0.0          0.0               0.0   \n",
       "2008.0        235600000.0                  0.0   95635000.0               0.0   \n",
       "2009.0         80800000.0                  0.0          0.0               0.0   \n",
       "2010.0        182275000.0                  0.0          0.0               0.0   \n",
       "2011.0        310746000.0                  0.0   15600000.0               0.0   \n",
       "2012.0         39154000.0                  0.0          0.0               0.0   \n",
       "2013.0          5310000.0                  0.0          0.0               0.0   \n",
       "2014.0                0.0                  0.0          0.0               0.0   \n",
       "\n",
       "              debt_financing      angel      grant  private_equity  \n",
       "founded_year                                                        \n",
       "2007.0                   0.0  1000000.0   406000.0             0.0  \n",
       "2008.0                   0.0        0.0        0.0      45000000.0  \n",
       "2009.0              497000.0  1570000.0        0.0             0.0  \n",
       "2010.0              354273.0  3166000.0  5315000.0             0.0  \n",
       "2011.0              190000.0  1300000.0  3151000.0     259000000.0  \n",
       "2012.0              805000.0  3155000.0  3105700.0             0.0  \n",
       "2013.0             3000000.0   100000.0    72200.0             0.0  \n",
       "2014.0                   0.0    16000.0        0.0             0.0  "
      ]
     },
     "execution_count": 35,
     "metadata": {},
     "output_type": "execute_result"
    }
   ],
   "source": [
    "company5.head(10)\n",
    "year = invest_company['founded_year'] >= 2007\n",
    "country_rus = invest_company['country_code'] == 'RUS'\n",
    "company_finall= company5.loc[year&country_rus].groupby('founded_year').sum()\n",
    "company_finall"
   ]
  },
  {
   "cell_type": "code",
   "execution_count": 41,
   "metadata": {},
   "outputs": [
    {
     "data": {
      "text/plain": [
       "<matplotlib.axes._subplots.AxesSubplot at 0x21466da8b48>"
      ]
     },
     "execution_count": 41,
     "metadata": {},
     "output_type": "execute_result"
    },
    {
     "data": {
      "image/png": "[encoded data removed]",
      "text/plain": [
       "<Figure size 720x504 with 1 Axes>"
      ]
     },
     "metadata": {
      "needs_background": "light"
     },
     "output_type": "display_data"
    }
   ],
   "source": [
    "company_finall[list(filter(lambda x: x != 'Инвестиции в России', company_finall.columns))].plot(kind='area', rot=30, stacked=False)"
   ]
  },
  {
   "cell_type": "markdown",
   "metadata": {},
   "source": [
    "Пик венчурных инвестиций в России пришлись на 2008 и  2011 гг, при этом значительную долю источников в 2008 году также составляли скрытые и частный капитал. В 2011 году наряду с венчурной инвестицией большую долю составили частные инвестиции."
   ]
  }
 ],
 "metadata": {
  "kernelspec": {
   "display_name": "Python 3",
   "language": "python",
   "name": "python3"
  },
  "language_info": {
   "codemirror_mode": {
    "name": "ipython",
    "version": 3
   },
   "file_extension": ".py",
   "mimetype": "text/x-python",
   "name": "python",
   "nbconvert_exporter": "python",
   "pygments_lexer": "ipython3",
   "version": "3.7.4"
  }
 },
 "nbformat": 4,
 "nbformat_minor": 2
}
