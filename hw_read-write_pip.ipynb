{
 "cells": [
  {
   "cell_type": "markdown",
   "metadata": {},
   "source": [
    "Домашнее задание\n",
    "\n",
    "    1.Переведите содержимое файла purchase_log.txt в словарь purchases вида:\n",
    "\n",
    "    {'1840e0b9d4': 'Продукты', ...}\n",
    "\n",
    "    2.Для каждого user_id в файле visit_log.csv добавьте третий столбец с категорией покупки (если покупка была).\n",
    "\n",
    "    3.Запишите в файл funnel.csv визиты из файла visit_log.csv, в которых были покупки с указанием категории.\n",
    "\n",
    "Учтите условия на данные:\n",
    "\n",
    "    ​содержимое purchase_log.txt помещается в оперативную память компьютера\n",
    "    ​содержимое visit_log.csv - нет; используйте только построчную обработку этого файла"
   ]
  },
  {
   "cell_type": "code",
   "execution_count": 60,
   "metadata": {},
   "outputs": [],
   "source": []
  },
  {
   "cell_type": "code",
   "execution_count": 81,
   "metadata": {},
   "outputs": [
    {
     "ename": "SyntaxError",
     "evalue": "'break' outside loop (<ipython-input-81-471e8e936338>, line 15)",
     "output_type": "error",
     "traceback": [
      "\u001b[1;36m  File \u001b[1;32m\"<ipython-input-81-471e8e936338>\"\u001b[1;36m, line \u001b[1;32m15\u001b[0m\n\u001b[1;31mSyntaxError\u001b[0m\u001b[1;31m:\u001b[0m 'break' outside loop\n"
     ]
    }
   ],
   "source": [
    "import json\n",
    "purchases = {}\n",
    "\n",
    "with open('purchase_log.txt', encoding = 'utf8') as f:\n",
    "    for line in f:\n",
    "        line = line.strip()\n",
    "        \n",
    "        dict_ = json.loads(line)\n",
    "        purchases.setdefault(dict_['user_id'], dict_['category'])\n",
    "        \n",
    "purchases\n",
    "break\n"
   ]
  },
  {
   "cell_type": "code",
   "execution_count": 79,
   "metadata": {},
   "outputs": [],
   "source": [
    "import json\n",
    "purchases = {}\n",
    "category_buy = {}\n",
    "\n",
    "with open('purchase_log.txt', encoding = 'utf8') as buy:\n",
    "    for line in buy:\n",
    "        line = line.strip()\n",
    "        dict_ = json.loads(line)\n",
    "        purchases.setdefault(dict_['user_id'], dict_['category'])\n",
    "        \n",
    "with open('visit_log.csv') as f:  \n",
    "    for p in f:\n",
    "        val = p.strip().split(',')\n",
    "        val_1 = purchases.get(val[0]) \n",
    "        category_buy.setdefault(val[0], [val[1], val_1])"
   ]
  },
  {
   "cell_type": "code",
   "execution_count": 80,
   "metadata": {},
   "outputs": [],
   "source": [
    "category_buy = {}"
   ]
  },
  {
   "cell_type": "code",
   "execution_count": 82,
   "metadata": {},
   "outputs": [
    {
     "name": "stdout",
     "output_type": "stream",
     "text": [
      "Файл funnel.csv сформирован\n"
     ]
    }
   ],
   "source": [
    "import json\n",
    "purchases = {}\n",
    "final_d = {}\n",
    "\n",
    "with open('purchase_log.txt', encoding = 'utf8') as p: \n",
    "      \n",
    "    for line in p:\n",
    "        line = line.strip()\n",
    "        dict_ = json.loads(line)\n",
    "        purchases.setdefault(dict_['user_id'], dict_['category'])\n",
    "        \n",
    "with open('visit_log.csv') as f: \n",
    "    \n",
    "    for l in f:\n",
    "        val = l.strip().split(',')\n",
    "        val_1 = purchases.get(val[0]) \n",
    "        final_d.setdefault(val[0], [val[1], val_1])\n",
    "        \n",
    "with open('funnel.csv', 'w') as wf:\n",
    "    for key, value in final_d.items():\n",
    "        if 'не определен' and None not in value:\n",
    "            wf.write(str({key:value}))\n",
    "f.close()\n",
    "print(\"Файл funnel.csv сформирован\")"
   ]
  }
 ],
 "metadata": {
  "kernelspec": {
   "display_name": "Python 3",
   "language": "python",
   "name": "python3"
  },
  "language_info": {
   "codemirror_mode": {
    "name": "ipython",
    "version": 3
   },
   "file_extension": ".py",
   "mimetype": "text/x-python",
   "name": "python",
   "nbconvert_exporter": "python",
   "pygments_lexer": "ipython3",
   "version": "3.7.4"
  }
 },
 "nbformat": 4,
 "nbformat_minor": 2
}
