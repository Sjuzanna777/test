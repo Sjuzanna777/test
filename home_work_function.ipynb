{
 "cells": [
  {
   "cell_type": "markdown",
   "metadata": {},
   "source": [
    "Вы работаете секретарем и вам постоянно приходят различные документы. Вы должны быть очень внимательны, чтобы не потерять ни один документ. Каталог документов хранится в следующем виде:"
   ]
  },
  {
   "cell_type": "code",
   "execution_count": 1,
   "metadata": {},
   "outputs": [],
   "source": [
    "documents = [\n",
    "    {'type': 'passport', 'number': '2207 876234', 'name': 'Василий Гупкин'},\n",
    "    {'type': 'invoice', 'number': '11-2', 'name': 'Геннадий Покемонов'},\n",
    "    {'type': 'insurance', 'number': '10006', 'name': 'Аристарх Павлов'}\n",
    "]\n"
   ]
  },
  {
   "cell_type": "code",
   "execution_count": 2,
   "metadata": {},
   "outputs": [],
   "source": [
    "# Перечень полок, на которых находятся документы хранится в следующем виде:\n",
    "\n",
    "directories = {\n",
    "    '1': ['2207 876234', '11-2'],\n",
    "    '2': ['10006'],\n",
    "    '3': []\n",
    "}\n"
   ]
  },
  {
   "cell_type": "markdown",
   "metadata": {},
   "source": [
    "Необходимо реализовать пользовательские команды (внимание! это не название функций, которые должны быть выразительными, а команды, которые вводит пользователь, чтобы получить необходимый результат):\n",
    "\n",
    "    p – people – команда, которая спросит номер документа и выведет имя человека, которому он принадлежит;\n",
    "    s – shelf – команда, которая спросит номер документа и выведет номер полки, на которой он находится\n",
    "    Правильно обработайте ситуацию, когда пользователь будет вводить несуществующий документ.\n",
    "    l – list – команда, которая выведет список всех документов в формате\n",
    "    passport \"2207 876234\" \"Василий Гупкин\"\n",
    "    as – add shelf – команда, которая спросит номер новой полки и добавит ее в перечень\n",
    "    d – delete – команда, которая спросит номер документа и удалит его из каталога и из перечня полок. Предусмотрите сценарий, когда пользователь вводит несуществующий документ;\n",
    "    m – move – команда, которая спросит номер документа и целевую полку и переместит его с текущей полки на целевую. Корректно обработайте кейсы, когда пользователь пытается переместить несуществующий документ или переместить документ на несуществующую полку;\n",
    "    a – add – команда, которая добавит новый документ в каталог и в перечень полок, спросив его номер, тип, имя владельца и номер полки, на котором он будет храниться.\n",
    "\n"
   ]
  },
  {
   "cell_type": "code",
   "execution_count": 3,
   "metadata": {},
   "outputs": [
    {
     "name": "stdout",
     "output_type": "stream",
     "text": [
      "Введите номер документа 1\n",
      "Такого номера документа нет в базе.\n"
     ]
    }
   ],
   "source": [
    "# p – people – команда, которая спросит номер документа и выведет имя человека, которому он принадлежит;\n",
    "def people():\n",
    "    numbers = input('Введите номер документа ')\n",
    "    for doc_numbers in documents:\n",
    "        if doc_numbers[\"number\"] == numbers:\n",
    "            print(doc_numbers[\"name\"])\n",
    "            break\n",
    "    else:\n",
    "        print('Такого номера документа нет в базе.')\n",
    "people()"
   ]
  },
  {
   "cell_type": "code",
   "execution_count": 4,
   "metadata": {},
   "outputs": [
    {
     "name": "stdout",
     "output_type": "stream",
     "text": [
      "Введите номер документа1\n",
      "Документ в существующих папках не найден\n"
     ]
    }
   ],
   "source": [
    "# s – shelf – команда, которая спросит номер документа и выведет номер полки, на которой он находится\n",
    "# Правильно обработайте ситуацию, когда пользователь будет вводить несуществующий документ.\n",
    "\n",
    "def shelf():\n",
    "    num = input('Введите номер документа')\n",
    "    for shelf, numbers_doc in directories.items():\n",
    "        if num in numbers_doc:\n",
    "            print('Данный документ лежит на полке № '+ shelf)\n",
    "            break\n",
    "    else:\n",
    "            print(\"Документ в существующих папках не найден\")\n",
    "shelf()"
   ]
  },
  {
   "cell_type": "code",
   "execution_count": 5,
   "metadata": {},
   "outputs": [
    {
     "name": "stdout",
     "output_type": "stream",
     "text": [
      "passport \"2207 876234\" \"Василий Гупкин\"\n",
      "invoice \"11-2\" \"Геннадий Покемонов\"\n",
      "insurance \"10006\" \"Аристарх Павлов\"\n"
     ]
    }
   ],
   "source": [
    "# l – list – команда, которая выведет список всех документов в формате\n",
    "# passport \"2207 876234\" \"Василий Гупкин\"\n",
    "\n",
    "def p_list():\n",
    "    for persons in documents:\n",
    "        print(persons['type'], '\"' + persons['number'] + '\"', '\"' + persons['name'] + '\"')\n",
    "\n",
    "p_list()"
   ]
  },
  {
   "cell_type": "code",
   "execution_count": 6,
   "metadata": {},
   "outputs": [
    {
     "name": "stdout",
     "output_type": "stream",
     "text": [
      "Введите номер папки 1\n",
      "Папка уже существует\n"
     ]
    }
   ],
   "source": [
    "# as – add shelf – команда, которая спросит номер новой полки и добавит ее в перечень\n",
    "\n",
    "def add_shelf():\n",
    "    shelf_number = input('Введите номер папки ')\n",
    "    for shelves in directories.keys():\n",
    "        if shelf_number in shelves:\n",
    "            print('Папка уже существует')\n",
    "            break\n",
    "    else:\n",
    "        directories[shelf_number]=[]\n",
    "        \n",
    "        \n",
    "add_shelf()\n",
    "# print(directories)"
   ]
  },
  {
   "cell_type": "code",
   "execution_count": null,
   "metadata": {},
   "outputs": [],
   "source": [
    "# функция удаления документа\n",
    "def delete_doc():\n",
    "    print('Удаление документа')\n",
    "    doc_number = input('Введите номер документа ')\n",
    "    for num in documents:\n",
    "        if num['number'] == doc_number:\n",
    "            documents.remove(num)\n",
    "    else:\n",
    "        print('документ не найден')    \n",
    "        for directories_value in directories.values():\n",
    "            if doc_number in directories_value:\n",
    "                directories_value.remove(doc_number)\n",
    "  \n",
    "   \n",
    "delete_doc()"
   ]
  },
  {
   "cell_type": "code",
   "execution_count": 8,
   "metadata": {},
   "outputs": [
    {
     "name": "stdout",
     "output_type": "stream",
     "text": [
      "Перемещение документа\n",
      "введите номер документа и новую полку через запятую 1,3\n",
      "{'1': ['2207 876234', '11-2'], '2': [], '3': ['1']}\n"
     ]
    }
   ],
   "source": [
    "# функция перемещение документа\n",
    "def move_doc_to():\n",
    "    print('Перемещение документа')\n",
    "    new_doc = input('введите номер документа и новую полку через запятую ').split(',')\n",
    "    for directories_value in directories.values():\n",
    "        if new_doc[0] in directories_value:\n",
    "            directories_value.remove(new_doc[0])\n",
    "    for directories_key in directories.keys():\n",
    "        if new_doc[1] in directories_key:\n",
    "            directories[directories_key].append(new_doc[0])\n",
    "\n",
    "move_doc_to()\n",
    "print(directories)"
   ]
  },
  {
   "cell_type": "code",
   "execution_count": 9,
   "metadata": {},
   "outputs": [
    {
     "name": "stdout",
     "output_type": "stream",
     "text": [
      "Добавление новой полки\n",
      "Введите новый номер полки 1\n",
      "указанная полка уже существует\n"
     ]
    }
   ],
   "source": [
    "# функция добавлени новой полки\n",
    "\n",
    "def add_new_shelf():\n",
    "    print('Добавление новой полки')\n",
    "    new_shelf = input('Введите новый номер полки ')\n",
    "    for directories_key in directories.keys():\n",
    "        if new_shelf == directories_key:\n",
    "            print('указанная полка уже существует')\n",
    "            return\n",
    "    directories[new_shelf]=[]\n",
    "add_new_shelf()"
   ]
  }
 ],
 "metadata": {
  "kernelspec": {
   "display_name": "Python 3",
   "language": "python",
   "name": "python3"
  },
  "language_info": {
   "codemirror_mode": {
    "name": "ipython",
    "version": 3
   },
   "file_extension": ".py",
   "mimetype": "text/x-python",
   "name": "python",
   "nbconvert_exporter": "python",
   "pygments_lexer": "ipython3",
   "version": "3.7.4"
  }
 },
 "nbformat": 4,
 "nbformat_minor": 2
}
