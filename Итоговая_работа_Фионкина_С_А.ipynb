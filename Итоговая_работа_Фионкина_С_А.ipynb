{
  "nbformat": 4,
  "nbformat_minor": 0,
  "metadata": {
    "colab": {
      "name": "Итоговая работа Фионкина С.А.ipynb",
      "provenance": [],
      "collapsed_sections": [],
      "authorship_tag": "ABX9TyNevV3uMOgUqhR6GzT4LW+N",
      "include_colab_link": true
    },
    "kernelspec": {
      "name": "python3",
      "display_name": "Python 3"
    }
  },
  "cells": [
    {
      "cell_type": "markdown",
      "metadata": {
        "id": "view-in-github",
        "colab_type": "text"
      },
      "source": [
        "<a href=\"https://colab.research.google.com/github/Sjuzanna777/test/blob/master/%D0%98%D1%82%D0%BE%D0%B3%D0%BE%D0%B2%D0%B0%D1%8F_%D1%80%D0%B0%D0%B1%D0%BE%D1%82%D0%B0_%D0%A4%D0%B8%D0%BE%D0%BD%D0%BA%D0%B8%D0%BD%D0%B0_%D0%A1_%D0%90.ipynb\" target=\"_parent\"><img src=\"https://colab.research.google.com/assets/colab-badge.svg\" alt=\"Open In Colab\"/></a>"
      ]
    },
    {
      "cell_type": "code",
      "metadata": {
        "id": "-MYLeqiMWjaT",
        "colab_type": "code",
        "colab": {}
      },
      "source": [
        "# innstall java\n",
        "!apt-get install openjdk-8-jdk-headless -qq > /dev/null\n",
        "\n",
        "# install spark (change the version number if needed)\n",
        "!wget -q https://archive.apache.org/dist/spark/spark-3.0.0/spark-3.0.0-bin-hadoop3.2.tgz\n",
        "\n",
        "# unzip the spark file to the current folder\n",
        "!tar xf spark-3.0.0-bin-hadoop3.2.tgz\n",
        "\n",
        "# set your spark folder to your system path environment. \n",
        "import os\n",
        "\n",
        "os.environ[\"JAVA_HOME\"] = \"/usr/lib/jvm/java-8-openjdk-amd64\"\n",
        "os.environ[\"SPARK_HOME\"] = \"/content/spark-3.0.0-bin-hadoop3.2\"\n",
        "\n",
        "# install findspark using pip\n",
        "!pip install -q findspark\n",
        "\n",
        "import findspark\n",
        "findspark.init()\n",
        "from pyspark.sql import SparkSession\n",
        "\n",
        "spark = SparkSession.builder.master(\"local[*]\").getOrCreate()\n",
        "import pyspark.sql.functions"
      ],
      "execution_count": 77,
      "outputs": []
    },
    {
      "cell_type": "markdown",
      "metadata": {
        "id": "VyiBJvhqfhad",
        "colab_type": "text"
      },
      "source": [
        "**загрузить данные в Google Sheets **\n"
      ]
    },
    {
      "cell_type": "code",
      "metadata": {
        "id": "_eh3qSRWgeej",
        "colab_type": "code",
        "colab": {
          "base_uri": "https://localhost:8080/",
          "height": 634
        },
        "outputId": "ea44c070-596f-4fa7-c91c-57e149243c7a"
      },
      "source": [
        "!wget https://raw.githubusercontent.com/Sjuzanna777/test/master/u.user.csv\n",
        "!wget https://raw.githubusercontent.com/Sjuzanna777/test/master/u.item.csv\n",
        "!wget https://raw.githubusercontent.com/Sjuzanna777/test/master/u.data.csv"
      ],
      "execution_count": 7,
      "outputs": [
        {
          "output_type": "stream",
          "text": [
            "--2020-09-16 08:35:21--  https://raw.githubusercontent.com/Sjuzanna777/test/master/u.user.csv\n",
            "Resolving raw.githubusercontent.com (raw.githubusercontent.com)... 151.101.0.133, 151.101.64.133, 151.101.128.133, ...\n",
            "Connecting to raw.githubusercontent.com (raw.githubusercontent.com)|151.101.0.133|:443... connected.\n",
            "HTTP request sent, awaiting response... 200 OK\n",
            "Length: 22628 (22K) [text/plain]\n",
            "Saving to: ‘u.user.csv.1’\n",
            "\n",
            "\ru.user.csv.1          0%[                    ]       0  --.-KB/s               \ru.user.csv.1        100%[===================>]  22.10K  --.-KB/s    in 0.004s  \n",
            "\n",
            "2020-09-16 08:35:21 (5.25 MB/s) - ‘u.user.csv.1’ saved [22628/22628]\n",
            "\n",
            "--2020-09-16 08:35:21--  https://raw.githubusercontent.com/Sjuzanna777/test/master/u.item.csv\n",
            "Resolving raw.githubusercontent.com (raw.githubusercontent.com)... 151.101.0.133, 151.101.64.133, 151.101.128.133, ...\n",
            "Connecting to raw.githubusercontent.com (raw.githubusercontent.com)|151.101.0.133|:443... connected.\n",
            "HTTP request sent, awaiting response... 200 OK\n",
            "Length: 236344 (231K) [text/plain]\n",
            "Saving to: ‘u.item.csv.1’\n",
            "\n",
            "u.item.csv.1        100%[===================>] 230.80K  --.-KB/s    in 0.02s   \n",
            "\n",
            "2020-09-16 08:35:21 (12.6 MB/s) - ‘u.item.csv.1’ saved [236344/236344]\n",
            "\n",
            "--2020-09-16 08:35:21--  https://raw.githubusercontent.com/Sjuzanna777/test/master/u.data.csv\n",
            "Resolving raw.githubusercontent.com (raw.githubusercontent.com)... 151.101.0.133, 151.101.64.133, 151.101.128.133, ...\n",
            "Connecting to raw.githubusercontent.com (raw.githubusercontent.com)|151.101.0.133|:443... connected.\n",
            "HTTP request sent, awaiting response... 200 OK\n",
            "Length: 1979173 (1.9M) [text/plain]\n",
            "Saving to: ‘u.data.csv.1’\n",
            "\n",
            "u.data.csv.1        100%[===================>]   1.89M  --.-KB/s    in 0.07s   \n",
            "\n",
            "2020-09-16 08:35:21 (26.3 MB/s) - ‘u.data.csv.1’ saved [1979173/1979173]\n",
            "\n"
          ],
          "name": "stdout"
        }
      ]
    },
    {
      "cell_type": "code",
      "metadata": {
        "id": "xxW9p9WufXuL",
        "colab_type": "code",
        "colab": {}
      },
      "source": [
        "df_users = spark.read.csv('u.user.csv', inferSchema=True, sep='|')\n",
        "\n",
        "df_item = spark.read.csv('u.item.csv', inferSchema=True, sep='|')"
      ],
      "execution_count": 8,
      "outputs": []
    },
    {
      "cell_type": "code",
      "metadata": {
        "id": "b8Ce9riUY6vw",
        "colab_type": "code",
        "colab": {
          "base_uri": "https://localhost:8080/",
          "height": 316
        },
        "outputId": "6aed6e91-2edb-404d-c887-ea008b8f7dfc"
      },
      "source": [
        "df_users.show(10)"
      ],
      "execution_count": 9,
      "outputs": [
        {
          "output_type": "stream",
          "text": [
            "+---+---+---+-------------+-----+\n",
            "|_c0|_c1|_c2|          _c3|  _c4|\n",
            "+---+---+---+-------------+-----+\n",
            "|  1| 24|  M|   technician|85711|\n",
            "|  2| 53|  F|        other|94043|\n",
            "|  3| 23|  M|       writer|32067|\n",
            "|  4| 24|  M|   technician|43537|\n",
            "|  5| 33|  F|        other|15213|\n",
            "|  6| 42|  M|    executive|98101|\n",
            "|  7| 57|  M|administrator|91344|\n",
            "|  8| 36|  M|administrator|05201|\n",
            "|  9| 29|  M|      student|01002|\n",
            "| 10| 53|  M|       lawyer|90703|\n",
            "+---+---+---+-------------+-----+\n",
            "only showing top 10 rows\n",
            "\n"
          ],
          "name": "stdout"
        }
      ]
    },
    {
      "cell_type": "code",
      "metadata": {
        "id": "en3kxL8Bkn6b",
        "colab_type": "code",
        "colab": {}
      },
      "source": [
        "import pandas as pd\n",
        "import matplotlib.pyplot as plt\n",
        "%matplotlib inline"
      ],
      "execution_count": 10,
      "outputs": []
    },
    {
      "cell_type": "markdown",
      "metadata": {
        "id": "ttHmdbzqn_er",
        "colab_type": "text"
      },
      "source": [
        "**Построить гистограмму пользователей по возрасту**"
      ]
    },
    {
      "cell_type": "code",
      "metadata": {
        "id": "0SfYI62Wn6Ql",
        "colab_type": "code",
        "colab": {
          "base_uri": "https://localhost:8080/",
          "height": 316
        },
        "outputId": "b01dd222-22dd-486c-bdd5-f95045ef92db"
      },
      "source": [
        "to_show_1 = df_users.groupby('_c1').count().orderBy('_c1')\n",
        "to_show_1= to_show_1.withColumnRenamed('_c1','age')\n",
        "\n",
        "to_show_1.show(10)"
      ],
      "execution_count": 11,
      "outputs": [
        {
          "output_type": "stream",
          "text": [
            "+---+-----+\n",
            "|age|count|\n",
            "+---+-----+\n",
            "|  7|    1|\n",
            "| 10|    1|\n",
            "| 11|    1|\n",
            "| 13|    5|\n",
            "| 14|    3|\n",
            "| 15|    6|\n",
            "| 16|    5|\n",
            "| 17|   14|\n",
            "| 18|   18|\n",
            "| 19|   23|\n",
            "+---+-----+\n",
            "only showing top 10 rows\n",
            "\n"
          ],
          "name": "stdout"
        }
      ]
    },
    {
      "cell_type": "code",
      "metadata": {
        "id": "DmLwhzmg4C8c",
        "colab_type": "code",
        "colab": {
          "base_uri": "https://localhost:8080/",
          "height": 281
        },
        "outputId": "e6a1bf7e-d27d-45f5-98f4-a9ee75bb51ec"
      },
      "source": [
        "pd_df_1 = to_show_1.toPandas()\n",
        "\n",
        "h = pd_df_1['age'].hist().set_title('age')"
      ],
      "execution_count": 12,
      "outputs": [
        {
          "output_type": "display_data",
          "data": {
            "image/png": "[encoded data removed]",
            "text/plain": [
              "<Figure size 432x288 with 1 Axes>"
            ]
          },
          "metadata": {
            "tags": [],
            "needs_background": "light"
          }
        }
      ]
    },
    {
      "cell_type": "markdown",
      "metadata": {
        "id": "nxfzSGxxoEFD",
        "colab_type": "text"
      },
      "source": [
        "**Построить 2 графика, показывающих распределение людей по профессиям в зависимости от их пола**\n"
      ]
    },
    {
      "cell_type": "markdown",
      "metadata": {
        "id": "VdpciWBjlUS7",
        "colab_type": "text"
      },
      "source": [
        "*Мужские профессии*\n"
      ]
    },
    {
      "cell_type": "code",
      "metadata": {
        "id": "3fZCbIyX-8iV",
        "colab_type": "code",
        "colab": {}
      },
      "source": [
        "to_show_2_M = df_users.where((df_users['_c2']=='M'))"
      ],
      "execution_count": 13,
      "outputs": []
    },
    {
      "cell_type": "code",
      "metadata": {
        "id": "WW-btCcqDT7H",
        "colab_type": "code",
        "colab": {
          "base_uri": "https://localhost:8080/",
          "height": 503
        },
        "outputId": "cf920d3c-d6ab-4760-dab1-b153fbb6993a"
      },
      "source": [
        "to_show_2_M = to_show_2_M.groupby('_c3').count()\n",
        "to_show_2_M.show()"
      ],
      "execution_count": 14,
      "outputs": [
        {
          "output_type": "stream",
          "text": [
            "+-------------+-----+\n",
            "|          _c3|count|\n",
            "+-------------+-----+\n",
            "|    librarian|   22|\n",
            "|      retired|   13|\n",
            "|       lawyer|   10|\n",
            "|         none|    5|\n",
            "|       writer|   26|\n",
            "|   programmer|   60|\n",
            "|    marketing|   16|\n",
            "|        other|   69|\n",
            "|    executive|   29|\n",
            "|    scientist|   28|\n",
            "|      student|  136|\n",
            "|     salesman|    9|\n",
            "|       artist|   15|\n",
            "|   technician|   26|\n",
            "|administrator|   43|\n",
            "|     engineer|   65|\n",
            "|   healthcare|    5|\n",
            "|     educator|   69|\n",
            "|entertainment|   16|\n",
            "|    homemaker|    1|\n",
            "+-------------+-----+\n",
            "only showing top 20 rows\n",
            "\n"
          ],
          "name": "stdout"
        }
      ]
    },
    {
      "cell_type": "code",
      "metadata": {
        "id": "4a8VewdpkZSO",
        "colab_type": "code",
        "colab": {
          "base_uri": "https://localhost:8080/",
          "height": 36
        },
        "outputId": "d590ab8b-7408-43ed-f76d-9d5542e6e790"
      },
      "source": [
        "to_show_2_M= to_show_2_M.withColumnRenamed('_c3','profession')\n",
        "to_show_2_M.orderBy('count')"
      ],
      "execution_count": 15,
      "outputs": [
        {
          "output_type": "execute_result",
          "data": {
            "text/plain": [
              "DataFrame[profession: string, count: bigint]"
            ]
          },
          "metadata": {
            "tags": []
          },
          "execution_count": 15
        }
      ]
    },
    {
      "cell_type": "code",
      "metadata": {
        "id": "5ES63JWplh8Y",
        "colab_type": "code",
        "colab": {}
      },
      "source": [
        "pd_df_M = to_show_2_M.toPandas()"
      ],
      "execution_count": 16,
      "outputs": []
    },
    {
      "cell_type": "code",
      "metadata": {
        "id": "q4faLaDbljhs",
        "colab_type": "code",
        "colab": {}
      },
      "source": [
        "profession_M = [p.profession for p in to_show_2_M[['profession']].collect()]\n",
        "count_M = [c.count for c in to_show_2_M[['count']].collect()]"
      ],
      "execution_count": 17,
      "outputs": []
    },
    {
      "cell_type": "code",
      "metadata": {
        "id": "2SmxquX3loYi",
        "colab_type": "code",
        "colab": {
          "base_uri": "https://localhost:8080/",
          "height": 320
        },
        "outputId": "d7250a45-6b14-4572-ea44-44d268242706"
      },
      "source": [
        "plt.figure(figsize=(10,5))\n",
        "plt.plot(profession_M, data = count_M)\n",
        "plt.show()"
      ],
      "execution_count": 18,
      "outputs": [
        {
          "output_type": "display_data",
          "data": {
            "image/png": "[encoded data removed]",
            "text/plain": [
              "<Figure size 720x360 with 1 Axes>"
            ]
          },
          "metadata": {
            "tags": [],
            "needs_background": "light"
          }
        }
      ]
    },
    {
      "cell_type": "markdown",
      "metadata": {
        "id": "X1MWLOpKlb5C",
        "colab_type": "text"
      },
      "source": [
        "*Женские профессии*\n"
      ]
    },
    {
      "cell_type": "code",
      "metadata": {
        "id": "hI5TMcHKL9pt",
        "colab_type": "code",
        "colab": {}
      },
      "source": [
        "to_show_2_F = df_users.where((df_users['_c2']=='F'))"
      ],
      "execution_count": 19,
      "outputs": []
    },
    {
      "cell_type": "code",
      "metadata": {
        "id": "HTMOGjAgDOyc",
        "colab_type": "code",
        "colab": {
          "base_uri": "https://localhost:8080/",
          "height": 484
        },
        "outputId": "4bed8658-f20a-4c07-8c9b-e1fe13635d5a"
      },
      "source": [
        "to_show_2_F = to_show_2_F.groupby('_c3').count()\n",
        "to_show_2_F.show()"
      ],
      "execution_count": 20,
      "outputs": [
        {
          "output_type": "stream",
          "text": [
            "+-------------+-----+\n",
            "|          _c3|count|\n",
            "+-------------+-----+\n",
            "|    librarian|   29|\n",
            "|      retired|    1|\n",
            "|       lawyer|    2|\n",
            "|         none|    4|\n",
            "|       writer|   19|\n",
            "|   programmer|    6|\n",
            "|    marketing|   10|\n",
            "|        other|   36|\n",
            "|    executive|    3|\n",
            "|    scientist|    3|\n",
            "|      student|   60|\n",
            "|     salesman|    3|\n",
            "|       artist|   13|\n",
            "|   technician|    1|\n",
            "|administrator|   36|\n",
            "|     engineer|    2|\n",
            "|   healthcare|   11|\n",
            "|     educator|   26|\n",
            "|entertainment|    2|\n",
            "|    homemaker|    6|\n",
            "+-------------+-----+\n",
            "\n"
          ],
          "name": "stdout"
        }
      ]
    },
    {
      "cell_type": "code",
      "metadata": {
        "id": "-4JNautVK3uB",
        "colab_type": "code",
        "colab": {}
      },
      "source": [
        "to_show_2_F= to_show_2_F.withColumnRenamed('_c3','profession')\n",
        "to_show_2_F = to_show_2_F.orderBy('count')"
      ],
      "execution_count": 21,
      "outputs": []
    },
    {
      "cell_type": "code",
      "metadata": {
        "id": "kSoD5p1SQtuN",
        "colab_type": "code",
        "colab": {}
      },
      "source": [
        "pd_df_F = to_show_2_F.toPandas()"
      ],
      "execution_count": 22,
      "outputs": []
    },
    {
      "cell_type": "code",
      "metadata": {
        "id": "rI82-SPLIiDu",
        "colab_type": "code",
        "colab": {}
      },
      "source": [
        "profession_F = [p.profession for p in to_show_2_F[['profession']].collect()]\n",
        "count_F = [c.count for c in to_show_2_F[['count']].collect()]"
      ],
      "execution_count": 23,
      "outputs": []
    },
    {
      "cell_type": "code",
      "metadata": {
        "id": "Ker4IwaUIyfr",
        "colab_type": "code",
        "colab": {
          "base_uri": "https://localhost:8080/",
          "height": 320
        },
        "outputId": "120b8dfc-0259-4ed1-c39c-6079e16d1c60"
      },
      "source": [
        "plt.figure(figsize=(20,5))\n",
        "plt.plot(profession_F, data = to_show_2_F)\n",
        "plt.show()"
      ],
      "execution_count": 24,
      "outputs": [
        {
          "output_type": "display_data",
          "data": {
            "image/png": "[encoded data removed]",
            "text/plain": [
              "<Figure size 1440x360 with 1 Axes>"
            ]
          },
          "metadata": {
            "tags": [],
            "needs_background": "light"
          }
        }
      ]
    },
    {
      "cell_type": "code",
      "metadata": {
        "id": "tONFwsWFoUc9",
        "colab_type": "code",
        "colab": {}
      },
      "source": [
        "df_users.createOrReplaceTempView('power')"
      ],
      "execution_count": 25,
      "outputs": []
    },
    {
      "cell_type": "code",
      "metadata": {
        "id": "WlvhzN8IpIRk",
        "colab_type": "code",
        "colab": {}
      },
      "source": [
        "df_total = spark.sql('SELECT  _c3,_c2, count(_c1) FROM power GROUP BY _c3, _c2')"
      ],
      "execution_count": 26,
      "outputs": []
    },
    {
      "cell_type": "code",
      "metadata": {
        "id": "USEGf3ypsttP",
        "colab_type": "code",
        "colab": {
          "base_uri": "https://localhost:8080/",
          "height": 223
        },
        "outputId": "0833d01b-7c76-4051-8657-df55dd3bd694"
      },
      "source": [
        "df_total.show(5)"
      ],
      "execution_count": 27,
      "outputs": [
        {
          "output_type": "stream",
          "text": [
            "+-------------+---+----------+\n",
            "|          _c3|_c2|count(_c1)|\n",
            "+-------------+---+----------+\n",
            "|   technician|  M|        26|\n",
            "|     educator|  F|        26|\n",
            "|       lawyer|  F|         2|\n",
            "|entertainment|  F|         2|\n",
            "|       lawyer|  M|        10|\n",
            "+-------------+---+----------+\n",
            "only showing top 5 rows\n",
            "\n"
          ],
          "name": "stdout"
        }
      ]
    },
    {
      "cell_type": "code",
      "metadata": {
        "id": "irrTlYiIsloF",
        "colab_type": "code",
        "colab": {}
      },
      "source": [
        "gender = df_total.toPandas()"
      ],
      "execution_count": 28,
      "outputs": []
    },
    {
      "cell_type": "code",
      "metadata": {
        "id": "m3Ean9pBxkgl",
        "colab_type": "code",
        "colab": {}
      },
      "source": [
        "c3 = [p._c3 for p in df_total[['_c3']].collect()]\n",
        "c2 = [c._c2 for c in df_total[['_c2']].collect()]\n",
        "cc1 = [cc.count for cc in df_total[['count(_c1)']].collect()]"
      ],
      "execution_count": 29,
      "outputs": []
    },
    {
      "cell_type": "code",
      "metadata": {
        "id": "9deTHtSgyyPj",
        "colab_type": "code",
        "colab": {
          "base_uri": "https://localhost:8080/",
          "height": 415
        },
        "outputId": "1689ce29-c251-4900-c489-2f5ddc475a19"
      },
      "source": [
        "gender[ gender['_c2'] == 'M'].set_index('_c3')['count(_c1)'].plot( kind='bar',color = 'blue', figsize=(20,5))\n",
        "gender[ gender['_c2'] == 'F'].set_index('_c3')['count(_c1)'].plot( kind='bar',color = 'red', figsize=(20,5))\n",
        "plt.xlabel('profession')\n",
        "plt.ylabel('count')"
      ],
      "execution_count": 30,
      "outputs": [
        {
          "output_type": "execute_result",
          "data": {
            "text/plain": [
              "Text(0, 0.5, 'count')"
            ]
          },
          "metadata": {
            "tags": []
          },
          "execution_count": 30
        },
        {
          "output_type": "display_data",
          "data": {
            "image/png": "[encoded data removed]",
            "text/plain": [
              "<Figure size 1440x360 with 1 Axes>"
            ]
          },
          "metadata": {
            "tags": [],
            "needs_background": "light"
          }
        }
      ]
    },
    {
      "cell_type": "markdown",
      "metadata": {
        "id": "r9qA7YjStcqI",
        "colab_type": "text"
      },
      "source": [
        "**Построить график количества фильмов по жанрам**"
      ]
    },
    {
      "cell_type": "code",
      "metadata": {
        "id": "GIcnXUDAtOMr",
        "colab_type": "code",
        "colab": {
          "base_uri": "https://localhost:8080/",
          "height": 503
        },
        "outputId": "b6ed499d-c13d-4ff7-8577-2af6635706a9"
      },
      "source": [
        "df_item.show()"
      ],
      "execution_count": 31,
      "outputs": [
        {
          "output_type": "stream",
          "text": [
            "+---+--------------------+-----------+----+--------------------+---+---+---+---+---+----+----+----+----+----+----+----+----+----+----+----+----+----+----+\n",
            "|_c0|                 _c1|        _c2| _c3|                 _c4|_c5|_c6|_c7|_c8|_c9|_c10|_c11|_c12|_c13|_c14|_c15|_c16|_c17|_c18|_c19|_c20|_c21|_c22|_c23|\n",
            "+---+--------------------+-----------+----+--------------------+---+---+---+---+---+----+----+----+----+----+----+----+----+----+----+----+----+----+----+\n",
            "|  1|    Toy Story (1995)|01-Jan-1995|null|http://us.imdb.co...|  0|  0|  0|  1|  1|   1|   0|   0|   0|   0|   0|   0|   0|   0|   0|   0|   0|   0|   0|\n",
            "|  2|    GoldenEye (1995)|01-Jan-1995|null|http://us.imdb.co...|  0|  1|  1|  0|  0|   0|   0|   0|   0|   0|   0|   0|   0|   0|   0|   0|   1|   0|   0|\n",
            "|  3|   Four Rooms (1995)|01-Jan-1995|null|http://us.imdb.co...|  0|  0|  0|  0|  0|   0|   0|   0|   0|   0|   0|   0|   0|   0|   0|   0|   1|   0|   0|\n",
            "|  4|   Get Shorty (1995)|01-Jan-1995|null|http://us.imdb.co...|  0|  1|  0|  0|  0|   1|   0|   0|   1|   0|   0|   0|   0|   0|   0|   0|   0|   0|   0|\n",
            "|  5|      Copycat (1995)|01-Jan-1995|null|http://us.imdb.co...|  0|  0|  0|  0|  0|   0|   1|   0|   1|   0|   0|   0|   0|   0|   0|   0|   1|   0|   0|\n",
            "|  6|Shanghai Triad (Y...|01-Jan-1995|null|http://us.imdb.co...|  0|  0|  0|  0|  0|   0|   0|   0|   1|   0|   0|   0|   0|   0|   0|   0|   0|   0|   0|\n",
            "|  7|Twelve Monkeys (1...|01-Jan-1995|null|http://us.imdb.co...|  0|  0|  0|  0|  0|   0|   0|   0|   1|   0|   0|   0|   0|   0|   0|   1|   0|   0|   0|\n",
            "|  8|         Babe (1995)|01-Jan-1995|null|http://us.imdb.co...|  0|  0|  0|  0|  1|   1|   0|   0|   1|   0|   0|   0|   0|   0|   0|   0|   0|   0|   0|\n",
            "|  9|Dead Man Walking ...|01-Jan-1995|null|http://us.imdb.co...|  0|  0|  0|  0|  0|   0|   0|   0|   1|   0|   0|   0|   0|   0|   0|   0|   0|   0|   0|\n",
            "| 10|  Richard III (1995)|22-Jan-1996|null|http://us.imdb.co...|  0|  0|  0|  0|  0|   0|   0|   0|   1|   0|   0|   0|   0|   0|   0|   0|   0|   1|   0|\n",
            "| 11|Seven (Se7en) (1995)|01-Jan-1995|null|http://us.imdb.co...|  0|  0|  0|  0|  0|   0|   1|   0|   0|   0|   0|   0|   0|   0|   0|   0|   1|   0|   0|\n",
            "| 12|Usual Suspects, T...|14-Aug-1995|null|http://us.imdb.co...|  0|  0|  0|  0|  0|   0|   1|   0|   0|   0|   0|   0|   0|   0|   0|   0|   1|   0|   0|\n",
            "| 13|Mighty Aphrodite ...|30-Oct-1995|null|http://us.imdb.co...|  0|  0|  0|  0|  0|   1|   0|   0|   0|   0|   0|   0|   0|   0|   0|   0|   0|   0|   0|\n",
            "| 14|  Postino, Il (1994)|01-Jan-1994|null|http://us.imdb.co...|  0|  0|  0|  0|  0|   0|   0|   0|   1|   0|   0|   0|   0|   0|   1|   0|   0|   0|   0|\n",
            "| 15|Mr. Holland's Opu...|29-Jan-1996|null|http://us.imdb.co...|  0|  0|  0|  0|  0|   0|   0|   0|   1|   0|   0|   0|   0|   0|   0|   0|   0|   0|   0|\n",
            "| 16|French Twist (Gaz...|01-Jan-1995|null|http://us.imdb.co...|  0|  0|  0|  0|  0|   1|   0|   0|   0|   0|   0|   0|   0|   0|   1|   0|   0|   0|   0|\n",
            "| 17|From Dusk Till Da...|05-Feb-1996|null|http://us.imdb.co...|  0|  1|  0|  0|  0|   1|   1|   0|   0|   0|   0|   1|   0|   0|   0|   0|   1|   0|   0|\n",
            "| 18|White Balloon, Th...|01-Jan-1995|null|http://us.imdb.co...|  0|  0|  0|  0|  0|   0|   0|   0|   1|   0|   0|   0|   0|   0|   0|   0|   0|   0|   0|\n",
            "| 19|Antonia's Line (1...|01-Jan-1995|null|http://us.imdb.co...|  0|  0|  0|  0|  0|   0|   0|   0|   1|   0|   0|   0|   0|   0|   0|   0|   0|   0|   0|\n",
            "| 20|Angels and Insect...|01-Jan-1995|null|http://us.imdb.co...|  0|  0|  0|  0|  0|   0|   0|   0|   1|   0|   0|   0|   0|   0|   1|   0|   0|   0|   0|\n",
            "+---+--------------------+-----------+----+--------------------+---+---+---+---+---+----+----+----+----+----+----+----+----+----+----+----+----+----+----+\n",
            "only showing top 20 rows\n",
            "\n"
          ],
          "name": "stdout"
        }
      ]
    },
    {
      "cell_type": "code",
      "metadata": {
        "id": "_b4GG4Kq8494",
        "colab_type": "code",
        "colab": {}
      },
      "source": [
        "df_item.createOrReplaceTempView('item')"
      ],
      "execution_count": 32,
      "outputs": []
    },
    {
      "cell_type": "code",
      "metadata": {
        "id": "wUPWO9BlDAHa",
        "colab_type": "code",
        "colab": {
          "base_uri": "https://localhost:8080/",
          "height": 168
        },
        "outputId": "e00cb73f-1251-4e6b-e62c-27d01e337223"
      },
      "source": [
        "df_item_film = spark.sql('SELECT sum (_c6)as Action, sum (_c7)as Adventure, sum (_c8)as Animation,sum (_c9)as Childrens,sum (_c10)as Comedy,sum (_c11)as Crime,sum (_c12)as Documentary,sum (_c13)as Drama,sum (_c14)as Fantasy, sum (_c15)as Film_Noir,sum (_c16)as Horror, sum (_c17)as Musical,sum (_c18)as Mystery,sum (_c19)as Romance,sum (_c20)as Sci_Fi, sum (_c21)as Thriller, sum (_c22)as War,sum (_c23)as Western FROM item ')\n",
        "df_item_film.show()\n",
        "df_item_film.describe()"
      ],
      "execution_count": 33,
      "outputs": [
        {
          "output_type": "stream",
          "text": [
            "+------+---------+---------+---------+------+-----+-----------+-----+-------+---------+------+-------+-------+-------+------+--------+---+-------+\n",
            "|Action|Adventure|Animation|Childrens|Comedy|Crime|Documentary|Drama|Fantasy|Film_Noir|Horror|Musical|Mystery|Romance|Sci_Fi|Thriller|War|Western|\n",
            "+------+---------+---------+---------+------+-----+-----------+-----+-------+---------+------+-------+-------+-------+------+--------+---+-------+\n",
            "|   251|      135|       42|      122|   505|  109|         50|  725|     22|       24|    92|     56|     61|    247|   101|     251| 71|     27|\n",
            "+------+---------+---------+---------+------+-----+-----------+-----+-------+---------+------+-------+-------+-------+------+--------+---+-------+\n",
            "\n"
          ],
          "name": "stdout"
        },
        {
          "output_type": "execute_result",
          "data": {
            "text/plain": [
              "DataFrame[summary: string, Action: string, Adventure: string, Animation: string, Childrens: string, Comedy: string, Crime: string, Documentary: string, Drama: string, Fantasy: string, Film_Noir: string, Horror: string, Musical: string, Mystery: string, Romance: string, Sci_Fi: string, Thriller: string, War: string, Western: string]"
            ]
          },
          "metadata": {
            "tags": []
          },
          "execution_count": 33
        }
      ]
    },
    {
      "cell_type": "code",
      "metadata": {
        "id": "N4j9423sZXt5",
        "colab_type": "code",
        "colab": {
          "base_uri": "https://localhost:8080/",
          "height": 56
        },
        "outputId": "c61805e6-f059-4546-9ff9-726a146066c4"
      },
      "source": [
        "df_item_film.collect()"
      ],
      "execution_count": 34,
      "outputs": [
        {
          "output_type": "execute_result",
          "data": {
            "text/plain": [
              "[Row(Action=251, Adventure=135, Animation=42, Childrens=122, Comedy=505, Crime=109, Documentary=50, Drama=725, Fantasy=22, Film_Noir=24, Horror=92, Musical=56, Mystery=61, Romance=247, Sci_Fi=101, Thriller=251, War=71, Western=27)]"
            ]
          },
          "metadata": {
            "tags": []
          },
          "execution_count": 34
        }
      ]
    },
    {
      "cell_type": "code",
      "metadata": {
        "id": "vAgtr7zVSPOb",
        "colab_type": "code",
        "colab": {}
      },
      "source": [
        "df_item_film_p =df_item_film.toPandas()"
      ],
      "execution_count": 35,
      "outputs": []
    },
    {
      "cell_type": "code",
      "metadata": {
        "id": "V3vmcv8FSZVt",
        "colab_type": "code",
        "colab": {
          "base_uri": "https://localhost:8080/",
          "height": 349
        },
        "outputId": "e39c1a87-7204-414a-833c-7c42b778863b"
      },
      "source": [
        "df_item_film_p.plot(kind = 'bar',figsize=(10,5))\n",
        "\n",
        "plt.xlabel('genre')\n",
        "plt.ylabel('count')"
      ],
      "execution_count": 36,
      "outputs": [
        {
          "output_type": "execute_result",
          "data": {
            "text/plain": [
              "Text(0, 0.5, 'count')"
            ]
          },
          "metadata": {
            "tags": []
          },
          "execution_count": 36
        },
        {
          "output_type": "display_data",
          "data": {
            "image/png": "[encoded data removed]",
            "text/plain": [
              "<Figure size 720x360 with 1 Axes>"
            ]
          },
          "metadata": {
            "tags": [],
            "needs_background": "light"
          }
        }
      ]
    },
    {
      "cell_type": "markdown",
      "metadata": {
        "id": "OhtpRI1dhCe7",
        "colab_type": "text"
      },
      "source": [
        "**Построить график количества фильмов по годам**\n"
      ]
    },
    {
      "cell_type": "code",
      "metadata": {
        "id": "tgD8h14piAnS",
        "colab_type": "code",
        "colab": {
          "base_uri": "https://localhost:8080/",
          "height": 36
        },
        "outputId": "39d6ce98-17a5-4b5e-caa5-7b48c20ba24b"
      },
      "source": [
        "# from pyspark.sql.types import DateType\n",
        "# df_item.select(df_item._c2.cast(DateType()).alias('datetime.year'))"
      ],
      "execution_count": 58,
      "outputs": [
        {
          "output_type": "execute_result",
          "data": {
            "text/plain": [
              "DataFrame[datetime.year: date]"
            ]
          },
          "metadata": {
            "tags": []
          },
          "execution_count": 58
        }
      ]
    },
    {
      "cell_type": "code",
      "metadata": {
        "id": "EtTHLAAJlkqe",
        "colab_type": "code",
        "colab": {}
      },
      "source": [
        "df_item.createOrReplaceTempView('item2')"
      ],
      "execution_count": 75,
      "outputs": []
    },
    {
      "cell_type": "code",
      "metadata": {
        "id": "b5KN1vUUB-tA",
        "colab_type": "code",
        "colab": {
          "base_uri": "https://localhost:8080/",
          "height": 166
        },
        "outputId": "e14111d5-5b93-49ee-9646-3228df8f85dc"
      },
      "source": [
        "df_item_2 = spark.sql('SELECT _c2 as data, _c1  FROM item2')\n",
        "df_item_2.show(2)"
      ],
      "execution_count": 90,
      "outputs": [
        {
          "output_type": "stream",
          "text": [
            "+-----------+----------------+\n",
            "|       data|             _c1|\n",
            "+-----------+----------------+\n",
            "|01-Jan-1995|Toy Story (1995)|\n",
            "|01-Jan-1995|GoldenEye (1995)|\n",
            "+-----------+----------------+\n",
            "only showing top 2 rows\n",
            "\n"
          ],
          "name": "stdout"
        }
      ]
    },
    {
      "cell_type": "code",
      "metadata": {
        "id": "4UiYqs9vLhlo",
        "colab_type": "code",
        "colab": {}
      },
      "source": [
        "from pyspark.sql.functions import *"
      ],
      "execution_count": 96,
      "outputs": []
    },
    {
      "cell_type": "code",
      "metadata": {
        "id": "lPawrf_nur-N",
        "colab_type": "code",
        "colab": {}
      },
      "source": [
        "year_f =df_item_2.withColumn('data_year', expr('substring(data,-4,length(data)-1)'))"
      ],
      "execution_count": 97,
      "outputs": []
    },
    {
      "cell_type": "code",
      "metadata": {
        "id": "fFpCMf0zyohP",
        "colab_type": "code",
        "colab": {
          "base_uri": "https://localhost:8080/",
          "height": 166
        },
        "outputId": "6476ddd9-3c54-40c4-9e4f-ea28c662e7cb"
      },
      "source": [
        "year_f['data_year','_c1'].show(2)"
      ],
      "execution_count": 100,
      "outputs": [
        {
          "output_type": "stream",
          "text": [
            "+---------+----------------+\n",
            "|data_year|             _c1|\n",
            "+---------+----------------+\n",
            "|     1995|Toy Story (1995)|\n",
            "|     1995|GoldenEye (1995)|\n",
            "+---------+----------------+\n",
            "only showing top 2 rows\n",
            "\n"
          ],
          "name": "stdout"
        }
      ]
    },
    {
      "cell_type": "code",
      "metadata": {
        "id": "luhZVVZZwDsO",
        "colab_type": "code",
        "colab": {}
      },
      "source": [
        "pic_film = year_f.groupBy('data_year').count()"
      ],
      "execution_count": 101,
      "outputs": []
    },
    {
      "cell_type": "code",
      "metadata": {
        "id": "LCQOB5weH73r",
        "colab_type": "code",
        "colab": {}
      },
      "source": [
        "c= pic_film.dropna()"
      ],
      "execution_count": 102,
      "outputs": []
    },
    {
      "cell_type": "code",
      "metadata": {
        "id": "3XHoOdX50GL0",
        "colab_type": "code",
        "colab": {
          "base_uri": "https://localhost:8080/",
          "height": 223
        },
        "outputId": "5a88b2a8-3ab8-4cc0-ed02-bae12e3581e8"
      },
      "source": [
        "c.show(5)\n",
        "# pic_film.describe()"
      ],
      "execution_count": 103,
      "outputs": [
        {
          "output_type": "stream",
          "text": [
            "+---------+-----+\n",
            "|data_year|count|\n",
            "+---------+-----+\n",
            "|     1953|    2|\n",
            "|     1957|    8|\n",
            "|     1987|   13|\n",
            "|     1956|    4|\n",
            "|     1936|    2|\n",
            "+---------+-----+\n",
            "only showing top 5 rows\n",
            "\n"
          ],
          "name": "stdout"
        }
      ]
    },
    {
      "cell_type": "code",
      "metadata": {
        "id": "YSMb_jSt0Wud",
        "colab_type": "code",
        "colab": {
          "base_uri": "https://localhost:8080/",
          "height": 1000
        },
        "outputId": "7055845c-3324-4b35-e483-2c8841c3bb00"
      },
      "source": [
        "c.collect()"
      ],
      "execution_count": 104,
      "outputs": [
        {
          "output_type": "execute_result",
          "data": {
            "text/plain": [
              "[Row(data_year='1953', count=2),\n",
              " Row(data_year='1957', count=8),\n",
              " Row(data_year='1987', count=13),\n",
              " Row(data_year='1956', count=4),\n",
              " Row(data_year='1936', count=2),\n",
              " Row(data_year='1958', count=9),\n",
              " Row(data_year='1943', count=4),\n",
              " Row(data_year='1972', count=3),\n",
              " Row(data_year='1931', count=1),\n",
              " Row(data_year='1988', count=11),\n",
              " Row(data_year='1938', count=3),\n",
              " Row(data_year='1926', count=1),\n",
              " Row(data_year='1932', count=1),\n",
              " Row(data_year='1977', count=4),\n",
              " Row(data_year='1971', count=7),\n",
              " Row(data_year='1984', count=8),\n",
              " Row(data_year='1982', count=13),\n",
              " Row(data_year='1941', count=5),\n",
              " Row(data_year='1965', count=5),\n",
              " Row(data_year='1962', count=5),\n",
              " Row(data_year='1954', count=7),\n",
              " Row(data_year='1930', count=1),\n",
              " Row(data_year='1981', count=12),\n",
              " Row(data_year='1940', count=8),\n",
              " Row(data_year='1978', count=4),\n",
              " Row(data_year='1974', count=8),\n",
              " Row(data_year='1959', count=4),\n",
              " Row(data_year='1995', count=219),\n",
              " Row(data_year='1964', count=2),\n",
              " Row(data_year='1946', count=5),\n",
              " Row(data_year='1976', count=5),\n",
              " Row(data_year='1942', count=2),\n",
              " Row(data_year='1935', count=4),\n",
              " Row(data_year='1947', count=5),\n",
              " Row(data_year='1967', count=5),\n",
              " Row(data_year='1968', count=6),\n",
              " Row(data_year='1922', count=1),\n",
              " Row(data_year='1939', count=7),\n",
              " Row(data_year='1989', count=15),\n",
              " Row(data_year='1992', count=37),\n",
              " Row(data_year='1961', count=3),\n",
              " Row(data_year='1966', count=2),\n",
              " Row(data_year='1951', count=5),\n",
              " Row(data_year='1955', count=5),\n",
              " Row(data_year='1963', count=6),\n",
              " Row(data_year='1994', count=214),\n",
              " Row(data_year='1950', count=7),\n",
              " Row(data_year='1997', count=286),\n",
              " Row(data_year='1973', count=4),\n",
              " Row(data_year='1996', count=355),\n",
              " Row(data_year='1983', count=5),\n",
              " Row(data_year='1969', count=4),\n",
              " Row(data_year='1980', count=8),\n",
              " Row(data_year='1944', count=5),\n",
              " Row(data_year='1960', count=5),\n",
              " Row(data_year='1934', count=4),\n",
              " Row(data_year='1937', count=4),\n",
              " Row(data_year='1948', count=3),\n",
              " Row(data_year='1986', count=15),\n",
              " Row(data_year='1952', count=3),\n",
              " Row(data_year='1985', count=7),\n",
              " Row(data_year='1979', count=9),\n",
              " Row(data_year='1998', count=65),\n",
              " Row(data_year='1993', count=126),\n",
              " Row(data_year='1949', count=4),\n",
              " Row(data_year='1990', count=24),\n",
              " Row(data_year='1991', count=22),\n",
              " Row(data_year='1945', count=4),\n",
              " Row(data_year='1975', count=6),\n",
              " Row(data_year='1970', count=3),\n",
              " Row(data_year='1933', count=2)]"
            ]
          },
          "metadata": {
            "tags": []
          },
          "execution_count": 104
        }
      ]
    },
    {
      "cell_type": "code",
      "metadata": {
        "id": "fFCyaX6CJQAh",
        "colab_type": "code",
        "colab": {}
      },
      "source": [
        "cf=c.toPandas()"
      ],
      "execution_count": 105,
      "outputs": []
    },
    {
      "cell_type": "code",
      "metadata": {
        "id": "R2SkXI20JN5v",
        "colab_type": "code",
        "colab": {
          "base_uri": "https://localhost:8080/",
          "height": 356
        },
        "outputId": "0fbac51c-8c2f-4c18-9fe3-c2c3735d7390"
      },
      "source": [
        "# cf.plot()\n",
        "cf.plot( kind = 'bar',figsize=(20,5))\n",
        "\n",
        "plt.xlabel('data_year')\n",
        "plt.ylabel('count')"
      ],
      "execution_count": 106,
      "outputs": [
        {
          "output_type": "execute_result",
          "data": {
            "text/plain": [
              "Text(0, 0.5, 'count')"
            ]
          },
          "metadata": {
            "tags": []
          },
          "execution_count": 106
        },
        {
          "output_type": "display_data",
          "data": {
            "image/png": "[encoded data removed]",
            "text/plain": [
              "<Figure size 1440x360 with 1 Axes>"
            ]
          },
          "metadata": {
            "tags": [],
            "needs_background": "light"
          }
        }
      ]
    },
    {
      "cell_type": "markdown",
      "metadata": {
        "id": "fonIzYfBJ6uK",
        "colab_type": "text"
      },
      "source": [
        "*Построить график количества оценок по месяцам и годам *\n",
        "\n",
        "\n"
      ]
    },
    {
      "cell_type": "code",
      "metadata": {
        "id": "NcAVeTMAUfcd",
        "colab_type": "code",
        "colab": {}
      },
      "source": [
        "df_data = spark.read.csv('u.data.csv', header=False, inferSchema=False, sep='\\t')"
      ],
      "execution_count": 124,
      "outputs": []
    },
    {
      "cell_type": "code",
      "metadata": {
        "id": "fCMPX29fw7gp",
        "colab_type": "code",
        "colab": {
          "base_uri": "https://localhost:8080/",
          "height": 223
        },
        "outputId": "1229e514-a2c5-4d10-f9eb-9f747da32763"
      },
      "source": [
        "df_data.show(5)"
      ],
      "execution_count": 125,
      "outputs": [
        {
          "output_type": "stream",
          "text": [
            "+---+---+---+---------+\n",
            "|_c0|_c1|_c2|      _c3|\n",
            "+---+---+---+---------+\n",
            "|196|242|  3|881250949|\n",
            "|186|302|  3|891717742|\n",
            "| 22|377|  1|878887116|\n",
            "|244| 51|  2|880606923|\n",
            "|166|346|  1|886397596|\n",
            "+---+---+---+---------+\n",
            "only showing top 5 rows\n",
            "\n"
          ],
          "name": "stdout"
        }
      ]
    },
    {
      "cell_type": "code",
      "metadata": {
        "id": "nIamDW53PmLt",
        "colab_type": "code",
        "colab": {
          "base_uri": "https://localhost:8080/",
          "height": 36
        },
        "outputId": "358fb918-f3af-409b-e268-b0be792c0463"
      },
      "source": [
        "df_data.describe()"
      ],
      "execution_count": 131,
      "outputs": [
        {
          "output_type": "execute_result",
          "data": {
            "text/plain": [
              "DataFrame[summary: string, _c0: string, _c1: string, _c2: string, _c3: string]"
            ]
          },
          "metadata": {
            "tags": []
          },
          "execution_count": 131
        }
      ]
    },
    {
      "cell_type": "code",
      "metadata": {
        "id": "bLQL2qFZN5Ng",
        "colab_type": "code",
        "colab": {}
      },
      "source": [
        "df_data = df_data.withColumnRenamed('_c0','user_id') \n",
        "df_data = df_data.withColumnRenamed('_c1','item_id')\n",
        "df_data = df_data.withColumnRenamed('_c2','rating')\n",
        "df_data = df_data.withColumnRenamed('_c3','timestamp')"
      ],
      "execution_count": 132,
      "outputs": []
    },
    {
      "cell_type": "code",
      "metadata": {
        "id": "WmTYg8eHNUpK",
        "colab_type": "code",
        "colab": {
          "base_uri": "https://localhost:8080/",
          "height": 166
        },
        "outputId": "55d95ef4-c8a9-4f3d-ab9f-2c566b55cf8e"
      },
      "source": [
        "df_data.show(2)"
      ],
      "execution_count": 133,
      "outputs": [
        {
          "output_type": "stream",
          "text": [
            "+-------+-------+------+---------+\n",
            "|user_id|item_id|rating|timestamp|\n",
            "+-------+-------+------+---------+\n",
            "|    196|    242|     3|881250949|\n",
            "|    186|    302|     3|891717742|\n",
            "+-------+-------+------+---------+\n",
            "only showing top 2 rows\n",
            "\n"
          ],
          "name": "stdout"
        }
      ]
    },
    {
      "cell_type": "code",
      "metadata": {
        "id": "A4Xy7ZRuP1dL",
        "colab_type": "code",
        "colab": {}
      },
      "source": [
        "# df_datd_f =df_data.withColumn('month_year', (array(df_data['timestamp']/86400)+date_trunc))\n",
        "# (1970,1,1)\n",
        "df_datd_f =df_data.withColumn('month_year',from_unixtime (df_data['timestamp'], format = 'yyyy-MM'))\n",
        "# (1970,1,1)"
      ],
      "execution_count": 210,
      "outputs": []
    },
    {
      "cell_type": "code",
      "metadata": {
        "id": "Bh_pjoIsjTSw",
        "colab_type": "code",
        "colab": {
          "base_uri": "https://localhost:8080/",
          "height": 503
        },
        "outputId": "4494488a-6fc3-4f48-975b-07f6d28943ce"
      },
      "source": [
        "df_datd_f.show()"
      ],
      "execution_count": 211,
      "outputs": [
        {
          "output_type": "stream",
          "text": [
            "+-------+-------+------+---------+----------+\n",
            "|user_id|item_id|rating|timestamp|month_year|\n",
            "+-------+-------+------+---------+----------+\n",
            "|    196|    242|     3|881250949|   1997-12|\n",
            "|    186|    302|     3|891717742|   1998-04|\n",
            "|     22|    377|     1|878887116|   1997-11|\n",
            "|    244|     51|     2|880606923|   1997-11|\n",
            "|    166|    346|     1|886397596|   1998-02|\n",
            "|    298|    474|     4|884182806|   1998-01|\n",
            "|    115|    265|     2|881171488|   1997-12|\n",
            "|    253|    465|     5|891628467|   1998-04|\n",
            "|    305|    451|     3|886324817|   1998-02|\n",
            "|      6|     86|     3|883603013|   1997-12|\n",
            "|     62|    257|     2|879372434|   1997-11|\n",
            "|    286|   1014|     5|879781125|   1997-11|\n",
            "|    200|    222|     5|876042340|   1997-10|\n",
            "|    210|     40|     3|891035994|   1998-03|\n",
            "|    224|     29|     3|888104457|   1998-02|\n",
            "|    303|    785|     3|879485318|   1997-11|\n",
            "|    122|    387|     5|879270459|   1997-11|\n",
            "|    194|    274|     2|879539794|   1997-11|\n",
            "|    291|   1042|     4|874834944|   1997-09|\n",
            "|    234|   1184|     2|892079237|   1998-04|\n",
            "+-------+-------+------+---------+----------+\n",
            "only showing top 20 rows\n",
            "\n"
          ],
          "name": "stdout"
        }
      ]
    },
    {
      "cell_type": "code",
      "metadata": {
        "id": "e5pq0P1wqoCX",
        "colab_type": "code",
        "colab": {}
      },
      "source": [
        "df_datd_f.createOrReplaceTempView('data')"
      ],
      "execution_count": 213,
      "outputs": []
    },
    {
      "cell_type": "code",
      "metadata": {
        "id": "PUHqoRnKQKoU",
        "colab_type": "code",
        "colab": {
          "base_uri": "https://localhost:8080/",
          "height": 260
        },
        "outputId": "3795bc65-4253-4b30-d62c-16ad75e4e401"
      },
      "source": [
        "df_data_2 = spark.sql('SELECT month_year, count(item_id) as counti  FROM data GROUP BY month_year ORDER BY month_year')\n",
        "df_data_2.show(15)"
      ],
      "execution_count": 237,
      "outputs": [
        {
          "output_type": "stream",
          "text": [
            "+----------+------+\n",
            "|month_year|counti|\n",
            "+----------+------+\n",
            "|   1997-09|  6704|\n",
            "|   1997-10| 10304|\n",
            "|   1997-11| 23980|\n",
            "|   1997-12| 11911|\n",
            "|   1998-01| 14095|\n",
            "|   1998-02| 10991|\n",
            "|   1998-03| 12656|\n",
            "|   1998-04|  9359|\n",
            "+----------+------+\n",
            "\n"
          ],
          "name": "stdout"
        }
      ]
    },
    {
      "cell_type": "code",
      "metadata": {
        "id": "Fkn_lZ1orB03",
        "colab_type": "code",
        "colab": {}
      },
      "source": [
        "df_data_pic = df_data_2.toPandas()"
      ],
      "execution_count": 233,
      "outputs": []
    },
    {
      "cell_type": "code",
      "metadata": {
        "id": "KnNOfWT6rVIh",
        "colab_type": "code",
        "colab": {}
      },
      "source": [
        "year_d = [yd.month_year for yd in df_data_2[['month_year']].collect()]\n",
        "count_i = [ci.counti for ci in df_data_2[['counti']].collect()]"
      ],
      "execution_count": 234,
      "outputs": []
    },
    {
      "cell_type": "code",
      "metadata": {
        "id": "2jKA8rxIrJC-",
        "colab_type": "code",
        "colab": {
          "base_uri": "https://localhost:8080/",
          "height": 322
        },
        "outputId": "d77e2a24-de57-455d-fe0f-eaef7e757594"
      },
      "source": [
        "plt.figure(figsize=(20,5))\n",
        "plt.bar(year_d, count_i, data = df_data_2)\n",
        "plt.show()"
      ],
      "execution_count": 235,
      "outputs": [
        {
          "output_type": "display_data",
          "data": {
            "image/png": "[encoded data removed]",
            "text/plain": [
              "<Figure size 1440x360 with 1 Axes>"
            ]
          },
          "metadata": {
            "tags": [],
            "needs_background": "light"
          }
        }
      ]
    },
    {
      "cell_type": "markdown",
      "metadata": {
        "id": "Vd7zrNKhKlhf",
        "colab_type": "text"
      },
      "source": [
        "**Выявить top-5 самых активных пользователей (больше всего оценок) за последние 3 месяца**"
      ]
    },
    {
      "cell_type": "code",
      "metadata": {
        "id": "woO14t95hpJ6",
        "colab_type": "code",
        "colab": {
          "base_uri": "https://localhost:8080/",
          "height": 223
        },
        "outputId": "c7b76aa3-7444-435a-a15f-0648cb64c866"
      },
      "source": [
        "df_data_3 = spark.sql('SELECT user_id, sum (rating) as sum_rating  FROM data WHERE (month_year  = \"1998-02\") or (month_year = \"1998-03\") or (month_year = \"1998-04\") GROUP BY user_id ORDER BY sum_rating DESC').show(5)"
      ],
      "execution_count": 260,
      "outputs": [
        {
          "output_type": "stream",
          "text": [
            "+-------+----------+\n",
            "|user_id|sum_rating|\n",
            "+-------+----------+\n",
            "|    655|    1992.0|\n",
            "|      7|    1598.0|\n",
            "|     59|    1503.0|\n",
            "|    234|    1499.0|\n",
            "|    393|    1495.0|\n",
            "+-------+----------+\n",
            "only showing top 5 rows\n",
            "\n"
          ],
          "name": "stdout"
        }
      ]
    }
  ]
}