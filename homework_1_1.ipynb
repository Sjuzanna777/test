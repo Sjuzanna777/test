{
 "cells": [
  {
   "cell_type": "code",
   "execution_count": 1,
   "metadata": {},
   "outputs": [],
   "source": [
    "# Задача 1. Дано слово из латинских букв. Напишите скрипт, который выводит на экран букву из \n",
    "# середины слова (если число букв нечетное). Если букв четное число, то на экран выводятся две буквы из середины.\n",
    "# Пример: для 'test' должно выводится 'es', для 'testing' - 't'"
   ]
  },
  {
   "cell_type": "code",
   "execution_count": 25,
   "metadata": {},
   "outputs": [
    {
     "name": "stdout",
     "output_type": "stream",
     "text": [
      "mongDrop\n",
      "gD\n"
     ]
    }
   ],
   "source": [
    "a=input()\n",
    "m = round(len(a)/2)-1\n",
    "if(len(a) % 2 == 0): \n",
    "    print (a[m:(m+2)])\n",
    "else: \n",
    "    print (a[m+1])\n",
    "# print(a[m])"
   ]
  },
  {
   "cell_type": "code",
   "execution_count": 208,
   "metadata": {},
   "outputs": [],
   "source": [
    "# Задача 2. Мы делаем MVP dating-сервиса, и у нас есть список парней и девушек (их число может варьироваться):\n",
    "\n",
    "boys = ['Peter', 'Alex', 'John', 'Arthur', 'Richard']\n",
    "girls = ['Kate', 'Liza', 'Kira', 'Emma', 'Trisha']\n",
    "\n",
    "# Выдвигаем гипотезу: лучшие рекомендации мы получим, если просто отсортируем имена по алфавиту и познакомим людей \n",
    "# с одинаковыми индексами после сортировки! \"Познакомить\" пары нам поможет функция zip,\n",
    "# а в цикле распакуем zip-объект и выведем информацию в виде:\n",
    "\n",
    "# Идеальные пары:\n",
    "# Alex и Emma\n",
    "# Arthur и Kate\n",
    "# John и Kira\n",
    "# Peter и Liza\n",
    "# Richard и Trisha\n",
    "\n",
    "# Внимание! Если количество людей в списках будет не совпадать, то мы никого знакомить не будет и \n",
    "# выведем пользователю предупреждение, что кто-то может остаться без пары!\n"
   ]
  },
  {
   "cell_type": "code",
   "execution_count": 209,
   "metadata": {},
   "outputs": [
    {
     "name": "stdout",
     "output_type": "stream",
     "text": [
      "Идеальные пары:\n",
      "Alex и Emma\n",
      "Arthur и Kate\n",
      "John и Kira\n",
      "Peter и Liza\n",
      "Richard и Trisha\n"
     ]
    }
   ],
   "source": [
    "b_g = zip(sorted(boys), sorted(girls))\n",
    "\n",
    "if len(boys)==len(girls):\n",
    "    print('Идеальные пары:')\n",
    "    for b, g in b_g:\n",
    "        print(b,'и', g)\n",
    "else:\n",
    "    print('!Предупреждение. Кто-то останется без пары')\n",
    "    "
   ]
  },
  {
   "cell_type": "code",
   "execution_count": 5,
   "metadata": {},
   "outputs": [
    {
     "name": "stdout",
     "output_type": "stream",
     "text": [
      "Thailand 59.94\n",
      "Germany 41.69\n",
      "Russia 23.69\n",
      "Poland 38.34\n"
     ]
    }
   ],
   "source": [
    "# Задача 3. У нас есть список, содержащий информацию о среднедневной температуре в Фаренгейтах \n",
    "# за недельный период по странам. Необходимо написать код, который рассчитает среднюю температуру \n",
    "# за неделю в Цельсиях для каждой страны.\n",
    "\n",
    "countries_temperature = [\n",
    " ['Thailand', [75.2, 77, 78.8, 73.4, 68, 75.2, 77]],\n",
    " ['Germany', [57.2, 55.4, 59, 59, 53.6, 55.4, 57.2]],\n",
    " ['Russia', [35.6, 37.4, 39.2, 41, 42.8, 39.2, 35.6]],\n",
    " ['Poland', [50, 50, 53.6, 57.2, 55.4, 55.4, 51.8]],\n",
    "]\n",
    "\n",
    "\n",
    "for m, n in countries_temperature:\n",
    "    print(m, round(((sum(n)/len(n))-30/2),2))   \n"
   ]
  },
  {
   "cell_type": "code",
   "execution_count": 6,
   "metadata": {},
   "outputs": [],
   "source": [
    "# Задача 4. Дан поток логов по количеству просмотренных страниц для каждого пользователя. \n",
    "# Список отсортирован по ID пользователя. Вам необходимо написать алгоритм,\n",
    "# который считает среднее значение просмотров на пользователя. Т. е. надо посчитать\n",
    "# отношение суммы всех просмотров к количеству уникальных пользователей.\n",
    "\n",
    "stream = [\n",
    "    '2018-01-01,user1,3',\n",
    "    '2018-01-07,user1,4',\n",
    "    '2018-03-29,user1,1',\n",
    "    '2018-04-04,user1,13',\n",
    "    '2018-01-05,user2,7',\n",
    "    '2018-06-14,user3,4',\n",
    "    '2018-07-02,user3,10',\n",
    "    '2018-03-21,user4,19',\n",
    "    '2018-03-22,user4,4',\n",
    "    '2018-04-22,user4,8',\n",
    "    '2018-05-03,user4,9',\n",
    "    '2018-05-11,user4,11',\n",
    "]\n"
   ]
  },
  {
   "cell_type": "code",
   "execution_count": 7,
   "metadata": {},
   "outputs": [
    {
     "name": "stdout",
     "output_type": "stream",
     "text": [
      "23.25\n"
     ]
    }
   ],
   "source": [
    "users = []\n",
    "m = 0\n",
    "for log in stream:\n",
    "    log = log.split(',')\n",
    "    m += int(log[2])\n",
    "    if log[1] not in users: \n",
    "        users.append(log[1])\n",
    "print(round(m/len(users), 2))"
   ]
  },
  {
   "cell_type": "code",
   "execution_count": 8,
   "metadata": {},
   "outputs": [],
   "source": [
    "# Задача 5. Дана статистика рекламных кампаний по дням. Напишите алгоритм, \n",
    "# который по паре дата-кампания ищет значение численного столбца. \n",
    "# Т. е. для даты '2018-01-01' и 'google' нужно получить число 25.\n",
    "# Считайте, что все комбинации дата-кампания уникальны.\n",
    "\n",
    "stats = [\n",
    "    ['2018-01-01', 'google', 25],\n",
    "    ['2018-01-01', 'yandex', 65],\n",
    "    ['2018-01-01', 'market', 89],\n",
    "    ['2018-01-02', 'google', 574],\n",
    "    ['2018-01-02', 'yandex', 249],\n",
    "    ['2018-01-02', 'market', 994],\n",
    "    ['2018-01-03', 'google', 1843],\n",
    "    ['2018-01-03', 'yandex', 1327],\n",
    "    ['2018-01-03', 'market', 1764],\n",
    "]"
   ]
  },
  {
   "cell_type": "code",
   "execution_count": 9,
   "metadata": {},
   "outputs": [
    {
     "data": {
      "text/plain": [
       "25"
      ]
     },
     "execution_count": 9,
     "metadata": {},
     "output_type": "execute_result"
    }
   ],
   "source": [
    "def filter_f(date, company):\n",
    "    return list(filter(lambda stat: date in stat and company in stat, stats))[0][-1]\n",
    " \n",
    "filter_f('2018-01-01', 'google')"
   ]
  },
  {
   "cell_type": "code",
   "execution_count": 10,
   "metadata": {},
   "outputs": [],
   "source": [
    "# Задача 6. Дан список вида:\n",
    "\n",
    "data = [\n",
    "    [13, 25, 23, 34],\n",
    "    [45, 32, 44, 47],\n",
    "    [12, 33, 23, 95],\n",
    "    [13, 53, 34, 35]\n",
    "]\n",
    "\n",
    "# Напишите функцию, которая возвращает сумму элементов на диагонали. Т. е. 13+32+23+35.\n",
    "# Список может быть любой длины, но всегда является \"квадратным\" \n",
    "# (количество элементов во вложенных списках равно их количеству).\n"
   ]
  },
  {
   "cell_type": "code",
   "execution_count": 11,
   "metadata": {},
   "outputs": [
    {
     "name": "stdout",
     "output_type": "stream",
     "text": [
      "103\n"
     ]
    }
   ],
   "source": [
    "x = 0\n",
    "for i, num in enumerate(data):\n",
    "    x+=num[i]\n",
    "print(x)\n"
   ]
  }
 ],
 "metadata": {
  "kernelspec": {
   "display_name": "Python 3",
   "language": "python",
   "name": "python3"
  },
  "language_info": {
   "codemirror_mode": {
    "name": "ipython",
    "version": 3
   },
   "file_extension": ".py",
   "mimetype": "text/x-python",
   "name": "python",
   "nbconvert_exporter": "python",
   "pygments_lexer": "ipython3",
   "version": "3.7.4"
  }
 },
 "nbformat": 4,
 "nbformat_minor": 2
}
