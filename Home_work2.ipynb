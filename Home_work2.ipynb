{
 "cells": [
  {
   "cell_type": "code",
   "execution_count": 1,
   "metadata": {},
   "outputs": [],
   "source": [
    "# Задание 1 Даны 2 строки: long_phrase и short_phrase. Напишите код’,’который проверяет\n",
    "# действительно ли длинная фраза long_phrase длиннее короткой short_phrase. И\n",
    "# выводит true или false в зависимости от результата сравнения.\n",
    "\n",
    "long_phrase = 'Насколько проще было бы писать программы, если бы не заказчики'\n",
    "short_phrase = '640Кб должно хватить для любых задач. Билл Гейтс (по легенде)'\n",
    "if len(long_phrase)>len(short_phrase):print ('True')\n",
    "else: print ('False')"
   ]
  },
  {
   "cell_type": "code",
   "execution_count": 2,
   "metadata": {},
   "outputs": [],
   "source": [
    "# Задание 2 Дано значение объема файла в байтах (в мегабайте 2^20 байт). Напишите\n",
    "# перевод этого значения в мегабайты в формате: \"Объем файла равен 213.68Mb\".\n",
    "\n",
    "size_bites=224059719.7\n",
    "Mb_1=2**20\n",
    "#print ('Объем файла равен' 'size_bites'/'Mb_1' 'Mb')\n",
    "print('Объем файла равен', round(size_bites/Mb_1,2), 'Mb')"
   ]
  },
  {
   "cell_type": "code",
   "execution_count": 5,
   "metadata": {},
   "outputs": [
    {
     "name": "stdout",
     "output_type": "stream",
     "text": [
      "Введите день рождения\n",
      "01\n",
      "Введите месяц рождения\n",
      "января\n",
      "Козерог\n"
     ]
    }
   ],
   "source": [
    "#Задание 3 Разработать приложение для определения знака зодиака по дате\n",
    "# рождения. Пример:\n",
    "# Введите месяц: март\n",
    "# Введите число: 6\n",
    "# Вывод: Рыбы\n",
    "\n",
    "print ('Введите день рождения')\n",
    "Day = input()\n",
    "print ('Введите месяц рождения')\n",
    "Month = input()\n",
    "if (Day,Month)==('01','января'): print ('Козерог')"
   ]
  },
  {
   "cell_type": "code",
   "execution_count": null,
   "metadata": {},
   "outputs": [],
   "source": []
  },
  {
   "cell_type": "code",
   "execution_count": 6,
   "metadata": {},
   "outputs": [
    {
     "name": "stdout",
     "output_type": "stream",
     "text": [
      "Введите заработанную плату в месяц:\n",
      "100000\n",
      "Введите сколько процентов уходит на ипотеку:\n",
      "30\n",
      "Введите сколько процентов уходит \"на жизнь\":\n",
      "50\n",
      "Введите количество премий за год:\n",
      "2\n",
      "На ипотеку было потрачено за год: 360000.0 рублей. Было накоплено 439999.0 рублей.\n"
     ]
    }
   ],
   "source": [
    "# #Задание 4 Нужно разработать приложение для финансового планирования. Приложение\n",
    "# учитывает сколько уходит на ипотеку, \"на жизнь\" и сколько нужно отложить на пенсию.\n",
    "# Пользователь вводит:\n",
    "# заработанную плату в месяц.\n",
    "# сколько процентов от ЗП уходит на ипотеку.\n",
    "# сколько процентов от ЗП уходит \"на жизнь\".\n",
    "# сколько раз приходит премия в год.\n",
    "# Остальная часть заработанной платы откладывается на пенсию.\n",
    "# Также пользователю приходит премия в размере зарплаты, от которой половина уходит на\n",
    "# отпуск, а вторая половина откладывается.\n",
    "# Программа должна учитывать сколько премий было в год.\n",
    "# Нужно вывести сколько денег тратит пользователь на ипотеку и сколько он накопит за год.\n",
    "# Пример:\n",
    "# Введите заработанную плату в месяц: 100000\n",
    "# Введите сколько процентов уходит на ипотеку: 30\n",
    "# Введите сколько процентов уходит на жизнь: 50\n",
    "# Введите количество премий за год: 2\n",
    "# Вывод: На ипотеку было потрачено: 360000 рублей Было накоплено: 340000 рублей\n",
    "print('Введите заработанную плату в месяц:')\n",
    "Salary__month=int(input())\n",
    "\n",
    "print('Введите сколько процентов уходит на ипотеку:')\n",
    "Mortgage_month_perc = int(input())\n",
    "\n",
    "print('Введите сколько процентов уходит \"на жизнь\":')\n",
    "Life_month_perc= int(input())\n",
    "\n",
    "print('Введите количество премий за год:')\n",
    "Add_income_in_year= int(input())\n",
    "\n",
    "Holiday=Add_income_in_year*1/2\n",
    "On_others=Add_income_in_year*1/2\n",
    "pension=(Salary__month-Salary__month*Mortgage_month_perc/100-Salary__month*Life_month_perc/100)*12\n",
    "Net_income= ((Salary__month -Salary__month*Mortgage_month_perc/100-\n",
    "Salary__month*Life_month_perc/100)*12+ Salary__month* Add_income_in_year-Holiday)\n",
    "Mortgage=Salary__month*Mortgage_month_perc/100*12\n",
    "\n",
    "\n",
    "print('На ипотеку было потрачено за год:',Mortgage,'рублей.', 'Было накоплено',Net_income,'рублей.')"
   ]
  }
 ],
 "metadata": {
  "kernelspec": {
   "display_name": "Python 3",
   "language": "python",
   "name": "python3"
  },
  "language_info": {
   "codemirror_mode": {
    "name": "ipython",
    "version": 3
   },
   "file_extension": ".py",
   "mimetype": "text/x-python",
   "name": "python",
   "nbconvert_exporter": "python",
   "pygments_lexer": "ipython3",
   "version": "3.7.4"
  }
 },
 "nbformat": 4,
 "nbformat_minor": 2
}
