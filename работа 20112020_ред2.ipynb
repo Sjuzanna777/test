{
 "cells": [
  {
   "cell_type": "code",
   "execution_count": 5,
   "metadata": {},
   "outputs": [],
   "source": [
    "import pandas as pd\n",
    "import numpy as np\n",
    "import glob\n",
    "import matplotlib.pyplot as plt\n",
    "import scipy.stats as sts\n",
    "%matplotlib inline\n",
    "import statistics\n",
    "import seaborn as sns"
   ]
  },
  {
   "cell_type": "code",
   "execution_count": 6,
   "metadata": {},
   "outputs": [],
   "source": [
    "Data = pd.DataFrame()"
   ]
  },
  {
   "cell_type": "code",
   "execution_count": 234,
   "metadata": {},
   "outputs": [
    {
     "data": {
      "text/html": [
       "<div>\n",
       "<style scoped>\n",
       "    .dataframe tbody tr th:only-of-type {\n",
       "        vertical-align: middle;\n",
       "    }\n",
       "\n",
       "    .dataframe tbody tr th {\n",
       "        vertical-align: top;\n",
       "    }\n",
       "\n",
       "    .dataframe thead th {\n",
       "        text-align: right;\n",
       "    }\n",
       "</style>\n",
       "<table border=\"1\" class=\"dataframe\">\n",
       "  <thead>\n",
       "    <tr style=\"text-align: right;\">\n",
       "      <th></th>\n",
       "      <th>дата</th>\n",
       "      <th>Количество в реестр</th>\n",
       "      <th>Восстановились за год</th>\n",
       "      <th>Портфель кредитов</th>\n",
       "    </tr>\n",
       "  </thead>\n",
       "  <tbody>\n",
       "    <tr>\n",
       "      <th>0</th>\n",
       "      <td>2017-10-01</td>\n",
       "      <td>5696257</td>\n",
       "      <td>69900</td>\n",
       "      <td>4154892</td>\n",
       "    </tr>\n",
       "  </tbody>\n",
       "</table>\n",
       "</div>"
      ],
      "text/plain": [
       "        дата  Количество в реестр  Восстановились за год  Портфель кредитов\n",
       "0 2017-10-01              5696257                  69900            4154892"
      ]
     },
     "execution_count": 234,
     "metadata": {},
     "output_type": "execute_result"
    }
   ],
   "source": [
    "df4 = pd.read_excel('Расчет данных.xlsx',\n",
    "                 sheet_name = 'Лист1')\n",
    "df4.head(1)"
   ]
  },
  {
   "cell_type": "code",
   "execution_count": 235,
   "metadata": {},
   "outputs": [
    {
     "data": {
      "image/png": "[encoded data removed]",
      "text/plain": [
       "<Figure size 720x720 with 2 Axes>"
      ]
     },
     "metadata": {
      "needs_background": "light"
     },
     "output_type": "display_data"
    }
   ],
   "source": [
    "sns.heatmap(df4.corr(),annot=True,cmap='RdYlGn',linewidths=0.1) #data.corr()-->correlation matrix\n",
    "fig = plt.gcf()\n",
    "fig.set_size_inches(10,10)\n",
    "plt.show()"
   ]
  },
  {
   "cell_type": "code",
   "execution_count": 230,
   "metadata": {},
   "outputs": [],
   "source": [
    "debt = df4['Портфель кредитов']\n",
    "reestr = df4['Количество в реестр']\n",
    "return_reestr = df4['Восстановились за год']"
   ]
  },
  {
   "cell_type": "code",
   "execution_count": 234,
   "metadata": {},
   "outputs": [],
   "source": [
    "x = return_reestr,\n",
    "y = reestr"
   ]
  },
  {
   "cell_type": "code",
   "execution_count": 235,
   "metadata": {},
   "outputs": [],
   "source": [
    "# Split into 70% training and 30% testing set\n",
    "X, X_test, y, y_test = train_test_split(debt, reestr,\n",
    "test_size = 0.3,\n",
    "random_state = 42)"
   ]
  },
  {
   "cell_type": "code",
   "execution_count": 237,
   "metadata": {},
   "outputs": [
    {
     "name": "stdout",
     "output_type": "stream",
     "text": [
      "The baseline guess is a score of 5969510.00\n",
      "Baseline Performance on the test set: MAE = 125595.5333\n"
     ]
    }
   ],
   "source": [
    "# Function to calculate mean absolute error\n",
    "def mae(y_true, y_pred):\n",
    "    return np.mean(abs(y_true - y_pred))\n",
    "\n",
    "baseline_guess = np.median(y)\n",
    "\n",
    "print('The baseline guess is a score of %0.2f' % baseline_guess)\n",
    "print(\"Baseline Performance on the test set: MAE = %0.4f\" % mae(y_test, baseline_guess))"
   ]
  },
  {
   "cell_type": "code",
   "execution_count": 132,
   "metadata": {},
   "outputs": [],
   "source": [
    "x = debt,\n",
    "z = return_reestr"
   ]
  },
  {
   "cell_type": "code",
   "execution_count": 133,
   "metadata": {},
   "outputs": [],
   "source": [
    "# Split into 70% training and 30% testing set\n",
    "X, X_test, z, z_test = train_test_split(debt, out,\n",
    "test_size = 0.3,\n",
    "random_state = 42)"
   ]
  },
  {
   "cell_type": "code",
   "execution_count": 136,
   "metadata": {
    "scrolled": true
   },
   "outputs": [
    {
     "name": "stdout",
     "output_type": "stream",
     "text": [
      "The baseline guess is a score of 0.00\n",
      "Baseline Performance on the test set: MAE = 58323.8000\n"
     ]
    }
   ],
   "source": [
    "# Function to calculate mean absolute error\n",
    "def mae(z_true, z_pred):\n",
    "    return np.mean(abs(z_true - z_pred))\n",
    "\n",
    "baseline_guess = np.median(z)\n",
    "\n",
    "print('The baseline guess is a score of %0.2f' % baseline_guess)\n",
    "print(\"Baseline Performance on the test set: MAE = %0.4f\" % mae(z_test, baseline_guess))"
   ]
  },
  {
   "cell_type": "code",
   "execution_count": 144,
   "metadata": {},
   "outputs": [
    {
     "data": {
      "text/html": [
       "<div>\n",
       "<style scoped>\n",
       "    .dataframe tbody tr th:only-of-type {\n",
       "        vertical-align: middle;\n",
       "    }\n",
       "\n",
       "    .dataframe tbody tr th {\n",
       "        vertical-align: top;\n",
       "    }\n",
       "\n",
       "    .dataframe thead th {\n",
       "        text-align: right;\n",
       "    }\n",
       "</style>\n",
       "<table border=\"1\" class=\"dataframe\">\n",
       "  <thead>\n",
       "    <tr style=\"text-align: right;\">\n",
       "      <th></th>\n",
       "      <th>Unnamed: 0</th>\n",
       "      <th>Количество в реестр</th>\n",
       "      <th>Выпали в августе</th>\n",
       "      <th>Восстановились за год</th>\n",
       "      <th>Портфель кредитов</th>\n",
       "      <th>Субъекты с кредитом</th>\n",
       "    </tr>\n",
       "  </thead>\n",
       "  <tbody>\n",
       "    <tr>\n",
       "      <th>0</th>\n",
       "      <td>2019-02-01</td>\n",
       "      <td>6041276</td>\n",
       "      <td>0</td>\n",
       "      <td>100</td>\n",
       "      <td>4336149</td>\n",
       "      <td>232975</td>\n",
       "    </tr>\n",
       "  </tbody>\n",
       "</table>\n",
       "</div>"
      ],
      "text/plain": [
       "  Unnamed: 0  Количество в реестр  Выпали в августе  Восстановились за год  \\\n",
       "0 2019-02-01              6041276                 0                    100   \n",
       "\n",
       "   Портфель кредитов  Субъекты с кредитом  \n",
       "0            4336149               232975  "
      ]
     },
     "execution_count": 144,
     "metadata": {},
     "output_type": "execute_result"
    }
   ],
   "source": [
    "df5 = pd.read_excel('Расчет данных.xlsx',\n",
    "                 sheet_name = 'Лист3')\n",
    "df5.head(1)"
   ]
  },
  {
   "cell_type": "code",
   "execution_count": 236,
   "metadata": {},
   "outputs": [
    {
     "data": {
      "image/png": "[encoded data removed]",
      "text/plain": [
       "<Figure size 720x720 with 2 Axes>"
      ]
     },
     "metadata": {
      "needs_background": "light"
     },
     "output_type": "display_data"
    }
   ],
   "source": [
    "sns.heatmap(df5.corr(),annot=True,cmap='RdYlGn',linewidths=0.1) #data.corr()-->correlation matrix\n",
    "fig = plt.gcf()\n",
    "fig.set_size_inches(10,10)\n",
    "plt.show()"
   ]
  },
  {
   "cell_type": "code",
   "execution_count": 160,
   "metadata": {},
   "outputs": [
    {
     "data": {
      "text/html": [
       "<div>\n",
       "<style scoped>\n",
       "    .dataframe tbody tr th:only-of-type {\n",
       "        vertical-align: middle;\n",
       "    }\n",
       "\n",
       "    .dataframe tbody tr th {\n",
       "        vertical-align: top;\n",
       "    }\n",
       "\n",
       "    .dataframe thead th {\n",
       "        text-align: right;\n",
       "    }\n",
       "</style>\n",
       "<table border=\"1\" class=\"dataframe\">\n",
       "  <thead>\n",
       "    <tr style=\"text-align: right;\">\n",
       "      <th></th>\n",
       "      <th>Количество в реестр</th>\n",
       "      <th>Выпали в августе</th>\n",
       "      <th>Восстановились за год</th>\n",
       "      <th>Портфель кредитов</th>\n",
       "      <th>Субъекты с кредитом</th>\n",
       "    </tr>\n",
       "  </thead>\n",
       "  <tbody>\n",
       "    <tr>\n",
       "      <th>count</th>\n",
       "      <td>2.000000e+01</td>\n",
       "      <td>20.000000</td>\n",
       "      <td>20.000000</td>\n",
       "      <td>2.000000e+01</td>\n",
       "      <td>20.000000</td>\n",
       "    </tr>\n",
       "    <tr>\n",
       "      <th>mean</th>\n",
       "      <td>5.987604e+06</td>\n",
       "      <td>63158.400000</td>\n",
       "      <td>12005.000000</td>\n",
       "      <td>4.697592e+06</td>\n",
       "      <td>285533.550000</td>\n",
       "    </tr>\n",
       "    <tr>\n",
       "      <th>std</th>\n",
       "      <td>1.532422e+05</td>\n",
       "      <td>194422.931166</td>\n",
       "      <td>26432.308615</td>\n",
       "      <td>3.339396e+05</td>\n",
       "      <td>53929.736956</td>\n",
       "    </tr>\n",
       "    <tr>\n",
       "      <th>min</th>\n",
       "      <td>5.590113e+06</td>\n",
       "      <td>0.000000</td>\n",
       "      <td>100.000000</td>\n",
       "      <td>4.153796e+06</td>\n",
       "      <td>232975.000000</td>\n",
       "    </tr>\n",
       "    <tr>\n",
       "      <th>25%</th>\n",
       "      <td>5.911005e+06</td>\n",
       "      <td>0.000000</td>\n",
       "      <td>288.750000</td>\n",
       "      <td>4.393044e+06</td>\n",
       "      <td>252013.000000</td>\n",
       "    </tr>\n",
       "    <tr>\n",
       "      <th>50%</th>\n",
       "      <td>6.005904e+06</td>\n",
       "      <td>0.000000</td>\n",
       "      <td>581.500000</td>\n",
       "      <td>4.670217e+06</td>\n",
       "      <td>270374.500000</td>\n",
       "    </tr>\n",
       "    <tr>\n",
       "      <th>75%</th>\n",
       "      <td>6.070731e+06</td>\n",
       "      <td>0.000000</td>\n",
       "      <td>2483.500000</td>\n",
       "      <td>4.964815e+06</td>\n",
       "      <td>297861.500000</td>\n",
       "    </tr>\n",
       "    <tr>\n",
       "      <th>max</th>\n",
       "      <td>6.212178e+06</td>\n",
       "      <td>641285.000000</td>\n",
       "      <td>96291.000000</td>\n",
       "      <td>5.288405e+06</td>\n",
       "      <td>427497.000000</td>\n",
       "    </tr>\n",
       "  </tbody>\n",
       "</table>\n",
       "</div>"
      ],
      "text/plain": [
       "       Количество в реестр  Выпали в августе  Восстановились за год  \\\n",
       "count         2.000000e+01         20.000000              20.000000   \n",
       "mean          5.987604e+06      63158.400000           12005.000000   \n",
       "std           1.532422e+05     194422.931166           26432.308615   \n",
       "min           5.590113e+06          0.000000             100.000000   \n",
       "25%           5.911005e+06          0.000000             288.750000   \n",
       "50%           6.005904e+06          0.000000             581.500000   \n",
       "75%           6.070731e+06          0.000000            2483.500000   \n",
       "max           6.212178e+06     641285.000000           96291.000000   \n",
       "\n",
       "       Портфель кредитов  Субъекты с кредитом  \n",
       "count       2.000000e+01            20.000000  \n",
       "mean        4.697592e+06        285533.550000  \n",
       "std         3.339396e+05         53929.736956  \n",
       "min         4.153796e+06        232975.000000  \n",
       "25%         4.393044e+06        252013.000000  \n",
       "50%         4.670217e+06        270374.500000  \n",
       "75%         4.964815e+06        297861.500000  \n",
       "max         5.288405e+06        427497.000000  "
      ]
     },
     "execution_count": 160,
     "metadata": {},
     "output_type": "execute_result"
    }
   ],
   "source": [
    "df5.describe()"
   ]
  },
  {
   "cell_type": "code",
   "execution_count": 156,
   "metadata": {},
   "outputs": [],
   "source": [
    "x = debt,\n",
    "z = return_reestr"
   ]
  },
  {
   "cell_type": "code",
   "execution_count": 157,
   "metadata": {},
   "outputs": [],
   "source": [
    "debt = df5['Портфель кредитов']\n",
    "reestr = df5['Количество в реестр']\n",
    "return_reestr = df5['Восстановились за год']"
   ]
  },
  {
   "cell_type": "code",
   "execution_count": 158,
   "metadata": {},
   "outputs": [],
   "source": [
    "# Split into 70% training and 30% testing set\n",
    "\n",
    "X, X_test, z, z_test = train_test_split(debt, return_reestr,\n",
    "test_size = 0.3,\n",
    "random_state = 42)"
   ]
  },
  {
   "cell_type": "code",
   "execution_count": 159,
   "metadata": {},
   "outputs": [
    {
     "name": "stdout",
     "output_type": "stream",
     "text": [
      "The baseline guess is a score of 581.50\n",
      "Baseline Performance on the test set: MAE = 1025.6667\n"
     ]
    }
   ],
   "source": [
    "# Function to calculate mean absolute error\n",
    "def mae(z_true, z_pred):\n",
    "    return np.mean(abs(z_true - z_pred))\n",
    "\n",
    "baseline_guess = np.median(z)\n",
    "\n",
    "print('The baseline guess is a score of %0.2f' % baseline_guess)\n",
    "print(\"Baseline Performance on the test set: MAE = %0.4f\" % mae(z_test, baseline_guess))"
   ]
  },
  {
   "cell_type": "code",
   "execution_count": 189,
   "metadata": {},
   "outputs": [
    {
     "data": {
      "text/html": [
       "<div>\n",
       "<style scoped>\n",
       "    .dataframe tbody tr th:only-of-type {\n",
       "        vertical-align: middle;\n",
       "    }\n",
       "\n",
       "    .dataframe tbody tr th {\n",
       "        vertical-align: top;\n",
       "    }\n",
       "\n",
       "    .dataframe thead th {\n",
       "        text-align: right;\n",
       "    }\n",
       "</style>\n",
       "<table border=\"1\" class=\"dataframe\">\n",
       "  <thead>\n",
       "    <tr style=\"text-align: right;\">\n",
       "      <th></th>\n",
       "      <th>дата</th>\n",
       "      <th>Количество в реестр</th>\n",
       "      <th>Выпали в августе</th>\n",
       "      <th>Восстановились за год</th>\n",
       "      <th>Портфель кредитов</th>\n",
       "      <th>Субъекты с кредитом</th>\n",
       "    </tr>\n",
       "  </thead>\n",
       "  <tbody>\n",
       "    <tr>\n",
       "      <th>0</th>\n",
       "      <td>2019-02-01</td>\n",
       "      <td>6041276</td>\n",
       "      <td>0</td>\n",
       "      <td>100</td>\n",
       "      <td>4336149</td>\n",
       "      <td>232975</td>\n",
       "    </tr>\n",
       "  </tbody>\n",
       "</table>\n",
       "</div>"
      ],
      "text/plain": [
       "        дата  Количество в реестр  Выпали в августе  Восстановились за год  \\\n",
       "0 2019-02-01              6041276                 0                    100   \n",
       "\n",
       "   Портфель кредитов  Субъекты с кредитом  \n",
       "0            4336149               232975  "
      ]
     },
     "execution_count": 189,
     "metadata": {},
     "output_type": "execute_result"
    }
   ],
   "source": [
    "df5 = pd.read_excel('Расчет данных.xlsx',\n",
    "                 sheet_name = 'Лист3')\n",
    "df5.head(1)"
   ]
  },
  {
   "cell_type": "code",
   "execution_count": 186,
   "metadata": {},
   "outputs": [
    {
     "data": {
      "text/html": [
       "<div>\n",
       "<style scoped>\n",
       "    .dataframe tbody tr th:only-of-type {\n",
       "        vertical-align: middle;\n",
       "    }\n",
       "\n",
       "    .dataframe tbody tr th {\n",
       "        vertical-align: top;\n",
       "    }\n",
       "\n",
       "    .dataframe thead th {\n",
       "        text-align: right;\n",
       "    }\n",
       "</style>\n",
       "<table border=\"1\" class=\"dataframe\">\n",
       "  <thead>\n",
       "    <tr style=\"text-align: right;\">\n",
       "      <th></th>\n",
       "      <th>Количество в реестр</th>\n",
       "      <th>Выпали в августе</th>\n",
       "      <th>Восстановились за год</th>\n",
       "      <th>Портфель кредитов</th>\n",
       "      <th>Субъекты с кредитом</th>\n",
       "    </tr>\n",
       "  </thead>\n",
       "  <tbody>\n",
       "    <tr>\n",
       "      <th>Количество в реестр</th>\n",
       "      <td>1.000000</td>\n",
       "      <td>-0.615800</td>\n",
       "      <td>-0.506880</td>\n",
       "      <td>-0.121546</td>\n",
       "      <td>-0.441507</td>\n",
       "    </tr>\n",
       "    <tr>\n",
       "      <th>Выпали в августе</th>\n",
       "      <td>-0.615800</td>\n",
       "      <td>1.000000</td>\n",
       "      <td>0.870400</td>\n",
       "      <td>-0.001535</td>\n",
       "      <td>0.355349</td>\n",
       "    </tr>\n",
       "    <tr>\n",
       "      <th>Восстановились за год</th>\n",
       "      <td>-0.506880</td>\n",
       "      <td>0.870400</td>\n",
       "      <td>1.000000</td>\n",
       "      <td>-0.001567</td>\n",
       "      <td>0.257388</td>\n",
       "    </tr>\n",
       "    <tr>\n",
       "      <th>Портфель кредитов</th>\n",
       "      <td>-0.121546</td>\n",
       "      <td>-0.001535</td>\n",
       "      <td>-0.001567</td>\n",
       "      <td>1.000000</td>\n",
       "      <td>0.866989</td>\n",
       "    </tr>\n",
       "    <tr>\n",
       "      <th>Субъекты с кредитом</th>\n",
       "      <td>-0.441507</td>\n",
       "      <td>0.355349</td>\n",
       "      <td>0.257388</td>\n",
       "      <td>0.866989</td>\n",
       "      <td>1.000000</td>\n",
       "    </tr>\n",
       "  </tbody>\n",
       "</table>\n",
       "</div>"
      ],
      "text/plain": [
       "                       Количество в реестр  Выпали в августе  \\\n",
       "Количество в реестр               1.000000         -0.615800   \n",
       "Выпали в августе                 -0.615800          1.000000   \n",
       "Восстановились за год            -0.506880          0.870400   \n",
       "Портфель кредитов                -0.121546         -0.001535   \n",
       "Субъекты с кредитом              -0.441507          0.355349   \n",
       "\n",
       "                       Восстановились за год  Портфель кредитов  \\\n",
       "Количество в реестр                -0.506880          -0.121546   \n",
       "Выпали в августе                    0.870400          -0.001535   \n",
       "Восстановились за год               1.000000          -0.001567   \n",
       "Портфель кредитов                  -0.001567           1.000000   \n",
       "Субъекты с кредитом                 0.257388           0.866989   \n",
       "\n",
       "                       Субъекты с кредитом  \n",
       "Количество в реестр              -0.441507  \n",
       "Выпали в августе                  0.355349  \n",
       "Восстановились за год             0.257388  \n",
       "Портфель кредитов                 0.866989  \n",
       "Субъекты с кредитом               1.000000  "
      ]
     },
     "execution_count": 186,
     "metadata": {},
     "output_type": "execute_result"
    }
   ],
   "source": [
    "df5.corr()"
   ]
  },
  {
   "cell_type": "code",
   "execution_count": 355,
   "metadata": {},
   "outputs": [
    {
     "data": {
      "text/html": [
       "<div>\n",
       "<style scoped>\n",
       "    .dataframe tbody tr th:only-of-type {\n",
       "        vertical-align: middle;\n",
       "    }\n",
       "\n",
       "    .dataframe tbody tr th {\n",
       "        vertical-align: top;\n",
       "    }\n",
       "\n",
       "    .dataframe thead th {\n",
       "        text-align: right;\n",
       "    }\n",
       "</style>\n",
       "<table border=\"1\" class=\"dataframe\">\n",
       "  <thead>\n",
       "    <tr style=\"text-align: right;\">\n",
       "      <th></th>\n",
       "      <th>дата</th>\n",
       "      <th>Количество в реестр</th>\n",
       "      <th>Восстановились за год</th>\n",
       "      <th>Портфель кредитов</th>\n",
       "    </tr>\n",
       "  </thead>\n",
       "  <tbody>\n",
       "    <tr>\n",
       "      <th>0</th>\n",
       "      <td>2017-10-01</td>\n",
       "      <td>5696257</td>\n",
       "      <td>69900</td>\n",
       "      <td>4154892</td>\n",
       "    </tr>\n",
       "  </tbody>\n",
       "</table>\n",
       "</div>"
      ],
      "text/plain": [
       "        дата  Количество в реестр  Восстановились за год  Портфель кредитов\n",
       "0 2017-10-01              5696257                  69900            4154892"
      ]
     },
     "execution_count": 355,
     "metadata": {},
     "output_type": "execute_result"
    }
   ],
   "source": [
    "df4 = pd.read_excel('Расчет данных.xlsx',\n",
    "                 sheet_name = 'Лист1')\n",
    "df4.head(1)"
   ]
  },
  {
   "cell_type": "code",
   "execution_count": 356,
   "metadata": {},
   "outputs": [
    {
     "data": {
      "text/html": [
       "<div>\n",
       "<style scoped>\n",
       "    .dataframe tbody tr th:only-of-type {\n",
       "        vertical-align: middle;\n",
       "    }\n",
       "\n",
       "    .dataframe tbody tr th {\n",
       "        vertical-align: top;\n",
       "    }\n",
       "\n",
       "    .dataframe thead th {\n",
       "        text-align: right;\n",
       "    }\n",
       "</style>\n",
       "<table border=\"1\" class=\"dataframe\">\n",
       "  <thead>\n",
       "    <tr style=\"text-align: right;\">\n",
       "      <th></th>\n",
       "      <th>Количество в реестр</th>\n",
       "      <th>Восстановились за год</th>\n",
       "      <th>Портфель кредитов</th>\n",
       "    </tr>\n",
       "  </thead>\n",
       "  <tbody>\n",
       "    <tr>\n",
       "      <th>Количество в реестр</th>\n",
       "      <td>1.000000</td>\n",
       "      <td>-0.457915</td>\n",
       "      <td>0.027489</td>\n",
       "    </tr>\n",
       "    <tr>\n",
       "      <th>Восстановились за год</th>\n",
       "      <td>-0.457915</td>\n",
       "      <td>1.000000</td>\n",
       "      <td>-0.125513</td>\n",
       "    </tr>\n",
       "    <tr>\n",
       "      <th>Портфель кредитов</th>\n",
       "      <td>0.027489</td>\n",
       "      <td>-0.125513</td>\n",
       "      <td>1.000000</td>\n",
       "    </tr>\n",
       "  </tbody>\n",
       "</table>\n",
       "</div>"
      ],
      "text/plain": [
       "                       Количество в реестр  Восстановились за год  \\\n",
       "Количество в реестр               1.000000              -0.457915   \n",
       "Восстановились за год            -0.457915               1.000000   \n",
       "Портфель кредитов                 0.027489              -0.125513   \n",
       "\n",
       "                       Портфель кредитов  \n",
       "Количество в реестр             0.027489  \n",
       "Восстановились за год          -0.125513  \n",
       "Портфель кредитов               1.000000  "
      ]
     },
     "execution_count": 356,
     "metadata": {},
     "output_type": "execute_result"
    }
   ],
   "source": [
    "df4.corr()"
   ]
  },
  {
   "cell_type": "code",
   "execution_count": 357,
   "metadata": {},
   "outputs": [
    {
     "data": {
      "image/png": "[encoded data removed]",
      "text/plain": [
       "<Figure size 720x720 with 2 Axes>"
      ]
     },
     "metadata": {
      "needs_background": "light"
     },
     "output_type": "display_data"
    }
   ],
   "source": [
    "sns.heatmap(df4.corr(),annot=True,cmap='RdYlGn',linewidths=0.1) #data.corr()-->correlation matrix\n",
    "fig = plt.gcf()\n",
    "fig.set_size_inches(10,10)\n",
    "plt.show()"
   ]
  },
  {
   "cell_type": "code",
   "execution_count": 239,
   "metadata": {},
   "outputs": [],
   "source": [
    "import pandas as pd\n",
    "import numpy as np\n",
    "import matplotlib.pyplot as plt\n",
    "from sklearn.linear_model import LinearRegression\n",
    "from sklearn.metrics import r2_score\n",
    "import statsmodels.api as sm"
   ]
  },
  {
   "cell_type": "markdown",
   "metadata": {},
   "source": [
    "Простая линейная регрессия"
   ]
  },
  {
   "cell_type": "code",
   "execution_count": 240,
   "metadata": {},
   "outputs": [
    {
     "data": {
      "image/png": "[encoded data removed]",
      "text/plain": [
       "<Figure size 1152x576 with 1 Axes>"
      ]
     },
     "metadata": {
      "needs_background": "light"
     },
     "output_type": "display_data"
    }
   ],
   "source": [
    "plt.figure(figsize=(16, 8))\n",
    "plt.scatter(\n",
    "    df4['Портфель кредитов'],\n",
    "    df4['Восстановились за год'],\n",
    "    c='black'\n",
    ")\n",
    "plt.xlabel(\"Портфель кредитов МСП\")\n",
    "plt.ylabel(\"Восстановились за год\")\n",
    "plt.show()"
   ]
  },
  {
   "cell_type": "code",
   "execution_count": 241,
   "metadata": {},
   "outputs": [],
   "source": [
    "X= df4['Портфель кредитов'].values.reshape(-1,1)\n",
    "y = df4['Восстановились за год'].values.reshape(-1,1)\n",
    "reg = LinearRegression()"
   ]
  },
  {
   "cell_type": "code",
   "execution_count": 242,
   "metadata": {},
   "outputs": [
    {
     "name": "stdout",
     "output_type": "stream",
     "text": [
      "The linear model is: Y = 6.6849e+04 + -0.01151X\n"
     ]
    }
   ],
   "source": [
    "reg.fit(X, y)\n",
    "print(\"The linear model is: Y = {:.5} + {:.5}X\".format(reg.intercept_[0], reg.coef_[0][0]))"
   ]
  },
  {
   "cell_type": "code",
   "execution_count": 244,
   "metadata": {},
   "outputs": [
    {
     "name": "stdout",
     "output_type": "stream",
     "text": [
      "                             OLS Regression Results                            \n",
      "===============================================================================\n",
      "Dep. Variable:     Количество в реестр   R-squared:                       0.001\n",
      "Model:                             OLS   Adj. R-squared:                 -0.029\n",
      "Method:                  Least Squares   F-statistic:                   0.02571\n",
      "Date:                 Fri, 20 Nov 2020   Prob (F-statistic):              0.874\n",
      "Time:                         12:32:32   Log-Likelihood:                -479.79\n",
      "No. Observations:                   36   AIC:                             963.6\n",
      "Df Residuals:                       34   BIC:                             966.8\n",
      "Df Model:                            1                                         \n",
      "Covariance Type:             nonrobust                                         \n",
      "=====================================================================================\n",
      "                        coef    std err          t      P>|t|      [0.025      0.975]\n",
      "-------------------------------------------------------------------------------------\n",
      "const              5.943e+06   3.46e+05     17.179      0.000    5.24e+06    6.65e+06\n",
      "Портфель кредитов     0.0123      0.077      0.160      0.874      -0.143       0.168\n",
      "==============================================================================\n",
      "Omnibus:                        2.375   Durbin-Watson:                   0.670\n",
      "Prob(Omnibus):                  0.305   Jarque-Bera (JB):                1.472\n",
      "Skew:                          -0.479   Prob(JB):                        0.479\n",
      "Kurtosis:                       3.253   Cond. No.                     6.14e+07\n",
      "==============================================================================\n",
      "\n",
      "Notes:\n",
      "[1] Standard Errors assume that the covariance matrix of the errors is correctly specified.\n",
      "[2] The condition number is large, 6.14e+07. This might indicate that there are\n",
      "strong multicollinearity or other numerical problems.\n"
     ]
    }
   ],
   "source": [
    "y = df4['Количество в реестр']\n",
    "X = df4['Портфель кредитов']\n",
    "X2 = sm.add_constant(X)\n",
    "est = sm.OLS(y, X2)\n",
    "est2 = est.fit()\n",
    "print(est2.summary())"
   ]
  },
  {
   "cell_type": "markdown",
   "metadata": {},
   "source": [
    "Множественная линейная регрессия\n",
    "моделирование"
   ]
  },
  {
   "cell_type": "code",
   "execution_count": 245,
   "metadata": {},
   "outputs": [],
   "source": [
    "Xs = df4.drop(['Портфель кредитов','дата'], axis=1)\n",
    "y = df4['Портфель кредитов'].values.reshape(-1,1)\n",
    "reg = LinearRegression()"
   ]
  },
  {
   "cell_type": "code",
   "execution_count": 247,
   "metadata": {},
   "outputs": [
    {
     "name": "stdout",
     "output_type": "stream",
     "text": [
      "The linear model is: Y = 5.0407e+06 + -0.08498*Количество в реестр + -1.5582*Восстановились за год\n"
     ]
    }
   ],
   "source": [
    "reg.fit(Xs, y)\n",
    "print(\"The linear model is: Y = {:.5} + {:.5}*Количество в реестр + {:.5}*Восстановились за год\".format(reg.intercept_[0], reg.coef_[0][0], reg.coef_[0][1]))"
   ]
  },
  {
   "cell_type": "code",
   "execution_count": 249,
   "metadata": {},
   "outputs": [
    {
     "name": "stdout",
     "output_type": "stream",
     "text": [
      "                            OLS Regression Results                            \n",
      "==============================================================================\n",
      "Dep. Variable:      Портфель кредитов   R-squared:                       0.017\n",
      "Model:                            OLS   Adj. R-squared:                 -0.043\n",
      "Method:                 Least Squares   F-statistic:                    0.2835\n",
      "Date:                Fri, 20 Nov 2020   Prob (F-statistic):              0.755\n",
      "Time:                        12:32:54   Log-Likelihood:                -508.53\n",
      "No. Observations:                  36   AIC:                             1023.\n",
      "Df Residuals:                      33   BIC:                             1028.\n",
      "Df Model:                           2                                         \n",
      "Covariance Type:            nonrobust                                         \n",
      "==============================================================================\n",
      "                 coef    std err          t      P>|t|      [0.025      0.975]\n",
      "------------------------------------------------------------------------------\n",
      "const       5.041e+06   2.62e+06      1.921      0.063   -2.97e+05    1.04e+07\n",
      "x1            -0.0850      0.435     -0.195      0.846      -0.970       0.800\n",
      "x2            -1.5582      2.117     -0.736      0.467      -5.866       2.749\n",
      "==============================================================================\n",
      "Omnibus:                        5.467   Durbin-Watson:                   0.135\n",
      "Prob(Omnibus):                  0.065   Jarque-Bera (JB):                4.969\n",
      "Skew:                           0.908   Prob(JB):                       0.0834\n",
      "Kurtosis:                       2.884   Cond. No.                     2.74e+08\n",
      "==============================================================================\n",
      "\n",
      "Notes:\n",
      "[1] Standard Errors assume that the covariance matrix of the errors is correctly specified.\n",
      "[2] The condition number is large, 2.74e+08. This might indicate that there are\n",
      "strong multicollinearity or other numerical problems.\n"
     ]
    }
   ],
   "source": [
    "X = np.column_stack((df4['Количество в реестр'], df4['Восстановились за год']))\n",
    "y = df4['Портфель кредитов']\n",
    "X2 = sm.add_constant(X)\n",
    "est = sm.OLS(y, X2)\n",
    "est2 = est.fit()\n",
    "print(est2.summary())"
   ]
  },
  {
   "cell_type": "code",
   "execution_count": 278,
   "metadata": {},
   "outputs": [],
   "source": [
    "debt = df4['Портфель кредитов']\n",
    "reestr = df4['Количество в реестр']\n",
    "out = df4['Восстановились за год']"
   ]
  },
  {
   "cell_type": "code",
   "execution_count": 290,
   "metadata": {},
   "outputs": [
    {
     "data": {
      "text/html": [
       "<div>\n",
       "<style scoped>\n",
       "    .dataframe tbody tr th:only-of-type {\n",
       "        vertical-align: middle;\n",
       "    }\n",
       "\n",
       "    .dataframe tbody tr th {\n",
       "        vertical-align: top;\n",
       "    }\n",
       "\n",
       "    .dataframe thead th {\n",
       "        text-align: right;\n",
       "    }\n",
       "</style>\n",
       "<table border=\"1\" class=\"dataframe\">\n",
       "  <thead>\n",
       "    <tr style=\"text-align: right;\">\n",
       "      <th></th>\n",
       "      <th>Количество в реестр</th>\n",
       "      <th>Восстановились за год</th>\n",
       "      <th>Портфель кредитов</th>\n",
       "    </tr>\n",
       "  </thead>\n",
       "  <tbody>\n",
       "    <tr>\n",
       "      <th>Количество в реестр</th>\n",
       "      <td>1.000000</td>\n",
       "      <td>-0.457915</td>\n",
       "      <td>0.027489</td>\n",
       "    </tr>\n",
       "    <tr>\n",
       "      <th>Восстановились за год</th>\n",
       "      <td>-0.457915</td>\n",
       "      <td>1.000000</td>\n",
       "      <td>-0.125513</td>\n",
       "    </tr>\n",
       "    <tr>\n",
       "      <th>Портфель кредитов</th>\n",
       "      <td>0.027489</td>\n",
       "      <td>-0.125513</td>\n",
       "      <td>1.000000</td>\n",
       "    </tr>\n",
       "  </tbody>\n",
       "</table>\n",
       "</div>"
      ],
      "text/plain": [
       "                       Количество в реестр  Восстановились за год  \\\n",
       "Количество в реестр               1.000000              -0.457915   \n",
       "Восстановились за год            -0.457915               1.000000   \n",
       "Портфель кредитов                 0.027489              -0.125513   \n",
       "\n",
       "                       Портфель кредитов  \n",
       "Количество в реестр             0.027489  \n",
       "Восстановились за год          -0.125513  \n",
       "Портфель кредитов               1.000000  "
      ]
     },
     "execution_count": 290,
     "metadata": {},
     "output_type": "execute_result"
    }
   ],
   "source": [
    "df4.corr()"
   ]
  },
  {
   "cell_type": "code",
   "execution_count": 361,
   "metadata": {},
   "outputs": [],
   "source": [
    "debt=np.array(debt).reshape(-1,1)\n",
    "reestr=np.array(reestr).reshape(-1,1)\n",
    "out=np.array(out).reshape(-1,1)"
   ]
  },
  {
   "cell_type": "code",
   "execution_count": 362,
   "metadata": {},
   "outputs": [],
   "source": [
    "from sklearn.neighbors import KNeighborsRegressor\n",
    "from sklearn.linear_model import LinearRegression, LogisticRegression\n",
    "from sklearn.svm import SVR\n",
    "from sklearn.ensemble import RandomForestRegressor\n",
    "from sklearn.metrics import r2_score\n",
    "from pandas import read_csv, DataFrame"
   ]
  },
  {
   "cell_type": "code",
   "execution_count": 365,
   "metadata": {},
   "outputs": [],
   "source": [
    "models = [LinearRegression(), # метод наименьших квадратов\n",
    "\t      RandomForestRegressor(n_estimators=100, max_features ='sqrt'), # случайный лес\n",
    "\t      KNeighborsRegressor(n_neighbors=6), # метод ближайших соседей\n",
    "\t      SVR(kernel='linear'), # метод опорных векторов с линейным ядром\n",
    "\t      LogisticRegression() # логистическая регрессия\n",
    "\t      ]"
   ]
  },
  {
   "cell_type": "code",
   "execution_count": 366,
   "metadata": {},
   "outputs": [],
   "source": [
    "Xtrn, Xtest, Ytrn, Ytest = train_test_split(debt,reestr, test_size=0.4)"
   ]
  },
  {
   "cell_type": "code",
   "execution_count": 367,
   "metadata": {},
   "outputs": [],
   "source": [
    "#создаем временные структуры\n",
    "TestModels = DataFrame()\n",
    "tmp = {}\n",
    " #для каждой модели из списка\n",
    "for model in models:\n",
    "     #получаем имя модели\n",
    "    m = str(model)\n",
    "    tmp['Model'] = m[:m.index('(')]    \n",
    "     #для каждого столбцам результирующего набора\n",
    "    for i in range(Ytrn.shape[1]):\n",
    "         #обучаем модель\n",
    "        model.fit(Xtrn, Ytrn[:,i]) \n",
    "         #вычисляем коэффициент детерминации\n",
    "        tmp['R2_Y%s'%str(i+1)] = r2_score(Ytest[:,0], model.predict(Xtest))\n",
    "     #записываем данные и итоговый DataFrame\n",
    "    TestModels = TestModels.append([tmp])\n",
    " #делаем индекс по названию модели\n",
    "TestModels.set_index('Model', inplace=True)"
   ]
  },
  {
   "cell_type": "code",
   "execution_count": 379,
   "metadata": {},
   "outputs": [
    {
     "data": {
      "text/plain": [
       "<matplotlib.axes._subplots.AxesSubplot at 0x1e816595b08>"
      ]
     },
     "execution_count": 379,
     "metadata": {},
     "output_type": "execute_result"
    },
    {
     "data": {
      "image/png": "[encoded data removed]",
      "text/plain": [
       "<Figure size 720x288 with 1 Axes>"
      ]
     },
     "metadata": {
      "needs_background": "light"
     },
     "output_type": "display_data"
    }
   ],
   "source": [
    "fig, axes = plt.subplots( figsize=(10,4))\n",
    "TestModels.R2_Y1.plot(ax=axes, kind='bar', title='Портфель кредитов субъектов МСП и количество МСП в едином реестре')"
   ]
  },
  {
   "cell_type": "markdown",
   "metadata": {},
   "source": [
    "Посмотрим какая модель показала лучший результат:"
   ]
  },
  {
   "cell_type": "code",
   "execution_count": 380,
   "metadata": {},
   "outputs": [
    {
     "data": {
      "text/html": [
       "<div>\n",
       "<style scoped>\n",
       "    .dataframe tbody tr th:only-of-type {\n",
       "        vertical-align: middle;\n",
       "    }\n",
       "\n",
       "    .dataframe tbody tr th {\n",
       "        vertical-align: top;\n",
       "    }\n",
       "\n",
       "    .dataframe thead th {\n",
       "        text-align: right;\n",
       "    }\n",
       "</style>\n",
       "<table border=\"1\" class=\"dataframe\">\n",
       "  <thead>\n",
       "    <tr style=\"text-align: right;\">\n",
       "      <th></th>\n",
       "      <th>R2_Y1</th>\n",
       "    </tr>\n",
       "    <tr>\n",
       "      <th>Model</th>\n",
       "      <th></th>\n",
       "    </tr>\n",
       "  </thead>\n",
       "  <tbody>\n",
       "    <tr>\n",
       "      <th>LinearRegression</th>\n",
       "      <td>-0.158530</td>\n",
       "    </tr>\n",
       "    <tr>\n",
       "      <th>RandomForestRegressor</th>\n",
       "      <td>0.392300</td>\n",
       "    </tr>\n",
       "    <tr>\n",
       "      <th>KNeighborsRegressor</th>\n",
       "      <td>0.254519</td>\n",
       "    </tr>\n",
       "    <tr>\n",
       "      <th>SVR</th>\n",
       "      <td>-53.250275</td>\n",
       "    </tr>\n",
       "    <tr>\n",
       "      <th>LogisticRegression</th>\n",
       "      <td>-0.096891</td>\n",
       "    </tr>\n",
       "  </tbody>\n",
       "</table>\n",
       "</div>"
      ],
      "text/plain": [
       "                           R2_Y1\n",
       "Model                           \n",
       "LinearRegression       -0.158530\n",
       "RandomForestRegressor   0.392300\n",
       "KNeighborsRegressor     0.254519\n",
       "SVR                   -53.250275\n",
       "LogisticRegression     -0.096891"
      ]
     },
     "execution_count": 380,
     "metadata": {},
     "output_type": "execute_result"
    }
   ],
   "source": [
    "TestModels"
   ]
  },
  {
   "cell_type": "code",
   "execution_count": 370,
   "metadata": {},
   "outputs": [],
   "source": [
    "X_train, X_test, Y_train, Y_test = train_test_split(reestr, debt, random_state=0)"
   ]
  },
  {
   "cell_type": "code",
   "execution_count": 371,
   "metadata": {},
   "outputs": [],
   "source": [
    "classifier = LogisticRegression(solver='lbfgs',random_state=0)"
   ]
  },
  {
   "cell_type": "code",
   "execution_count": 372,
   "metadata": {},
   "outputs": [
    {
     "name": "stderr",
     "output_type": "stream",
     "text": [
      "C:\\Users\\sue-z\\Anaconda3\\lib\\site-packages\\sklearn\\utils\\validation.py:72: DataConversionWarning: A column-vector y was passed when a 1d array was expected. Please change the shape of y to (n_samples, ), for example using ravel().\n",
      "  return f(**kwargs)\n"
     ]
    },
    {
     "data": {
      "text/plain": [
       "LogisticRegression(random_state=0)"
      ]
     },
     "execution_count": 372,
     "metadata": {},
     "output_type": "execute_result"
    }
   ],
   "source": [
    "classifier.fit(X_train, Y_train)"
   ]
  },
  {
   "cell_type": "code",
   "execution_count": 373,
   "metadata": {},
   "outputs": [
    {
     "data": {
      "text/plain": [
       "LogisticRegression(multi_class='warn', random_state=0)"
      ]
     },
     "execution_count": 373,
     "metadata": {},
     "output_type": "execute_result"
    }
   ],
   "source": [
    "LogisticRegression(C = 1.0, class_weight = None, dual = False, \n",
    "   fit_intercept=True, intercept_scaling=1, max_iter=100, \n",
    "   multi_class='warn', n_jobs=None, penalty='l2', random_state=0, \n",
    "   solver='lbfgs', tol=0.0001, verbose=0, warm_start=False)"
   ]
  },
  {
   "cell_type": "code",
   "execution_count": 374,
   "metadata": {},
   "outputs": [],
   "source": [
    "predicted_y = classifier.predict(X_test)"
   ]
  },
  {
   "cell_type": "code",
   "execution_count": 375,
   "metadata": {},
   "outputs": [
    {
     "data": {
      "text/plain": [
       "array([4455319, 4455319, 4455319, 4455319, 4455319, 4455319, 4455319,\n",
       "       4455319, 4455319], dtype=int64)"
      ]
     },
     "execution_count": 375,
     "metadata": {},
     "output_type": "execute_result"
    }
   ],
   "source": [
    "predicted_y"
   ]
  },
  {
   "cell_type": "code",
   "execution_count": null,
   "metadata": {},
   "outputs": [],
   "source": []
  }
 ],
 "metadata": {
  "kernelspec": {
   "display_name": "Python 3",
   "language": "python",
   "name": "python3"
  },
  "language_info": {
   "codemirror_mode": {
    "name": "ipython",
    "version": 3
   },
   "file_extension": ".py",
   "mimetype": "text/x-python",
   "name": "python",
   "nbconvert_exporter": "python",
   "pygments_lexer": "ipython3",
   "version": "3.7.4"
  }
 },
 "nbformat": 4,
 "nbformat_minor": 4
}
