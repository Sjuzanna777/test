{
 "cells": [
  {
   "cell_type": "code",
   "execution_count": 1,
   "metadata": {},
   "outputs": [],
   "source": [
    "#Задание 1. Дан список с визитами по городам и странам. \n",
    "#Напишите код, который возвращает отфильтрованный список geo_logs, содержащий только визиты из России.\n",
    "\n",
    "geo_logs = [\n",
    "    {'visit1': ['Москва', 'Россия']},\n",
    "    {'visit2': ['Дели', 'Индия']},\n",
    "    {'visit3': ['Владимир', 'Россия']},\n",
    "    {'visit4': ['Лиссабон', 'Португалия']},\n",
    "    {'visit5': ['Париж', 'Франция']},\n",
    "    {'visit6': ['Лиссабон', 'Португалия']},\n",
    "    {'visit7': ['Тула', 'Россия']},\n",
    "    {'visit8': ['Тула', 'Россия']},\n",
    "    {'visit9': ['Курск', 'Россия']},\n",
    "    {'visit10': ['Архангельск', 'Россия']}\n",
    "]\n"
   ]
  },
  {
   "cell_type": "code",
   "execution_count": 2,
   "metadata": {},
   "outputs": [
    {
     "name": "stdout",
     "output_type": "stream",
     "text": [
      "{'visit1': ['Москва', 'Россия']}\n",
      "{'visit3': ['Владимир', 'Россия']}\n",
      "{'visit7': ['Тула', 'Россия']}\n",
      "{'visit8': ['Тула', 'Россия']}\n",
      "{'visit9': ['Курск', 'Россия']}\n",
      "{'visit10': ['Архангельск', 'Россия']}\n"
     ]
    }
   ],
   "source": [
    "for visits in geo_logs:\n",
    "    for visiter,[City,Country] in visits.items():\n",
    "        if Country == 'Россия':\n",
    "            print (visits)"
   ]
  },
  {
   "cell_type": "code",
   "execution_count": 3,
   "metadata": {},
   "outputs": [
    {
     "name": "stdout",
     "output_type": "stream",
     "text": [
      "[98, 35, 15, 213, 54, 119]\n"
     ]
    }
   ],
   "source": [
    "# Задание 2. Выведите на экран все уникальные гео-ID из значений словаря ids.\n",
    "# Т. е. список вида [213, 15, 54, 119, 98, 35]\n",
    "\n",
    "\n",
    "ids = {'user1': [213, 213, 213, 15, 213], \n",
    "       'user2': [54, 54, 119, 119, 119], \n",
    "       'user3': [213, 98, 98, 35]}\n",
    "\n",
    "ids_unique = set()\n",
    "for users in ids.values():\n",
    "    for geo_ids in users:\n",
    "        ids_unique.add(geo_ids)\n",
    "print(list(ids_unique))"
   ]
  },
  {
   "cell_type": "code",
   "execution_count": 83,
   "metadata": {},
   "outputs": [
    {
     "name": "stdout",
     "output_type": "stream",
     "text": [
      "2 слов - 43%\n",
      "3 слов - 57%\n"
     ]
    }
   ],
   "source": [
    "# Задание 3. Дан список поисковых запросов. Получить распределение количества слов в них т. е. \n",
    "# поисковых запросов из одного - слова 5%, из двух - 7%, из трех - 3% и т.д.\n",
    "\n",
    "queries = [\n",
    "    'смотреть сериалы онлайн',\n",
    "    'новости спорта',\n",
    "    'афиша кино',\n",
    "    'курс доллара',\n",
    "    'сериалы этим летом',\n",
    "    'курс по питону',\n",
    "    'сериалы про спорт',\n",
    "]\n",
    "\n",
    "\n",
    "word_count = list()\n",
    "words = list()\n",
    "\n",
    "for i in range(len(queries)):\n",
    "    word_count.append(len(queries[i].split()))\n",
    "    words.append(len(queries[i].split()))\n",
    "word_count = list(set(word_count))\n",
    "\n",
    "for j in range(len(word_count)):\n",
    "    c = 0\n",
    "    for k in range(len(words)):\n",
    "        if words[k] == word_count[j]:\n",
    "            c += 1\n",
    "            k += 1\n",
    "        else:\n",
    "            k += 1\n",
    "    print(str(word_count[j]) + ' слов - ' + str(round(c/len(words)*100)) + '%')\n",
    "    j += 1"
   ]
  },
  {
   "cell_type": "code",
   "execution_count": 86,
   "metadata": {},
   "outputs": [
    {
     "name": "stdout",
     "output_type": "stream",
     "text": [
      "yandex 120\n"
     ]
    }
   ],
   "source": [
    "# Задание 4. Дана статистика рекламных каналов по объемам продаж. \n",
    "# Напишите скрипт, который возвращает название канала с максимальным объемом. \n",
    "# Т. е. в данном примере скрипт должен возвращать 'yandex'.\n",
    "\n",
    "\n",
    "stats = {'facebook': 55, 'yandex': 120, 'vk': 115, 'google': 99, 'email': 42, 'ok': 98}\n",
    "\n",
    "max_chan = ''\n",
    "for chan in stats.keys():\n",
    "    if stats[chan]> stats.get(max_chan,0):\n",
    "        max_chan = chan\n",
    "print(max_chan, stats[max_chan])"
   ]
  },
  {
   "cell_type": "code",
   "execution_count": 85,
   "metadata": {},
   "outputs": [
    {
     "name": "stdout",
     "output_type": "stream",
     "text": [
      " {'2018-01-01': {'yandex': {'cpc': 100}}}\n"
     ]
    }
   ],
   "source": [
    "# Задание 5. Напишите код для преобразования произвольного списка вида ['2018-01-01', 'yandex', 'cpc', 100] \n",
    "# (он может быть любой длины) в словарь {'2018-01-01': {'yandex': {'cpc': 100}}}\n",
    "list = ['2018-01-01', 'yandex', 'cpc', 100] \n",
    "\n",
    "def convert(list):\n",
    "    length = len(list)\n",
    "\n",
    "    if length == 2:\n",
    "        return {list[0]: list[1]}\n",
    "    elif length > 2:\n",
    "        return {list[0]: convert(list[1::])}\n",
    "   \n",
    "        \n",
    "print(f\" {convert(list)}\")\n"
   ]
  }
 ],
 "metadata": {
  "kernelspec": {
   "display_name": "Python 3",
   "language": "python",
   "name": "python3"
  },
  "language_info": {
   "codemirror_mode": {
    "name": "ipython",
    "version": 3
   },
   "file_extension": ".py",
   "mimetype": "text/x-python",
   "name": "python",
   "nbconvert_exporter": "python",
   "pygments_lexer": "ipython3",
   "version": "3.7.4"
  }
 },
 "nbformat": 4,
 "nbformat_minor": 2
}
