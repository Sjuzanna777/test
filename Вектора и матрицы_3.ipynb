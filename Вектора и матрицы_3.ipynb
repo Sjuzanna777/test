{
 "cells": [
  {
   "cell_type": "code",
   "execution_count": 27,
   "metadata": {},
   "outputs": [],
   "source": [
    "import numpy as np\n",
    "\n",
    "import pandas as pd\n",
    "import matplotlib.pyplot as plt\n",
    "import pylab\n",
    "import matplotlib.ticker as ticker"
   ]
  },
  {
   "cell_type": "markdown",
   "metadata": {},
   "source": [
    "###### Задание 1\n",
    "Изобразите с помощью matplotlib. Изобразите точку x + 2y + 3z. Найдите угол между векторами x, y и x, z.\n",
    "x = np.array([1,1])\n",
    "y = np.array([2, 0])\n",
    "z = np.array([0,2])"
   ]
  },
  {
   "cell_type": "code",
   "execution_count": 17,
   "metadata": {},
   "outputs": [],
   "source": [
    "x = np.array([1,1])\n",
    "y = np.array([2, 0])\n",
    "z = np.array([0,2])"
   ]
  },
  {
   "cell_type": "code",
   "execution_count": 48,
   "metadata": {},
   "outputs": [
    {
     "name": "stdout",
     "output_type": "stream",
     "text": [
      "[5 7]\n"
     ]
    }
   ],
   "source": [
    "m = np.array(x + 2*y + 3*z)\n",
    "print(m)"
   ]
  },
  {
   "cell_type": "code",
   "execution_count": 53,
   "metadata": {},
   "outputs": [
    {
     "data": {
      "image/png": "[encoded data removed]",
      "text/plain": [
       "<Figure size 432x288 with 1 Axes>"
      ]
     },
     "metadata": {
      "needs_background": "light"
     },
     "output_type": "display_data"
    }
   ],
   "source": [
    "plt.arrow(0,0, m[0], m[1],head_width = 0.1, head_length = 0.1)\n",
    "plt.ylim(0,8)\n",
    "plt.xlim(0,8)\n",
    "plt.show()"
   ]
  },
  {
   "cell_type": "code",
   "execution_count": 6,
   "metadata": {},
   "outputs": [
    {
     "data": {
      "text/plain": [
       "45.00000000000001"
      ]
     },
     "execution_count": 6,
     "metadata": {},
     "output_type": "execute_result"
    }
   ],
   "source": [
    "def cos_x_y( x, y ):\n",
    "    \"\"\"\n",
    "    Подсчет косинуса угла между векторами x, y по их координатам\n",
    "    \"\"\"\n",
    "    \n",
    "    # длины векторов\n",
    "    xLength = np.linalg.norm( x )\n",
    "    yLength = np.linalg.norm( y )\n",
    "    \n",
    "    return np.dot( x, y ) / ( xLength * yLength )\n",
    "\n",
    "np.arccos( cos_x_y( x, y ) ) * 360 / 2 / np.pi"
   ]
  },
  {
   "cell_type": "code",
   "execution_count": 7,
   "metadata": {},
   "outputs": [],
   "source": [
    "def cos_x_z( x, z ):\n",
    "    \"\"\"\n",
    "    Подсчет косинуса угла между векторами x, z по их координатам\n",
    "    \"\"\"\n",
    "    \n",
    "    # длины векторов\n",
    "    xLength = np.linalg.norm( x )\n",
    "    zLength = np.linalg.norm( z )\n",
    "    \n",
    "    return np.dot( x, z ) / ( xLength * zLength )"
   ]
  },
  {
   "cell_type": "code",
   "execution_count": 8,
   "metadata": {},
   "outputs": [
    {
     "data": {
      "text/plain": [
       "45.00000000000001"
      ]
     },
     "execution_count": 8,
     "metadata": {},
     "output_type": "execute_result"
    }
   ],
   "source": [
    "np.arccos( cos_x_z( x, z ) ) * 360 / 2 / np.pi"
   ]
  },
  {
   "cell_type": "markdown",
   "metadata": {},
   "source": [
    "###### Задание 2\n",
    "\n",
    "Найдите собственные значения и собственные вектора матриц (необходимо решение на numpy и решение по алгоритму на бумажке). Для матрицы 3x3 можно посмотреть на корни характеристического многочлена, посчитанные в numpy.\n"
   ]
  },
  {
   "cell_type": "code",
   "execution_count": 9,
   "metadata": {},
   "outputs": [],
   "source": [
    "m1 = np.array([[2, 2],\n",
    "               [1, 3]])\n",
    "\n",
    "m2 = np.array([[4, 1, -1],\n",
    "               [1, 4, -1],\n",
    "               [-1, -1, 4]])"
   ]
  },
  {
   "cell_type": "code",
   "execution_count": 10,
   "metadata": {},
   "outputs": [
    {
     "name": "stdout",
     "output_type": "stream",
     "text": [
      "Собственное значение вектора m1 1.0\n",
      "соответствующий ему собственный вектор  [-0.89442719  0.4472136 ]\n",
      "Собственное значение вектора m1 4.0\n",
      "соответствующий ему собственный вектор  [-0.70710678 -0.70710678]\n"
     ]
    }
   ],
   "source": [
    "w, v = np.linalg.eig(m1)\n",
    "for i in range(len(w)):\n",
    "    print(\"Собственное значение вектора m1 \" + str(w[i]))\n",
    "    print(\"соответствующий ему собственный вектор  \" + str(v[:,i]))"
   ]
  },
  {
   "cell_type": "code",
   "execution_count": 11,
   "metadata": {},
   "outputs": [
    {
     "name": "stdout",
     "output_type": "stream",
     "text": [
      "Собственное значение вектора m2 2.999999999999999\n",
      "соответствующий ему собственный вектор [-0.81649658  0.40824829 -0.40824829]\n",
      "Собственное значение вектора m2 5.999999999999997\n",
      "соответствующий ему собственный вектор [ 0.57735027  0.57735027 -0.57735027]\n",
      "Собственное значение вектора m2 2.9999999999999996\n",
      "соответствующий ему собственный вектор [-0.27658128  0.8035929   0.52701162]\n"
     ]
    }
   ],
   "source": [
    "d, c = np.linalg.eig(m2)\n",
    "for n in range(len(d)):\n",
    "    print(\"Собственное значение вектора m2 \" + str(d[n]))\n",
    "    print(\"соответствующий ему собственный вектор \" + str(c[:,n]))"
   ]
  },
  {
   "cell_type": "code",
   "execution_count": null,
   "metadata": {},
   "outputs": [],
   "source": []
  },
  {
   "cell_type": "markdown",
   "metadata": {},
   "source": [
    "###### Задание 3\n",
    "Найдите сингулярное разложение матрицы."
   ]
  },
  {
   "cell_type": "code",
   "execution_count": 12,
   "metadata": {},
   "outputs": [],
   "source": [
    "m3 = np.array([[1, 2],\n",
    "               [2, 3]])"
   ]
  },
  {
   "cell_type": "code",
   "execution_count": 13,
   "metadata": {},
   "outputs": [
    {
     "data": {
      "text/plain": [
       "(array([[-0.52573111, -0.85065081],\n",
       "        [-0.85065081,  0.52573111]]),\n",
       " array([4.23606798, 0.23606798]),\n",
       " array([[-0.52573111, -0.85065081],\n",
       "        [ 0.85065081, -0.52573111]]))"
      ]
     },
     "execution_count": 13,
     "metadata": {},
     "output_type": "execute_result"
    }
   ],
   "source": [
    "np.linalg.svd(m3, full_matrices = True, compute_uv = True)"
   ]
  }
 ],
 "metadata": {
  "kernelspec": {
   "display_name": "Python 3",
   "language": "python",
   "name": "python3"
  },
  "language_info": {
   "codemirror_mode": {
    "name": "ipython",
    "version": 3
   },
   "file_extension": ".py",
   "mimetype": "text/x-python",
   "name": "python",
   "nbconvert_exporter": "python",
   "pygments_lexer": "ipython3",
   "version": "3.7.4"
  }
 },
 "nbformat": 4,
 "nbformat_minor": 2
}
