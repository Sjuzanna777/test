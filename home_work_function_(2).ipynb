{
 "cells": [
  {
   "cell_type": "markdown",
   "metadata": {},
   "source": [
    "Вы работаете секретарем и вам постоянно приходят различные документы. Вы должны быть очень внимательны, чтобы не потерять ни один документ. Каталог документов хранится в следующем виде:"
   ]
  },
  {
   "cell_type": "code",
   "execution_count": 12,
   "metadata": {},
   "outputs": [],
   "source": [
    "documents = [\n",
    "    {'type': 'passport', 'number': '2207 876234', 'name': 'Василий Гупкин'},\n",
    "    {'type': 'invoice', 'number': '11-2', 'name': 'Геннадий Покемонов'},\n",
    "    {'type': 'insurance', 'number': '10006', 'name': 'Аристарх Павлов'}\n",
    "]\n"
   ]
  },
  {
   "cell_type": "code",
   "execution_count": 42,
   "metadata": {},
   "outputs": [],
   "source": [
    "# Перечень полок, на которых находятся документы хранится в следующем виде:\n",
    "\n",
    "directories = {\n",
    "    '1': ['2207 876234', '11-2'],\n",
    "    '2': ['10006'],\n",
    "    '3': []\n",
    "}\n"
   ]
  },
  {
   "cell_type": "code",
   "execution_count": 19,
   "metadata": {},
   "outputs": [
    {
     "name": "stdout",
     "output_type": "stream",
     "text": [
      "['2207 876234', '11-2']\n",
      "['10006']\n",
      "[]\n"
     ]
    }
   ],
   "source": [
    "for place, document  in directories.items():\n",
    "        print(document)"
   ]
  },
  {
   "cell_type": "markdown",
   "metadata": {},
   "source": [
    "Необходимо реализовать пользовательские команды (внимание! это не название функций, которые должны быть выразительными, а команды, которые вводит пользователь, чтобы получить необходимый результат):\n",
    "\n",
    "    p – people – команда, которая спросит номер документа и выведет имя человека, которому он принадлежит;\n",
    "    s – shelf – команда, которая спросит номер документа и выведет номер полки, на которой он находится\n",
    "    Правильно обработайте ситуацию, когда пользователь будет вводить несуществующий документ.\n",
    "    l – list – команда, которая выведет список всех документов в формате\n",
    "    passport \"2207 876234\" \"Василий Гупкин\"\n",
    "    as – add shelf – команда, которая спросит номер новой полки и добавит ее в перечень\n",
    "    d – delete – команда, которая спросит номер документа и удалит его из каталога и из перечня полок. Предусмотрите сценарий, когда пользователь вводит несуществующий документ;\n",
    "    m – move – команда, которая спросит номер документа и целевую полку и переместит его с текущей полки на целевую. Корректно обработайте кейсы, когда пользователь пытается переместить несуществующий документ или переместить документ на несуществующую полку;\n",
    "    a – add – команда, которая добавит новый документ в каталог и в перечень полок, спросив его номер, тип, имя владельца и номер полки, на котором он будет храниться.\n",
    "\n"
   ]
  },
  {
   "cell_type": "code",
   "execution_count": 3,
   "metadata": {},
   "outputs": [],
   "source": [
    "# p – people – команда, которая спросит номер документа и выведет имя человека, которому он принадлежит;\n",
    "def people():\n",
    "    numbers = input('Введите номер документа ')\n",
    "    for doc_numbers in documents:\n",
    "        if doc_numbers[\"number\"] == numbers:\n",
    "            print(doc_numbers[\"name\"])\n",
    "            break\n",
    "    else:\n",
    "        print('Такого номера документа нет в базе.')"
   ]
  },
  {
   "cell_type": "code",
   "execution_count": 4,
   "metadata": {},
   "outputs": [],
   "source": [
    "# s – shelf – команда, которая спросит номер документа и выведет номер полки, на которой он находится\n",
    "# Правильно обработайте ситуацию, когда пользователь будет вводить несуществующий документ.\n",
    "\n",
    "def shelf():\n",
    "    num = input('Введите номер документа')\n",
    "    for shelf, numbers_doc in directories.items():\n",
    "        if num in numbers_doc:\n",
    "            print('Данный документ лежит на полке № '+ shelf)\n",
    "            break\n",
    "    else:\n",
    "            print(\"Документ в существующих папках не найден\")"
   ]
  },
  {
   "cell_type": "code",
   "execution_count": 5,
   "metadata": {},
   "outputs": [],
   "source": [
    "# l – list – команда, которая выведет список всех документов в формате\n",
    "# passport \"2207 876234\" \"Василий Гупкин\"\n",
    "\n",
    "def p_list():\n",
    "    for persons in documents:\n",
    "        print(persons['type'], '\"' + persons['number'] + '\"', '\"' + persons['name'] + '\"')"
   ]
  },
  {
   "cell_type": "code",
   "execution_count": 6,
   "metadata": {},
   "outputs": [],
   "source": [
    "# as – add shelf – команда, которая спросит номер новой полки и добавит ее в перечень\n",
    "\n",
    "def add_shelf():\n",
    "    shelf_number = input('Введите номер папки ')\n",
    "    for shelves in directories.keys():\n",
    "        if shelf_number in shelves:\n",
    "            print('Папка уже существует')\n",
    "            break\n",
    "    else:\n",
    "        directories[shelf_number]=[]"
   ]
  },
  {
   "cell_type": "code",
   "execution_count": 7,
   "metadata": {},
   "outputs": [],
   "source": [
    "# функция удаления документа\n",
    "def delete_doc():\n",
    "    print('Удаление документа')\n",
    "    doc_number = input('Введите номер документа ')\n",
    "    for num in documents:\n",
    "        if num['number'] == doc_number:\n",
    "            documents.remove(num)\n",
    "    else:\n",
    "        print('документ не найден')    \n",
    "        for directories_value in directories.values():\n",
    "            if doc_number in directories_value:\n",
    "                directories_value.remove(doc_number)"
   ]
  },
  {
   "cell_type": "code",
   "execution_count": 47,
   "metadata": {},
   "outputs": [],
   "source": [
    "# функция перемещение документа\n",
    "def move_doc():\n",
    "    doc_number = input('ведите номер документа ')\n",
    "    shelf = input('ведите номер полки хранения ')    \n",
    "    i=0\n",
    "    if shelf not in directories.keys():\n",
    "        print('Введенной полки не существует')\n",
    "    else:\n",
    "        for row in directories.values():\n",
    "            if doc_number in row:\n",
    "                list_documents = row\n",
    "                list_documents.remove(doc_number)\n",
    "                directories[shelf].append([doc_number])\n",
    "                i+=1\n",
    "    if i==0:\n",
    "        print('Документа нет')\n",
    "        directories.setdefault(shelf, doc_number)\n",
    "       \n",
    "        print(directories)"
   ]
  },
  {
   "cell_type": "code",
   "execution_count": 49,
   "metadata": {},
   "outputs": [
    {
     "name": "stdout",
     "output_type": "stream",
     "text": [
      "{'1': ['2207 876234', '11-2'], '2': [], '3': [['10006']]}\n"
     ]
    }
   ],
   "source": [
    "# функция добавления нового документа\n",
    "def add_doc(): \n",
    "    number_doc = input('ведите номер документа ')\n",
    "    shelf = input('ведите номер полки ') \n",
    "    type_doc = input('ведите тип документа ')\n",
    "    name_doc = input('ведите имя владельца документа ')  \n",
    "#     doc_data.append({type_doc, number_doc, name_doc})\n",
    "    for place, document  in directories.items():\n",
    "        if shelf in place:\n",
    "            document.append([number_doc])            \n",
    "        else:\n",
    "            directories.setdefault(shelf, number_doc)\n",
    "\n",
    "print(directories)"
   ]
  },
  {
   "cell_type": "code",
   "execution_count": null,
   "metadata": {},
   "outputs": [],
   "source": [
    "user_command = input('Введите команду:   ')  \n",
    "\n",
    "if user_command == 'p':\n",
    "    people()\n",
    "elif user_command == 's':\n",
    "    shelf()\n",
    "elif user_command == 'l':\n",
    "    p_list()\n",
    "elif user_command == 'as':\n",
    "    add_shelf()\n",
    "elif user_command == 'd':\n",
    "    delete_doc()\n",
    "elif user_command == 'm':\n",
    "    move_doc()    \n",
    "elif user_command == 'a':\n",
    "    add_doc()  "
   ]
  }
 ],
 "metadata": {
  "kernelspec": {
   "display_name": "Python 3",
   "language": "python",
   "name": "python3"
  },
  "language_info": {
   "codemirror_mode": {
    "name": "ipython",
    "version": 3
   },
   "file_extension": ".py",
   "mimetype": "text/x-python",
   "name": "python",
   "nbconvert_exporter": "python",
   "pygments_lexer": "ipython3",
   "version": "3.7.4"
  }
 },
 "nbformat": 4,
 "nbformat_minor": 2
}
